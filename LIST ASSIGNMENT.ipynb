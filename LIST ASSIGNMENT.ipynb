{
 "cells": [
  {
   "cell_type": "markdown",
   "id": "cea76fea-fd84-4aa1-9248-3a7e281b77be",
   "metadata": {},
   "source": [
    "#### LIST ASSIGNMENT\n",
    "#1 Write a Program to interchange first and last elements in a list\n",
    "my_list = [5,10,15,20,25]\n",
    "\n",
    "my_list[0], my_list[-1] = my_list[-1], my_list[0]\n",
    "\n",
    "print(\"List after swapping first and last elements:\", my_list)"
   ]
  },
  {
   "cell_type": "code",
   "execution_count": 17,
   "id": "c0a965cb-b9f1-403a-b35e-0aad15d03db1",
   "metadata": {},
   "outputs": [
    {
     "name": "stdout",
     "output_type": "stream",
     "text": [
      "[23, 90, 19, 65]\n"
     ]
    }
   ],
   "source": [
    "#2 WAP to swap two elements in a list\n",
    "a = [23, 65, 19, 90]\n",
    "\n",
    "a[1], a[3] = a[3], a[1]\n",
    "\n",
    "print(a)"
   ]
  },
  {
   "cell_type": "code",
   "execution_count": 19,
   "id": "1cab7683-da3c-4df4-bd03-99863e3bc530",
   "metadata": {},
   "outputs": [
    {
     "name": "stdout",
     "output_type": "stream",
     "text": [
      "The original list is : ['BANYAN', 'is', 'A', 'TREE']\n",
      "List after performing character swaps : ['RANYAN', 'is', 'A', 'TREE']\n"
     ]
    }
   ],
   "source": [
    "#3 WAP to swap elements in a string list\n",
    "\n",
    "L1 = ['BANYAN', 'is',  'A', 'TREE']\n",
    "\n",
    "\n",
    "print(\"The original list is : \" + str(L1))\n",
    "\n",
    "\n",
    "X = [sub.replace('B', '-').replace('I', 'B').replace('-', 'R') for sub in L1]\n",
    "\n",
    "\n",
    "print (\"List after performing character swaps : \" + str(X))\n",
    "\n"
   ]
  },
  {
   "cell_type": "code",
   "execution_count": 23,
   "id": "e55e439a-f361-48be-ae01-8a5632962fe3",
   "metadata": {},
   "outputs": [
    {
     "name": "stdout",
     "output_type": "stream",
     "text": [
      "2\n"
     ]
    }
   ],
   "source": [
    "#4 Ways to find length of a list\n",
    " #using LEN()\n",
    "a = [\"drishti\",\"banana\"]\n",
    "length = len(a)\n",
    "print(length)"
   ]
  },
  {
   "cell_type": "code",
   "execution_count": 25,
   "id": "180714bf-5af3-4bad-91b3-9884d3555018",
   "metadata": {},
   "outputs": [
    {
     "name": "stdout",
     "output_type": "stream",
     "text": [
      "5\n"
     ]
    }
   ],
   "source": [
    "#using LOOP\n",
    "a = [10,20,30,40,50]\n",
    "\n",
    "count = 0\n",
    "\n",
    "for val in a:\n",
    "  \n",
    "    \n",
    "    count += 1\n",
    "\n",
    "print(count)"
   ]
  },
  {
   "cell_type": "code",
   "execution_count": 35,
   "id": "0f0671e3-4bed-4ae1-9272-1f8a7359e261",
   "metadata": {},
   "outputs": [
    {
     "name": "stdout",
     "output_type": "stream",
     "text": [
      "5\n"
     ]
    }
   ],
   "source": [
    "#Using length_hint()\n",
    "\n",
    "from operator import length_hint\n",
    "\n",
    "a = [1, 2, 3, 4, 5]\n",
    "length = length_hint(a)\n",
    "print(length) "
   ]
  },
  {
   "cell_type": "code",
   "execution_count": 43,
   "id": "545c283f-3513-45f8-81ae-c1cf3790ed36",
   "metadata": {},
   "outputs": [
    {
     "name": "stdout",
     "output_type": "stream",
     "text": [
      "45\n"
     ]
    }
   ],
   "source": [
    "#5 Maximum of 2 numbers in python \n",
    "def maximum(x,y):\n",
    "    \n",
    "    if x >= y:\n",
    "        return x\n",
    "    else:\n",
    "        return y\n",
    "    \n",
    "\n",
    "x = 45\n",
    "y = 40\n",
    "print(maximum(x,y))"
   ]
  },
  {
   "cell_type": "code",
   "execution_count": 41,
   "id": "6b175aed-2114-4953-8233-cf5fda39135f",
   "metadata": {},
   "outputs": [
    {
     "name": "stdout",
     "output_type": "stream",
     "text": [
      "5\n"
     ]
    }
   ],
   "source": [
    "#6 Minimum of 2 numbers in python\n",
    "def minimum(a, b):\n",
    "     \n",
    "    if a <= b:\n",
    "        return a\n",
    "    else:\n",
    "        return b\n",
    "     \n",
    "# Driver code\n",
    "a = 5\n",
    "b = 8\n",
    "print(minimum(a, b))"
   ]
  },
  {
   "cell_type": "code",
   "execution_count": 45,
   "id": "9d82725c-426a-4b8d-8bf3-0ca988bf6b16",
   "metadata": {},
   "outputs": [
    {
     "name": "stdout",
     "output_type": "stream",
     "text": [
      "Element exists in the list\n"
     ]
    }
   ],
   "source": [
    "#7 ways to check if element exists in a list\n",
    "a = [50,45,87,22]\n",
    "\n",
    "if 87 in a:\n",
    "    print(\"Element exists in the list\")\n",
    "else:\n",
    "    print(\"Element does not exist\")"
   ]
  },
  {
   "cell_type": "code",
   "execution_count": 47,
   "id": "3adc9653-8e39-46ea-be86-e93e64c6210b",
   "metadata": {},
   "outputs": [
    {
     "name": "stdout",
     "output_type": "stream",
     "text": [
      "l1 before clear: [5, 0, 6, 7]\n",
      "l1 after clear: []\n"
     ]
    }
   ],
   "source": [
    "#8 different ways to clear a list in python \n",
    " #Clear a List using Python List clear()\n",
    "l1 = [5,0,6,7]\n",
    "print('l1 before clear:', l1)\n",
    "\n",
    "l1.clear()\n",
    "print('l1 after clear:', l1)\n"
   ]
  },
  {
   "cell_type": "code",
   "execution_count": 49,
   "id": "df6180b6-cd42-4ee9-a7ed-38e42fbea669",
   "metadata": {},
   "outputs": [
    {
     "name": "stdout",
     "output_type": "stream",
     "text": [
      "l2 before deleting is : [10, 20, 30]\n",
      "L2 after clearing using reinitialization : []\n"
     ]
    }
   ],
   "source": [
    "#Clear a List by Reinitializing the List\n",
    "l2 = [10,20,30]\n",
    "\n",
    "print(\"l2 before deleting is : \"\n",
    "      + str(l2))\n",
    "\n",
    "l2 = []\n",
    "\n",
    "print(\"L2 after clearing using reinitialization : \"\n",
    "      + str(l2))\n"
   ]
  },
  {
   "cell_type": "code",
   "execution_count": 53,
   "id": "51c72131-8973-482f-86dd-a01de4358a5a",
   "metadata": {},
   "outputs": [
    {
     "name": "stdout",
     "output_type": "stream",
     "text": [
      "l3 before clearing is : [66, 77, 88]\n",
      "l3 after clearing using *=0 : []\n"
     ]
    }
   ],
   "source": [
    "#Clearing a Python List Using “*= 0”\n",
    "\n",
    "l3 = [66,77,88]\n",
    "\n",
    "print(\"l3 before clearing is : \"\n",
    "      + str(l3))\n",
    "\n",
    "l3*=0\n",
    "\n",
    "print(\"l3 after clearing using *=0 : \"\n",
    "      + str(l3))"
   ]
  },
  {
   "cell_type": "code",
   "execution_count": 57,
   "id": "461d451c-5b86-49df-b023-3c16ebcbe156",
   "metadata": {},
   "outputs": [
    {
     "name": "stdout",
     "output_type": "stream",
     "text": [
      "l1 before deleting is : [5, 0, 6, 7]\n",
      "l1 after clearing using del : []\n",
      "l2 before deleting is : [10, 20, 30]\n",
      "l2 after clearing using del : []\n"
     ]
    }
   ],
   "source": [
    "#Clearing a List Using del\n",
    "l1 = [5,0,6,7]\n",
    "l2 = [10,20,30]\n",
    "\n",
    "\n",
    "print(\"l1 before deleting is : \" + str(l1))\n",
    "\n",
    "\n",
    "del l1[:]\n",
    "print(\"l1 after clearing using del : \" + str(l1))\n",
    "\n",
    "\n",
    "\n",
    "print(\"l2 before deleting is : \" + str(l2))\n",
    "\n",
    "\n",
    "del l2[:]\n",
    "print(\"l2 after clearing using del : \" + str(l2))"
   ]
  },
  {
   "cell_type": "code",
   "execution_count": 59,
   "id": "6b0907e6-d763-4092-a50a-f3908d2b17b7",
   "metadata": {},
   "outputs": [
    {
     "name": "stdout",
     "output_type": "stream",
     "text": [
      "List1 before deleting is : [55, 66, 77]\n",
      "List1 after clearing using del : []\n"
     ]
    }
   ],
   "source": [
    "#Python pop() method To Clear a List\n",
    "list1 = [55,66,77]\n",
    "\n",
    "\n",
    "print(\"List1 before deleting is : \" + str(list1))\n",
    "\n",
    "# deleting list1\n",
    "while(len(list1) != 0):\n",
    "    list1.pop()\n",
    "print(\"List1 after clearing using del : \" + str(list1))"
   ]
  },
  {
   "cell_type": "code",
   "execution_count": 61,
   "id": "93c623d4-43ba-4c41-80df-0702ee2bf4fd",
   "metadata": {},
   "outputs": [
    {
     "name": "stdout",
     "output_type": "stream",
     "text": [
      "List before clearing:  [55, 77, 88]\n",
      "List after clearing using Slicing:  []\n"
     ]
    }
   ],
   "source": [
    "#Clear a List using Slicing\n",
    "\n",
    "a = [55,77,88]\n",
    "\n",
    "print(\"List before clearing: \",a)\n",
    "\n",
    "a = a[:0]\n",
    "print(\"List after clearing using Slicing: \",a)\n"
   ]
  },
  {
   "cell_type": "code",
   "execution_count": 63,
   "id": "32e01f1b-312d-463d-a68b-dd0d0c162800",
   "metadata": {},
   "outputs": [
    {
     "name": "stdout",
     "output_type": "stream",
     "text": [
      "[]\n"
     ]
    }
   ],
   "source": [
    "#Clear a list using list comprehension method\n",
    "def clear_list(a):\n",
    "    a = [item for item in a if False]\n",
    "    return a\n",
    "\n",
    "input_list = [2, 3, 5, 6, 7]\n",
    "output = clear_list(input_list)\n",
    "print(output)  "
   ]
  },
  {
   "cell_type": "code",
   "execution_count": 65,
   "id": "46975ff6-45db-4fbf-a04f-4fd7151c01cd",
   "metadata": {},
   "outputs": [
    {
     "name": "stdout",
     "output_type": "stream",
     "text": [
      "[5, 4, 3, 2, 1]\n"
     ]
    }
   ],
   "source": [
    "#9 WAP TO REVERSE A LIST\n",
    "a = [1, 2, 3, 4, 5]\n",
    "\n",
    "# Reverse the list in-place\n",
    "a.reverse()\n",
    "print(a)"
   ]
  },
  {
   "cell_type": "code",
   "execution_count": 67,
   "id": "2a6eec42-2b91-43fc-acdc-500fee5c92bf",
   "metadata": {},
   "outputs": [
    {
     "name": "stdout",
     "output_type": "stream",
     "text": [
      "Original List: [4, 8, 2, 10, 15, 18]\n",
      "After Cloning: [4, 8, 2, 10, 15, 18]\n"
     ]
    }
   ],
   "source": [
    "#10 CLONING OR COPYING A LIST\n",
    "def Cloning(a):\n",
    "    a_copy = a[:]\n",
    "    return a_copy\n",
    " \n",
    " \n",
    "# Driver Code\n",
    "a = [4, 8, 2, 10, 15, 18]\n",
    "li2 = Cloning(a)\n",
    "print(\"Original List:\", a)\n",
    "print(\"After Cloning:\", li2)"
   ]
  },
  {
   "cell_type": "code",
   "execution_count": 69,
   "id": "51042de8-b4e8-4184-8f6f-a2c15275bd37",
   "metadata": {},
   "outputs": [
    {
     "name": "stdout",
     "output_type": "stream",
     "text": [
      "4\n",
      "1\n"
     ]
    }
   ],
   "source": [
    "#11 counnt occurrences  of an element in a list \n",
    "a = [50,55,63,50,50,85,96,50]\n",
    "\n",
    "print(a.count(50))\n",
    "\n",
    "print(a.count(96))"
   ]
  },
  {
   "cell_type": "code",
   "execution_count": 73,
   "id": "aad84d62-2d2f-44b9-ae67-69e2e2e25cb7",
   "metadata": {},
   "outputs": [
    {
     "name": "stdout",
     "output_type": "stream",
     "text": [
      "sum =  26\n",
      "average =  6.5\n"
     ]
    }
   ],
   "source": [
    "#12 WAP to find sum and average of a list in python \n",
    "L = [5,7,8,6]\n",
    "\n",
    "count = 0\n",
    " \n",
    "for i in L:\n",
    "    count += i\n",
    " \n",
    "\n",
    "avg = count/len(L)\n",
    " \n",
    "print(\"sum = \", count)\n",
    "print(\"average = \", avg)"
   ]
  },
  {
   "cell_type": "code",
   "execution_count": 81,
   "id": "9df04ccd-88ac-4327-aa99-73d2d3c86c09",
   "metadata": {},
   "outputs": [
    {
     "name": "stdout",
     "output_type": "stream",
     "text": [
      "The original list is : [1005, 889, 55, 66]\n",
      "List Integer Summation : [6, 25, 10, 12]\n"
     ]
    }
   ],
   "source": [
    "#13 sum of number of digits in a list\n",
    "l1 = [1005,889,55,66]\n",
    "\n",
    "print(\"The original list is : \" + str(l1))\n",
    "\n",
    "a = []\n",
    "for ele in l1:\n",
    "    sum = 0\n",
    "    for digit in str(ele):\n",
    "        sum += int(digit)\n",
    "    a.append(sum)\n",
    "    \n",
    "\n",
    "print (\"List Integer Summation : \" + str(a))"
   ]
  },
  {
   "cell_type": "code",
   "execution_count": 9,
   "id": "39cfbc0e-9953-485c-a311-f97a0defe413",
   "metadata": {},
   "outputs": [
    {
     "name": "stdout",
     "output_type": "stream",
     "text": [
      "270\n"
     ]
    }
   ],
   "source": [
    "#14 Multiply all the numbers in a list\n",
    "a = [5,6,9]\n",
    "x = 1\n",
    "\n",
    "for val in a:\n",
    "    x = x * val\n",
    "    \n",
    "print(x)"
   ]
  },
  {
   "cell_type": "code",
   "execution_count": 11,
   "id": "0088a2a2-eed9-4de4-bd82-4dcac17ba243",
   "metadata": {},
   "outputs": [
    {
     "name": "stdout",
     "output_type": "stream",
     "text": [
      "10\n"
     ]
    }
   ],
   "source": [
    "#15 WAP to find smallest number in the list\n",
    "x = [10,20,30,40]\n",
    "\n",
    "smallest = min(x)\n",
    "print(smallest)\n"
   ]
  },
  {
   "cell_type": "code",
   "execution_count": 13,
   "id": "3b0a3c12-836d-4dd8-92d6-e86649dd729b",
   "metadata": {},
   "outputs": [
    {
     "name": "stdout",
     "output_type": "stream",
     "text": [
      "1000\n"
     ]
    }
   ],
   "source": [
    "#16 WAP to find the largest number in the list\n",
    "a = [1000,500,600,822]\n",
    "\n",
    "largest = max(a)\n",
    "print(largest)"
   ]
  },
  {
   "cell_type": "code",
   "execution_count": 17,
   "id": "f49f0333-c916-4d74-80a6-67b8b84ef1b8",
   "metadata": {},
   "outputs": [
    {
     "name": "stdout",
     "output_type": "stream",
     "text": [
      "The second largest number is: 45\n"
     ]
    }
   ],
   "source": [
    "#17 program to find second largest number in a list \n",
    "\n",
    "numbers = [10, 20, 4, 45, 99]\n",
    "second_largest = find_second_largest(numbers)\n",
    "print(\"The second largest number is:\", second_largest)"
   ]
  },
  {
   "cell_type": "code",
   "execution_count": 20,
   "id": "c98e7f45-7253-4d14-8264-0df11ada4f4b",
   "metadata": {},
   "outputs": [
    {
     "name": "stdout",
     "output_type": "stream",
     "text": [
      "[10, 66, 24, 20]\n"
     ]
    }
   ],
   "source": [
    "#18 program to print even numbers in a list\n",
    "a = [10,55,66,85,24,20]\n",
    "\n",
    "result = [val for val in a if val % 2 == 0]\n",
    "print(result)"
   ]
  },
  {
   "cell_type": "code",
   "execution_count": 22,
   "id": "ffd8a635-1d05-48e1-bb55-53084cd87b38",
   "metadata": {},
   "outputs": [
    {
     "name": "stdout",
     "output_type": "stream",
     "text": [
      "55 99 "
     ]
    }
   ],
   "source": [
    "#19 program to print odd numbers in a list\n",
    "l1 = [10,55,66,99]\n",
    "for num in l1:\n",
    "    if num % 2 != 0:\n",
    "       print(num, end=\" \")"
   ]
  },
  {
   "cell_type": "code",
   "execution_count": 24,
   "id": "449514e3-91b3-4903-9751-c940213085e2",
   "metadata": {},
   "outputs": [
    {
     "name": "stdin",
     "output_type": "stream",
     "text": [
      "Enter the start of range:  5\n",
      "Enter the end of range:  55\n"
     ]
    },
    {
     "name": "stdout",
     "output_type": "stream",
     "text": [
      "6 8 10 12 14 16 18 20 22 24 26 28 30 32 34 36 38 40 42 44 46 48 50 52 54 "
     ]
    }
   ],
   "source": [
    "#20 program to print all even numbers in a list \n",
    "start = int(input(\"Enter the start of range: \"))\n",
    "end = int(input(\"Enter the end of range: \"))\n",
    " \n",
    "for num in range(start, end + 1):\n",
    "    if num % 2 == 0:\n",
    "        print(num, end=\" \")"
   ]
  },
  {
   "cell_type": "code",
   "execution_count": 26,
   "id": "fbd986d8-7e2f-4cde-8494-4f940bd78112",
   "metadata": {},
   "outputs": [
    {
     "name": "stdout",
     "output_type": "stream",
     "text": [
      "5 7 9 11 13 15 17 19 21 23 25 27 29 31 33 35 37 39 41 43 45 47 49 51 53 55\n"
     ]
    }
   ],
   "source": [
    "#21 program to print all odd numbers in a list \n",
    "x = [i for i in range(4, 55 + 1) if i % 2 != 0]\n",
    "print(*x)"
   ]
  },
  {
   "cell_type": "code",
   "execution_count": 28,
   "id": "4313b323-5ba6-48db-88e6-cd536fac0662",
   "metadata": {},
   "outputs": [
    {
     "name": "stdout",
     "output_type": "stream",
     "text": [
      "Even numbers in the list:  4\n",
      "Odd numbers in the list:  1\n"
     ]
    }
   ],
   "source": [
    "#22 program to count even and odd numbers in a list\n",
    "l1 = [10,20,30,55,66]\n",
    " \n",
    "even_count, odd_count = 0, 0\n",
    " \n",
    "for num in l1:\n",
    "    if num % 2 == 0:\n",
    "        even_count += 1\n",
    " \n",
    "    else:\n",
    "        odd_count += 1\n",
    " \n",
    "print(\"Even numbers in the list: \", even_count)\n",
    "print(\"Odd numbers in the list: \", odd_count)"
   ]
  },
  {
   "cell_type": "code",
   "execution_count": 32,
   "id": "086d6b77-da2b-452d-97bd-11ff84902718",
   "metadata": {},
   "outputs": [
    {
     "name": "stdout",
     "output_type": "stream",
     "text": [
      "36 0 85 65 "
     ]
    }
   ],
   "source": [
    "#23 program to print positive numbers in a list\n",
    "x = [36, -21, 0, 85, 65, -93]\n",
    "\n",
    "for num in x:\n",
    "    if num >= 0:\n",
    "        print(num, end=\" \")"
   ]
  },
  {
   "cell_type": "code",
   "execution_count": 44,
   "id": "a239cda5-79d2-4374-82fb-b39b9f549426",
   "metadata": {},
   "outputs": [
    {
     "name": "stdout",
     "output_type": "stream",
     "text": [
      "-10 -4 -45 -66 "
     ]
    }
   ],
   "source": [
    "#24 program to print negative numbers in a list\n",
    "list1 = [-10, 21, -4, -45, -66, 93]\n",
    "num = 0\n",
    "while(num < len(list1)):\n",
    "    \n",
    "    if list1[num] < 0:\n",
    "        print(list1[num], end=\" \")\n",
    " \n",
    "    \n",
    "    num += 1"
   ]
  },
  {
   "cell_type": "code",
   "execution_count": 46,
   "id": "b81c4094-5ffa-4442-b44e-e7f5bd6a497c",
   "metadata": {},
   "outputs": [
    {
     "name": "stdout",
     "output_type": "stream",
     "text": [
      "0 1 2 3 4 5 6 7 8 9 10 11 12 13 14 15 16 17 18 19 20 21 22 23 24 25 26 27 28 29 30 31 32 33 34 35 36 37 38 39 40 41 42 43 44 45 46 47 48 49 50 51 52 53 54 55 56 57 58 59 60 61 62 63 64 65 66 67 68 69 70 71 72 73 74 75 76 77 78 79 80 81 82 83 84 85 86 87 88 89 90 "
     ]
    }
   ],
   "source": [
    "#25 program to print all positive numbers in a range \n",
    "start, end = -40, 90\n",
    "  \n",
    "for num in range(start, end + 1): \n",
    "  \n",
    "    if num >= 0: \n",
    "        print(num, end=\" \") "
   ]
  },
  {
   "cell_type": "code",
   "execution_count": 48,
   "id": "ae9bd210-730e-472e-a49b-020599c7dcd2",
   "metadata": {},
   "outputs": [
    {
     "name": "stdout",
     "output_type": "stream",
     "text": [
      "-4 -3 -2 -1\n"
     ]
    }
   ],
   "source": [
    "#26 program to print all negative numbers in a range \n",
    "def negativenumbers(a,b): \n",
    "  out=[i for i in range(a,b+1) if i<0] \n",
    "  print(*out) \n",
    "a=-4\n",
    " \n",
    "b=5\n",
    "negativenumbers(a,b)"
   ]
  },
  {
   "cell_type": "code",
   "execution_count": 50,
   "id": "85736043-d0e3-45e5-9a17-ae20f58e98ce",
   "metadata": {},
   "outputs": [
    {
     "name": "stdout",
     "output_type": "stream",
     "text": [
      "Positive numbers in the list:  2\n",
      "Negative numbers in the list:  3\n"
     ]
    }
   ],
   "source": [
    "#27 program to count positive and negative numbers in a list \n",
    "list1 = [10,-16,90,-88,-77]\n",
    " \n",
    "pos_count, neg_count = 0, 0\n",
    " \n",
    "for num in list1:\n",
    "    if num >= 0:\n",
    "        pos_count += 1\n",
    " \n",
    "    else:\n",
    "        neg_count += 1\n",
    " \n",
    "print(\"Positive numbers in the list: \", pos_count)\n",
    "print(\"Negative numbers in the list: \", neg_count)"
   ]
  },
  {
   "cell_type": "code",
   "execution_count": 52,
   "id": "0aa3b763-a870-453e-b985-d64ccc757bcd",
   "metadata": {},
   "outputs": [
    {
     "name": "stdout",
     "output_type": "stream",
     "text": [
      "[10, 20, 4, 45, 99]\n"
     ]
    }
   ],
   "source": [
    "#28 remove multiple elements in a list in python\n",
    "n1 = [10,20,30,40,50]\n",
    "to_remove = [30,40,50]\n",
    "\n",
    "for item in to_remove:\n",
    "    if item in numbers:\n",
    "        numbers.remove(item)\n",
    "\n",
    "print(numbers)"
   ]
  },
  {
   "cell_type": "code",
   "execution_count": 54,
   "id": "79f0ce53-4701-4dcb-8767-cabfe43b9cd0",
   "metadata": {},
   "outputs": [
    {
     "name": "stdout",
     "output_type": "stream",
     "text": [
      "[('gian', '25', '5'), ('rahul', 'geeta'), ('krishna', 'akbar', '45'), ('', '')]\n"
     ]
    }
   ],
   "source": [
    "#29 remove empty tuples from a list\n",
    "def Remove(tuples):\n",
    "    tuples = [t for t in tuples if t]\n",
    "    return tuples\n",
    " \n",
    "tuples = [(), ('gian','25','5'), (), ('rahul', 'geeta'), \n",
    "          ('krishna', 'akbar', '45'), ('',''),()]\n",
    "print(Remove(tuples))"
   ]
  },
  {
   "cell_type": "code",
   "execution_count": 58,
   "id": "c5c856f4-e4bf-4e13-8f85-f43cbfa560cb",
   "metadata": {},
   "outputs": [
    {
     "name": "stdout",
     "output_type": "stream",
     "text": [
      "[1, 2, 5, 9]\n"
     ]
    }
   ],
   "source": [
    "#30 program to print duplicates from a list of integers\n",
    "l1 = [1, 2, 1, 2, 3, 4, 5, 1, 1, 2, 5, 6, 7, 8, 9, 9]\n",
    " \n",
    "uniqueList = []\n",
    "duplicateList = []\n",
    " \n",
    "for i in l1:\n",
    "    if i not in uniqueList:\n",
    "        uniqueList.append(i)\n",
    "    elif i not in duplicateList:\n",
    "        duplicateList.append(i)\n",
    " \n",
    "print(duplicateList)"
   ]
  },
  {
   "cell_type": "code",
   "execution_count": null,
   "id": "aafee474-528c-4e12-808f-03376a0e05f3",
   "metadata": {},
   "outputs": [],
   "source": []
  }
 ],
 "metadata": {
  "kernelspec": {
   "display_name": "Python 3 (ipykernel)",
   "language": "python",
   "name": "python3"
  },
  "language_info": {
   "codemirror_mode": {
    "name": "ipython",
    "version": 3
   },
   "file_extension": ".py",
   "mimetype": "text/x-python",
   "name": "python",
   "nbconvert_exporter": "python",
   "pygments_lexer": "ipython3",
   "version": "3.12.4"
  }
 },
 "nbformat": 4,
 "nbformat_minor": 5
}
