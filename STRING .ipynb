{
 "cells": [
  {
   "cell_type": "code",
   "execution_count": 3,
   "id": "a661e91c-eef3-4fdd-8127-5c3d70e380bf",
   "metadata": {},
   "outputs": [
    {
     "name": "stdout",
     "output_type": "stream",
     "text": [
      "Is Palindrome: True\n",
      "Is Symmetrical: False\n"
     ]
    }
   ],
   "source": [
    "# 1.Python program to check whether the string is Symmetrical or Palindrome\n",
    "\n",
    "S1= \"madam\"\n",
    "\n",
    "is_palindrome = S1 == S1[::-1]\n",
    "\n",
    "mid = len(S1) // 2\n",
    "is_symmetrical = S1[:mid] == S1[-mid:]\n",
    "\n",
    "print(\"Is Palindrome:\", is_palindrome)\n",
    "print(\"Is Symmetrical:\", is_symmetrical)\n"
   ]
  },
  {
   "cell_type": "code",
   "execution_count": 5,
   "id": "cea5aaff-1e9e-40b3-8751-33e28238e443",
   "metadata": {},
   "outputs": [
    {
     "name": "stdout",
     "output_type": "stream",
     "text": [
      "Reversed words in the string: Python from world Hello\n"
     ]
    }
   ],
   "source": [
    "# 2.Reverse words in a given String in Python\n",
    "\n",
    "S1 = \"Hello world from Python\"\n",
    "\n",
    "reversed_words = ' '.join(S1.split()[::-1])\n",
    "\n",
    "print(\"Reversed words in the string:\", reversed_words)\n"
   ]
  },
  {
   "cell_type": "code",
   "execution_count": 7,
   "id": "38944135-83c5-432d-a268-c0d4cb27526d",
   "metadata": {},
   "outputs": [
    {
     "name": "stdout",
     "output_type": "stream",
     "text": [
      "String after removing i-th character: HeloWorld\n"
     ]
    }
   ],
   "source": [
    "# 3.Ways to remove i’th character from string in Python\n",
    "\n",
    "S1 = \"HelloWorld\"\n",
    "\n",
    "i = 2\n",
    "\n",
    "removed_character_string = S1[:i] + S1[i+1:]\n",
    "\n",
    "print(\"String after removing i-th character:\", removed_character_string)\n"
   ]
  },
  {
   "cell_type": "code",
   "execution_count": 9,
   "id": "20f1950e-e346-441f-8b42-c966bd595999",
   "metadata": {},
   "outputs": [
    {
     "name": "stdout",
     "output_type": "stream",
     "text": [
      "Lengths: 11 11 11 11\n"
     ]
    }
   ],
   "source": [
    "# 4.Find length of a string in python (4 ways)\n",
    "\n",
    "S1 = \"Hello World\"\n",
    "\n",
    "length_1 = len(S1)\n",
    "\n",
    "length_2 = 0\n",
    "for char in S1:\n",
    "    length_2 += 1\n",
    "\n",
    "length_3 = ''.join(S1).count('') - 1\n",
    "\n",
    "length_4 = sum(1 for _ in S1)\n",
    "\n",
    "print(\"Lengths:\", length_1, length_2, length_3, length_4)\n"
   ]
  },
  {
   "cell_type": "code",
   "execution_count": 11,
   "id": "3038ea06-c1db-4e33-b66e-def581795231",
   "metadata": {},
   "outputs": [
    {
     "name": "stdout",
     "output_type": "stream",
     "text": [
      "Length without spaces: 10\n"
     ]
    }
   ],
   "source": [
    "# 5.Python – Avoid Spaces in string length\n",
    "\n",
    "S1 = \"Hello World\"\n",
    "\n",
    "length_no_spaces = len(S1.replace(\" \", \"\"))\n",
    "\n",
    "print(\"Length without spaces:\", length_no_spaces)\n"
   ]
  },
  {
   "cell_type": "code",
   "execution_count": 13,
   "id": "cc7947df-209d-4b6b-9f32-1ac764e15bde",
   "metadata": {},
   "outputs": [
    {
     "name": "stdout",
     "output_type": "stream",
     "text": [
      "Even length words: ['Python', 'is']\n"
     ]
    }
   ],
   "source": [
    "# 6.Python program to print even length words in a string\n",
    "\n",
    "S1 = \"Python is fun and helpful\"\n",
    "\n",
    "even_length_words = [word for word in S1.split() if len(word) % 2 == 0]\n",
    "\n",
    "print(\"Even length words:\", even_length_words)\n"
   ]
  },
  {
   "cell_type": "code",
   "execution_count": 15,
   "id": "13572b1c-a36f-4758-b98f-ca550d0ec59d",
   "metadata": {},
   "outputs": [
    {
     "name": "stdout",
     "output_type": "stream",
     "text": [
      "Uppercase half of the string: HELLOWorld\n"
     ]
    }
   ],
   "source": [
    "# 7.Python – Uppercase Half String\n",
    "\n",
    "S1 = \"HelloWorld\"\n",
    "\n",
    "mid = len(S1) // 2\n",
    "uppercase_half = S1[:mid].upper() + S1[mid:]\n",
    "\n",
    "print(\"Uppercase half of the string:\", uppercase_half)\n"
   ]
  },
  {
   "cell_type": "code",
   "execution_count": 17,
   "id": "e08a75ab-5a2c-4884-ac87-ca6106ac2507",
   "metadata": {},
   "outputs": [
    {
     "name": "stdout",
     "output_type": "stream",
     "text": [
      "Capitalized first and last characters of each word: HellO WorlD FroM PythoN\n"
     ]
    }
   ],
   "source": [
    "# 8.Python program to capitalize the first and last character of each word in a string\n",
    "\n",
    "S1 = \"hello world from python\"\n",
    "\n",
    "capitalized_words = ' '.join(word[0].upper() + word[1:-1] + word[-1].upper() for word in S1.split())\n",
    "\n",
    "print(\"Capitalized first and last characters of each word:\", capitalized_words)\n"
   ]
  },
  {
   "cell_type": "code",
   "execution_count": 19,
   "id": "a1aa85fc-b05b-4422-b0cd-a3e4479bb07c",
   "metadata": {},
   "outputs": [
    {
     "name": "stdout",
     "output_type": "stream",
     "text": [
      "Has at least one letter and one number: True\n"
     ]
    }
   ],
   "source": [
    "# 9.Python program to check if a string has at least one letter and one number\n",
    "\n",
    "S1 = \"Hello123\"\n",
    "\n",
    "has_letter = any(char.isalpha() for char in S1)\n",
    "has_number = any(char.isdigit() for char in S1)\n",
    "\n",
    "print(\"Has at least one letter and one number:\", has_letter and has_number)\n"
   ]
  },
  {
   "cell_type": "code",
   "execution_count": 21,
   "id": "971a2a91-0949-4e74-afec-fc5279fabf4c",
   "metadata": {},
   "outputs": [
    {
     "name": "stdout",
     "output_type": "stream",
     "text": [
      "Contains all vowels: True\n"
     ]
    }
   ],
   "source": [
    "# 10.Python Program to accept the strings which contains all vowels\n",
    "\n",
    "S1 = \"education\"\n",
    "\n",
    "vowels = set(\"aeiou\")\n",
    "contains_all_vowels = vowels <= set(S1.lower())\n",
    "\n",
    "print(\"Contains all vowels:\", contains_all_vowels)\n"
   ]
  },
  {
   "cell_type": "code",
   "execution_count": 23,
   "id": "e92c979d-8b66-483d-b573-d9330fcfce26",
   "metadata": {},
   "outputs": [
    {
     "name": "stdout",
     "output_type": "stream",
     "text": [
      "Number of matching characters: 2\n"
     ]
    }
   ],
   "source": [
    "# 11.Python | Count the Number of matching characters in a pair of string\n",
    "\n",
    "S1 = \"hello\"\n",
    "S2 = \"world\"\n",
    "\n",
    "matching_count = sum(1 for char in set(S1) if char in S2)\n",
    "\n",
    "print(\"Number of matching characters:\", matching_count)\n"
   ]
  },
  {
   "cell_type": "code",
   "execution_count": 25,
   "id": "e505ffcb-5fc3-4264-804a-a47ee10ef3a2",
   "metadata": {},
   "outputs": [
    {
     "name": "stdout",
     "output_type": "stream",
     "text": [
      "Number of vowels in the string: 3\n"
     ]
    }
   ],
   "source": [
    "# 12.Python program to count number of vowels using sets in given string\n",
    "\n",
    "S1 = \"Hello World\"\n",
    "\n",
    "vowels = set(\"aeiouAEIOU\")\n",
    "vowel_count = sum(1 for char in S1 if char in vowels)\n",
    "\n",
    "print(\"Number of vowels in the string:\", vowel_count)\n"
   ]
  },
  {
   "cell_type": "code",
   "execution_count": 27,
   "id": "220b7f0f-b3b2-49b2-91ad-28ad2518e810",
   "metadata": {},
   "outputs": [
    {
     "name": "stdout",
     "output_type": "stream",
     "text": [
      "String after removing duplicates: Helo Wrd\n"
     ]
    }
   ],
   "source": [
    "# 13.Python Program to remove all duplicates from a given string\n",
    "\n",
    "S1 = \"Hello World\"\n",
    "\n",
    "unique_chars = ''.join(sorted(set(S1), key=S1.index))\n",
    "\n",
    "print(\"String after removing duplicates:\", unique_chars)\n"
   ]
  },
  {
   "cell_type": "code",
   "execution_count": 29,
   "id": "920c4a6d-7044-4df8-82c4-4176105b3712",
   "metadata": {},
   "outputs": [
    {
     "name": "stdout",
     "output_type": "stream",
     "text": [
      "Least frequent character: h\n"
     ]
    }
   ],
   "source": [
    "# 14.Python – Least Frequent Character in String\n",
    "\n",
    "S1 = \"hello world\"\n",
    "\n",
    "from collections import Counter\n",
    "frequency = Counter(S1)\n",
    "least_frequent = min(frequency, key=frequency.get)\n",
    "\n",
    "print(\"Least frequent character:\", least_frequent)\n"
   ]
  },
  {
   "cell_type": "code",
   "execution_count": 31,
   "id": "9dafd5e4-f257-48c1-ad8d-f22ba9b64cb8",
   "metadata": {},
   "outputs": [
    {
     "name": "stdout",
     "output_type": "stream",
     "text": [
      "Maximum frequency character: l\n"
     ]
    }
   ],
   "source": [
    "# 15.Python | Maximum frequency character in String\n",
    "\n",
    "S1 = \"hello world\"\n",
    "\n",
    "frequency = Counter(S1)\n",
    "max_frequency_char = max(frequency, key=frequency.get)\n",
    "\n",
    "print(\"Maximum frequency character:\", max_frequency_char)\n"
   ]
  },
  {
   "cell_type": "code",
   "execution_count": 33,
   "id": "c0301f4d-8795-4472-b483-c45aa4a1eecc",
   "metadata": {},
   "outputs": [
    {
     "name": "stdout",
     "output_type": "stream",
     "text": [
      "Characters with odd frequency: ['h', 'e', 'l', ' ', 'w', 'r', 'd']\n"
     ]
    }
   ],
   "source": [
    "# 16.Python – Odd Frequency Characters\n",
    "\n",
    "S1 = \"hello world\"\n",
    "\n",
    "frequency = Counter(S1)\n",
    "\n",
    "odd_frequency_chars = [char for char, count in frequency.items() if count % 2 != 0]\n",
    "\n",
    "print(\"Characters with odd frequency:\", odd_frequency_chars)\n"
   ]
  },
  {
   "cell_type": "code",
   "execution_count": 35,
   "id": "3afbdaa9-6336-47bd-b04a-b0105d7fe226",
   "metadata": {},
   "outputs": [
    {
     "name": "stdout",
     "output_type": "stream",
     "text": [
      "Frequency of 'h' in the list: 3\n"
     ]
    }
   ],
   "source": [
    "# 17.Python – Specific Characters Frequency in String List\n",
    "\n",
    "string_list = [\"hello\", \"world\", \"hello\", \"python\"]\n",
    "specific_char = 'h'\n",
    "\n",
    "specific_char_frequency = sum(string.count(specific_char) for string in string_list)\n",
    "\n",
    "print(f\"Frequency of '{specific_char}' in the list:\", specific_char_frequency)\n"
   ]
  },
  {
   "cell_type": "code",
   "execution_count": 37,
   "id": "da7a6da6-d7df-4b91-8677-3e1a8b8121c0",
   "metadata": {},
   "outputs": [
    {
     "name": "stdout",
     "output_type": "stream",
     "text": [
      "Frequency of numbers in the string: Counter({'1': 2, '2': 2, '3': 2, '4': 1, '5': 1, '6': 1})\n"
     ]
    }
   ],
   "source": [
    "# 18.Python | Frequency of numbers in String\n",
    "\n",
    "S1 = \"123abc456123\"\n",
    "\n",
    "digit_frequency = Counter(filter(str.isdigit, S1))\n",
    "\n",
    "print(\"Frequency of numbers in the string:\", digit_frequency)\n"
   ]
  },
  {
   "cell_type": "code",
   "execution_count": 39,
   "id": "9d4a5267-3b8c-4dbc-a074-38e19360dee9",
   "metadata": {},
   "outputs": [
    {
     "name": "stdout",
     "output_type": "stream",
     "text": [
      "Contains special character: True\n"
     ]
    }
   ],
   "source": [
    "# 19.Python | Program to check if a string contains any special character\n",
    "\n",
    "S1 = \"Hello@World!\"\n",
    "\n",
    "contains_special_char = any(not char.isalnum() and not char.isspace() for char in S1)\n",
    "\n",
    "print(\"Contains special character:\", contains_special_char)\n"
   ]
  },
  {
   "cell_type": "code",
   "execution_count": 41,
   "id": "4e254865-579c-41dc-9f46-b630ec66bdd2",
   "metadata": {},
   "outputs": [
    {
     "name": "stdout",
     "output_type": "stream",
     "text": [
      "Generated the target string: abc\n"
     ]
    }
   ],
   "source": [
    "# 20.Generating random strings until a given string is generated\n",
    "\n",
    "import random\n",
    "import string\n",
    "\n",
    "target_string = \"abc\"\n",
    "\n",
    "random_string = ''.join(random.choices(string.ascii_lowercase, k=len(target_string)))\n",
    "\n",
    "while random_string != target_string:\n",
    "    random_string = ''.join(random.choices(string.ascii_lowercase, k=len(target_string)))\n",
    "\n",
    "print(\"Generated the target string:\", random_string)\n"
   ]
  },
  {
   "cell_type": "code",
   "execution_count": 43,
   "id": "87f09892-9809-4e51-a28b-a8c98d6efde5",
   "metadata": {},
   "outputs": [
    {
     "name": "stdout",
     "output_type": "stream",
     "text": [
      "Words longer than 3 characters: ['quick', 'brown', 'jumps', 'over', 'lazy']\n"
     ]
    }
   ],
   "source": [
    "# 21.Find words which are greater than given length k\n",
    "\n",
    "S1 = \"The quick brown fox jumps over the lazy dog\"\n",
    "k = 3\n",
    "\n",
    "longer_words = [word for word in S1.split() if len(word) > k]\n",
    "\n",
    "print(f\"Words longer than {k} characters:\", longer_words)\n"
   ]
  },
  {
   "cell_type": "code",
   "execution_count": 45,
   "id": "241898df-1419-4a3f-8fd7-227fa6e7150b",
   "metadata": {},
   "outputs": [
    {
     "name": "stdout",
     "output_type": "stream",
     "text": [
      "String after removing i-th character: HeloWorld\n"
     ]
    }
   ],
   "source": [
    "# 22.Python program for removing i-th character from a string\n",
    "\n",
    "S1 = \"HelloWorld\"\n",
    "\n",
    "i = 2\n",
    "\n",
    "removed_character_string = S1[:i] + S1[i+1:]\n",
    "\n",
    "print(\"String after removing i-th character:\", removed_character_string)\n"
   ]
  },
  {
   "cell_type": "code",
   "execution_count": 47,
   "id": "927a8f42-28f4-4454-8e6b-338eacd1a92a",
   "metadata": {},
   "outputs": [
    {
     "name": "stdout",
     "output_type": "stream",
     "text": [
      "Joined string after split: Hello World\n"
     ]
    }
   ],
   "source": [
    "# 23.Python program to split and join a string\n",
    "\n",
    "S1 = \"Hello World\"\n",
    "\n",
    "split_string = S1.split()\n",
    "joined_string = ' '.join(split_string)\n",
    "\n",
    "print(\"Joined string after split:\", joined_string)\n"
   ]
  },
  {
   "cell_type": "code",
   "execution_count": 49,
   "id": "7d889e87-a752-47fc-918a-e53f2bceca26",
   "metadata": {},
   "outputs": [
    {
     "name": "stdout",
     "output_type": "stream",
     "text": [
      "Is the string a binary string: True\n"
     ]
    }
   ],
   "source": [
    "# 24.Python | Check if a given string is binary string or not\n",
    "\n",
    "S1 = \"1101010\"\n",
    "\n",
    "is_binary = all(char in '01' for char in S1)\n",
    "\n",
    "print(\"Is the string a binary string:\", is_binary)\n"
   ]
  },
  {
   "cell_type": "code",
   "execution_count": 51,
   "id": "b1cb4678-0a88-4e2a-942c-a5bec94c7979",
   "metadata": {},
   "outputs": [
    {
     "name": "stdout",
     "output_type": "stream",
     "text": [
      "Close matches: ['apple', 'aple', 'bpple']\n"
     ]
    }
   ],
   "source": [
    "# 25.Python | Find all close matches of input string from a list\n",
    "\n",
    "import difflib\n",
    "\n",
    "input_string = \"apple\"\n",
    "options = [\"aple\", \"apple\", \"bpple\", \"mango\"]\n",
    "\n",
    "close_matches = difflib.get_close_matches(input_string, options)\n",
    "\n",
    "print(\"Close matches:\", close_matches)\n"
   ]
  },
  {
   "cell_type": "code",
   "execution_count": 53,
   "id": "e6143adc-944c-4f11-a775-31721dc28da6",
   "metadata": {},
   "outputs": [
    {
     "name": "stdout",
     "output_type": "stream",
     "text": [
      "Uncommon words: {'hello', 'python'}\n"
     ]
    }
   ],
   "source": [
    "# 26.Python program to find uncommon words from two Strings\n",
    "\n",
    "S1 = \"hello world\"\n",
    "S2 = \"world python\"\n",
    "\n",
    "words1 = set(S1.split())\n",
    "words2 = set(S2.split())\n",
    "\n",
    "uncommon_words = (words1 - words2) | (words2 - words1)\n",
    "\n",
    "print(\"Uncommon words:\", uncommon_words)\n"
   ]
  },
  {
   "cell_type": "code",
   "execution_count": 55,
   "id": "13aafd35-b975-4370-bd97-be351b81ca34",
   "metadata": {},
   "outputs": [
    {
     "name": "stdout",
     "output_type": "stream",
     "text": [
      "String after swapping commas and dots: 1,23. 4,56. 7,89\n"
     ]
    }
   ],
   "source": [
    "# 27.Python | Swap commas and dots in a String\n",
    "\n",
    "S1 = \"1.23, 4.56, 7.89\"\n",
    "\n",
    "swapped_string = S1.replace('.', 'temp').replace(',', '.').replace('temp', ',')\n",
    "\n",
    "print(\"String after swapping commas and dots:\", swapped_string)\n"
   ]
  },
  {
   "cell_type": "code",
   "execution_count": 57,
   "id": "dbafa653-84e3-44bb-a768-0293ea1cbd4e",
   "metadata": {},
   "outputs": [
    {
     "name": "stdout",
     "output_type": "stream",
     "text": [
      "Permutations of the string: ['abc', 'acb', 'bac', 'bca', 'cab', 'cba']\n"
     ]
    }
   ],
   "source": [
    "# 28.Python | Permutation of a given string using inbuilt function\n",
    "\n",
    "import itertools\n",
    "\n",
    "S1 = \"abc\"\n",
    "\n",
    "\n",
    "permutations = list(itertools.permutations(S1))\n",
    "\n",
    "\n",
    "permuted_strings = [''.join(p) for p in permutations]\n",
    "\n",
    "print(\"Permutations of the string:\", permuted_strings)\n"
   ]
  },
  {
   "cell_type": "code",
   "execution_count": 59,
   "id": "1601710d-c094-4cec-9649-3bf20f982d7f",
   "metadata": {},
   "outputs": [
    {
     "name": "stdout",
     "output_type": "stream",
     "text": [
      "URLs found in the string: ['https://www.example.com']\n"
     ]
    }
   ],
   "source": [
    "# 29.Python | Check for URL in a String\n",
    "\n",
    "import re\n",
    "\n",
    "S1 = \"Visit us at https://www.example.com\"\n",
    "\n",
    "url_pattern = r'(https?://[^\\s]+)'\n",
    "urls = re.findall(url_pattern, S1)\n",
    "\n",
    "print(\"URLs found in the string:\", urls)\n"
   ]
  },
  {
   "cell_type": "code",
   "execution_count": 61,
   "id": "d9134934-1dba-47e2-badd-9b18e78c3ec1",
   "metadata": {},
   "outputs": [
    {
     "name": "stdout",
     "output_type": "stream",
     "text": [
      "Hello from the string of code!\n"
     ]
    }
   ],
   "source": [
    "# 30.Execute a String of Code in Python\n",
    "\n",
    "code_string = \"print('Hello from the string of code!')\"\n",
    "\n",
    "exec(code_string)\n"
   ]
  },
  {
   "cell_type": "code",
   "execution_count": 63,
   "id": "a061acd8-7e6d-4851-a7fe-3df2a6628b02",
   "metadata": {},
   "outputs": [
    {
     "name": "stdout",
     "output_type": "stream",
     "text": [
      "Converted numbers: [1, 3, 5, 7]\n"
     ]
    }
   ],
   "source": [
    "# 31.Python | Convert numeric words to numbers\n",
    "\n",
    "num_words = {\n",
    "    \"zero\": 0, \"one\": 1, \"two\": 2, \"three\": 3,\n",
    "    \"four\": 4, \"five\": 5, \"six\": 6, \"seven\": 7,\n",
    "    \"eight\": 8, \"nine\": 9, \"ten\": 10\n",
    "}\n",
    "\n",
    "\n",
    "S1 = \"one three five seven\"\n",
    "\n",
    "numbers = [num_words[word] for word in S1.split() if word in num_words]\n",
    "\n",
    "print(\"Converted numbers:\", numbers)\n"
   ]
  },
  {
   "cell_type": "code",
   "execution_count": 65,
   "id": "2346631a-021d-4286-bdc7-9640b7803537",
   "metadata": {},
   "outputs": [
    {
     "name": "stdout",
     "output_type": "stream",
     "text": [
      "Locations of 'hello': [0, 2]\n"
     ]
    }
   ],
   "source": [
    "# 32.Python | Word location in String\n",
    "\n",
    "S1 = \"hello world hello python\"\n",
    "\n",
    "word_to_find = \"hello\"\n",
    "\n",
    "\n",
    "locations = [i for i, word in enumerate(S1.split()) if word == word_to_find]\n",
    "\n",
    "print(f\"Locations of '{word_to_find}':\", locations)\n"
   ]
  },
  {
   "cell_type": "code",
   "execution_count": 67,
   "id": "7f67b72b-70c2-4e58-a4dc-e231b586c095",
   "metadata": {},
   "outputs": [
    {
     "name": "stdout",
     "output_type": "stream",
     "text": [
      "Consecutive characters frequency: {'a': 3, 'b': 2, 'c': 1, 'd': 1, 'e': 2}\n"
     ]
    }
   ],
   "source": [
    "# 33.Python | Consecutive characters frequency\n",
    "\n",
    "\n",
    "S1 = \"aaabbcdee\"\n",
    "\n",
    "\n",
    "consecutive_frequency = {}\n",
    "current_char = S1[0]\n",
    "count = 1\n",
    "\n",
    "for char in S1[1:]:\n",
    "    if char == current_char:\n",
    "        count += 1\n",
    "    else:\n",
    "        consecutive_frequency[current_char] = count\n",
    "        current_char = char\n",
    "        count = 1\n",
    "\n",
    "consecutive_frequency[current_char] = count  # For the last character\n",
    "\n",
    "print(\"Consecutive characters frequency:\", consecutive_frequency)\n"
   ]
  },
  {
   "cell_type": "code",
   "execution_count": 69,
   "id": "05464bd1-39d4-47f5-add2-ca40c09a885e",
   "metadata": {},
   "outputs": [
    {
     "name": "stdout",
     "output_type": "stream",
     "text": [
      "Rotated string: loWorldHel\n"
     ]
    }
   ],
   "source": [
    "# 34.String slicing in Python to rotate a string\n",
    "\n",
    "S1 = \"HelloWorld\"\n",
    "n = 3  # Number of rotations\n",
    "\n",
    "rotated_string = S1[n:] + S1[:n]\n",
    "\n",
    "print(\"Rotated string:\", rotated_string)\n"
   ]
  },
  {
   "cell_type": "code",
   "execution_count": 71,
   "id": "3da41880-6168-4d9d-9b08-584d792e3a5c",
   "metadata": {},
   "outputs": [
    {
     "name": "stdout",
     "output_type": "stream",
     "text": [
      "Can the string become empty by recursive deletion? True\n"
     ]
    }
   ],
   "source": [
    "# 35.String slicing in Python to check if a string can become empty by recursive deletion\n",
    "\n",
    "S1 = \"aabbcc\"\n",
    "\n",
    "while S1:\n",
    "    found = False\n",
    "    for char in set(S1):\n",
    "        if S1.count(char) % 2 != 0:\n",
    "            found = True\n",
    "            break\n",
    "    if found:\n",
    "        break\n",
    "    S1 = S1.replace(char * 2, '')\n",
    "\n",
    "can_become_empty = S1 == ''\n",
    "\n",
    "print(\"Can the string become empty by recursive deletion?\", can_become_empty)\n"
   ]
  },
  {
   "cell_type": "code",
   "execution_count": 73,
   "id": "6809b72b-e1e6-4bba-b8cb-0963137e5db4",
   "metadata": {},
   "outputs": [
    {
     "name": "stdout",
     "output_type": "stream",
     "text": [
      "Minimum number of rotations to obtain the actual string: 3\n"
     ]
    }
   ],
   "source": [
    "# 36.Python Program to find minimum number of rotations to obtain actual string\n",
    "\n",
    "original = \"hello\"\n",
    "rotated = \"lohel\"\n",
    "\n",
    "n = len(original)\n",
    "double_rotated = original + original\n",
    "\n",
    "min_rotations = double_rotated.find(rotated)\n",
    "\n",
    "print(\"Minimum number of rotations to obtain the actual string:\", min_rotations)\n"
   ]
  },
  {
   "cell_type": "code",
   "execution_count": 75,
   "id": "b1691511-763a-4d52-9a06-7b36b40e821f",
   "metadata": {},
   "outputs": [
    {
     "name": "stdout",
     "output_type": "stream",
     "text": [
      "Words frequency: {'hello': 2, 'world': 1, 'python': 1}\n"
     ]
    }
   ],
   "source": [
    "# 37.Python – Words Frequency in String Shorthands\n",
    "\n",
    "S1 = \"hello world hello python\"\n",
    "\n",
    "\n",
    "word_frequency = {}\n",
    "for word in S1.split():\n",
    "    word_frequency[word] = word_frequency.get(word, 0) + 1\n",
    "\n",
    "print(\"Words frequency:\", word_frequency)\n"
   ]
  },
  {
   "cell_type": "code",
   "execution_count": 77,
   "id": "ca555bde-1aab-4878-9da7-7a2740fd4b8d",
   "metadata": {},
   "outputs": [
    {
     "name": "stdout",
     "output_type": "stream",
     "text": [
      "Successive characters frequency: {'a': [3], 'b': [2], 'c': [1], 'd': [1], 'e': [2]}\n"
     ]
    }
   ],
   "source": [
    "# 38.Python – Successive Characters Frequency\n",
    "\n",
    "S1 = \"aaabbcdee\"\n",
    "\n",
    "successive_frequency = {}\n",
    "current_char = S1[0]\n",
    "count = 1\n",
    "\n",
    "for char in S1[1:]:\n",
    "    if char == current_char:\n",
    "        count += 1\n",
    "    else:\n",
    "        successive_frequency[current_char] = successive_frequency.get(current_char, []) + [count]\n",
    "        current_char = char\n",
    "        count = 1\n",
    "\n",
    "successive_frequency[current_char] = successive_frequency.get(current_char, []) + [count]\n",
    "\n",
    "print(\"Successive characters frequency:\", successive_frequency)\n"
   ]
  },
  {
   "cell_type": "code",
   "execution_count": 79,
   "id": "0d078ebd-4a59-4572-9e83-785170f2d95d",
   "metadata": {},
   "outputs": [
    {
     "name": "stdout",
     "output_type": "stream",
     "text": [
      "Strings sorted by frequency of 'e': ['banana', 'apple', 'cherry', 'date', 'elderberry']\n"
     ]
    }
   ],
   "source": [
    "# 39.Python – Sort String list by K character frequency\n",
    "\n",
    "string_list = [\"apple\", \"banana\", \"cherry\", \"date\", \"elderberry\"]\n",
    "\n",
    "k = 'e'\n",
    "sorted_list = sorted(string_list, key=lambda x: x.count(k))\n",
    "\n",
    "print(f\"Strings sorted by frequency of '{k}':\", sorted_list)\n"
   ]
  },
  {
   "cell_type": "code",
   "execution_count": 81,
   "id": "7e609ac7-9769-408e-a4da-1faee49cc746",
   "metadata": {},
   "outputs": [
    {
     "name": "stdout",
     "output_type": "stream",
     "text": [
      "Converted to PascalCase: HelloWorldExample\n"
     ]
    }
   ],
   "source": [
    "# 40.Python – Convert Snake case to Pascal case\n",
    "\n",
    "snake_case_string = \"hello_world_example\"\n",
    "\n",
    "pascal_case_string = ''.join(word.capitalize() for word in snake_case_string.split('_'))\n",
    "\n",
    "print(\"Converted to PascalCase:\", pascal_case_string)\n"
   ]
  },
  {
   "cell_type": "code",
   "execution_count": 83,
   "id": "84d0b3a8-ada9-4595-8446-9a60acda31b9",
   "metadata": {},
   "outputs": [
    {
     "name": "stdout",
     "output_type": "stream",
     "text": [
      "String after avoiding last occurrence of delimiter: apple,banana,cherry\n"
     ]
    }
   ],
   "source": [
    "# 41.Python – Avoid Last occurrence of delimitter\n",
    "\n",
    "S1 = \"apple,banana,cherry,date\"\n",
    "\n",
    "result = S1.rsplit(',', 1)\n",
    "\n",
    "print(\"String after avoiding last occurrence of delimiter:\", result[0])\n"
   ]
  },
  {
   "cell_type": "code",
   "execution_count": 85,
   "id": "559436bf-cbb4-4bbc-8742-10103a9bac87",
   "metadata": {},
   "outputs": [
    {
     "name": "stdout",
     "output_type": "stream",
     "text": [
      "Character position of the 1th word: 0\n"
     ]
    }
   ],
   "source": [
    "# 42.Python program to find the character position of Kth word from a list of strings\n",
    "\n",
    "strings = [\"hello world\", \"welcome to python\"]\n",
    "\n",
    "k = 1  # Kth word (1-based index)\n",
    "words = [word for string in strings for word in string.split()]\n",
    "\n",
    "if k <= len(words):\n",
    "    character_position = sum(len(words[i]) for i in range(k - 1)) + (k - 1)  # +1 for space between words\n",
    "else:\n",
    "    character_position = -1  # K is out of bounds\n",
    "\n",
    "print(f\"Character position of the {k}th word:\", character_position)\n"
   ]
  },
  {
   "cell_type": "code",
   "execution_count": 89,
   "id": "f227f5c1-6b83-458c-9dce-09b7ff12c041",
   "metadata": {},
   "outputs": [
    {
     "name": "stdout",
     "output_type": "stream",
     "text": [
      "Right shifted string: ohell\n",
      "Left shifted string: elloh\n"
     ]
    }
   ],
   "source": [
    "# 43.Python – Right and Left Shift characters in String\n",
    "\n",
    "S1 = \"hello\"\n",
    "\n",
    "\n",
    "shifted_right = S1[-1] + S1[:-1]\n",
    "\n",
    "shifted_left = S1[1:] + S1[0]\n",
    "\n",
    "print(\"Right shifted string:\", shifted_right)\n",
    "print(\"Left shifted string:\", shifted_left)\n"
   ]
  },
  {
   "cell_type": "code",
   "execution_count": 91,
   "id": "413fe02a-fcaa-43cc-9c21-8723d28718c1",
   "metadata": {},
   "outputs": [
    {
     "name": "stdout",
     "output_type": "stream",
     "text": [
      "String after exceptional split: ['hello', 'world', 'python', 'example']\n"
     ]
    }
   ],
   "source": [
    "# 44.Python | Exceptional Split in String\n",
    "\n",
    "S1 = \"hello,world;python:example\"\n",
    "\n",
    "import re\n",
    "split_string = re.split(r'[;,:\\s]+', S1)\n",
    "\n",
    "print(\"String after exceptional split:\", split_string)\n"
   ]
  },
  {
   "cell_type": "code",
   "execution_count": 93,
   "id": "dc1d33b3-cca5-40d0-999b-c05ccb2fc882",
   "metadata": {},
   "outputs": [
    {
     "name": "stdout",
     "output_type": "stream",
     "text": [
      "String split on vowels: ['h', 'll', ' w', 'rld']\n"
     ]
    }
   ],
   "source": [
    "# 45.Python – Split String on vowels\n",
    "\n",
    "S1 = \"hello world\"\n",
    "\n",
    "split_on_vowels = re.split(r'[aeiou]', S1)\n",
    "\n",
    "print(\"String split on vowels:\", split_on_vowels)\n"
   ]
  },
  {
   "cell_type": "code",
   "execution_count": 95,
   "id": "5da52351-ed28-49d8-b78f-5a2dfdb912a9",
   "metadata": {},
   "outputs": [
    {
     "name": "stdout",
     "output_type": "stream",
     "text": [
      "Mirror image of the string: olleh\n"
     ]
    }
   ],
   "source": [
    "# 46.Python – Mirror Image of String\n",
    "\n",
    "S1 = \"hello\"\n",
    "\n",
    "mirror_image = S1[::-1]\n",
    "\n",
    "print(\"Mirror image of the string:\", mirror_image)\n"
   ]
  },
  {
   "cell_type": "code",
   "execution_count": 99,
   "id": "c87194e3-d6f5-43e3-b6c5-a95329456309",
   "metadata": {},
   "outputs": [
    {
     "name": "stdout",
     "output_type": "stream",
     "text": [
      "String after replacement: I like fruits and fruits\n"
     ]
    }
   ],
   "source": [
    "# 47.Python – Replace multiple words with K\n",
    "\n",
    "S1 = \"I like apples and bananas\"\n",
    "words_to_replace = [\"apples\", \"bananas\"]\n",
    "replacement_word = \"fruits\"\n",
    "\n",
    "for word in words_to_replace:\n",
    "    S1 = S1.replace(word, replacement_word)\n",
    "\n",
    "print(\"String after replacement:\", S1)\n"
   ]
  },
  {
   "cell_type": "code",
   "execution_count": 101,
   "id": "33c6f12f-87f7-4aff-91ff-9da59cf4d74a",
   "metadata": {},
   "outputs": [
    {
     "name": "stdout",
     "output_type": "stream",
     "text": [
      "String after replacements: Hello World\n"
     ]
    }
   ],
   "source": [
    "# 48.Python – Replace Different characters in String at Once\n",
    "\n",
    "S1 = \"hello world\"\n",
    "\n",
    "replacements = {'h': 'H', 'w': 'W'}\n",
    "\n",
    "for old_char, new_char in replacements.items():\n",
    "    S1 = S1.replace(old_char, new_char)\n",
    "\n",
    "print(\"String after replacements:\", S1)\n"
   ]
  },
  {
   "cell_type": "code",
   "execution_count": 115,
   "id": "5cf2152f-bf83-4f1a-a168-6af49d8aa5cf",
   "metadata": {},
   "outputs": [
    {
     "name": "stdout",
     "output_type": "stream",
     "text": [
      "String after multiple index replacement: Hello World\n"
     ]
    }
   ],
   "source": [
    "# 49.Python | Multiple indices Replace in String\n",
    "\n",
    "S1 = \"hello world\"\n",
    "\n",
    "indices_to_replace = [0, 6]  # Replace 'h' and 'w' with 'H' and 'W'\n",
    "replacement_chars = ['H', 'W']\n",
    "\n",
    "S1_list = list(S1)\n",
    "for index, new_char in zip(indices_to_replace, replacement_chars):\n",
    "    S1_list[index] = new_char\n",
    "\n",
    "replaced_string = ''.join(S1_list)\n",
    "\n",
    "print(\"String after multiple index replacement:\", replaced_string)\n"
   ]
  },
  {
   "cell_type": "code",
   "execution_count": 117,
   "id": "baee0f4a-a673-4852-bcdb-25d0d1c7e5a4",
   "metadata": {},
   "outputs": [
    {
     "name": "stdout",
     "output_type": "stream",
     "text": [
      "Strings after removing multiple empty spaces: ['hello world', 'python programming', 'spaces everywhere']\n"
     ]
    }
   ],
   "source": [
    "# 50.Python – Ways to remove multiple empty spaces from string List\n",
    "\n",
    "string_list = [\"hello  world\", \"python    programming\", \"   spaces   everywhere  \"]\n",
    "\n",
    "cleaned_list = [' '.join(string.split()) for string in string_list]\n",
    "\n",
    "print(\"Strings after removing multiple empty spaces:\", cleaned_list)\n"
   ]
  },
  {
   "cell_type": "code",
   "execution_count": 119,
   "id": "b36b2c89-dc67-4d0c-ae06-d62674d0c833",
   "metadata": {},
   "outputs": [
    {
     "name": "stdout",
     "output_type": "stream",
     "text": [
      "String after removing punctuation: hello world Python programming\n"
     ]
    }
   ],
   "source": [
    "# 51.Python | Remove punctuation from string\n",
    "\n",
    "import string\n",
    "\n",
    "S1 = \"hello, world! Python programming.\"\n",
    "\n",
    "cleaned_string = S1.translate(str.maketrans('', '', string.punctuation))\n",
    "\n",
    "print(\"String after removing punctuation:\", cleaned_string)\n"
   ]
  },
  {
   "cell_type": "code",
   "execution_count": 121,
   "id": "3400bf94-7bb1-40e5-99b7-0e18aea6a8d5",
   "metadata": {},
   "outputs": [
    {
     "name": "stdout",
     "output_type": "stream",
     "text": [
      "Do the strings have similar characters? True\n"
     ]
    }
   ],
   "source": [
    "# 52.Python – Similar characters Strings comparison\n",
    "\n",
    "S1 = \"aabbcc\"\n",
    "S2 = \"abcabc\"\n",
    "\n",
    "similarity = sorted(set(S1)) == sorted(set(S2))\n",
    "\n",
    "print(\"Do the strings have similar characters?\", similarity)\n"
   ]
  },
  {
   "cell_type": "code",
   "execution_count": 123,
   "id": "131254f7-af84-48be-bdb4-49d7e29f5e04",
   "metadata": {},
   "outputs": [
    {
     "name": "stdout",
     "output_type": "stream",
     "text": [
      "String after removing K length duplicates: abcabcde\n"
     ]
    }
   ],
   "source": [
    "# 53.Python – Remove K length Duplicates from String\n",
    "\n",
    "S1 = \"abcabcde\"\n",
    "\n",
    "K = 2\n",
    "\n",
    "seen = {}\n",
    "result = []\n",
    "for char in S1:\n",
    "    if char not in seen:\n",
    "        seen[char] = 1\n",
    "        result.append(char)\n",
    "    elif seen[char] < K:\n",
    "        seen[char] += 1\n",
    "        result.append(char)\n",
    "\n",
    "final_string = ''.join(result)\n",
    "\n",
    "print(\"String after removing K length duplicates:\", final_string)\n"
   ]
  },
  {
   "cell_type": "code",
   "execution_count": 125,
   "id": "f218ec5a-ebc1-4751-8628-2c9d743f7756",
   "metadata": {},
   "outputs": [
    {
     "name": "stdout",
     "output_type": "stream",
     "text": [
      "Strings after removing suffix: ['example', 'document.pdf', 'presentation.pptx']\n"
     ]
    }
   ],
   "source": [
    "# 54.Python – Remove suffix from string list\n",
    "\n",
    "string_list = [\"example.txt\", \"document.pdf\", \"presentation.pptx\"]\n",
    "\n",
    "suffix = \".txt\"\n",
    "\n",
    "cleaned_list = [string[:-len(suffix)] if string.endswith(suffix) else string for string in string_list]\n",
    "\n",
    "print(\"Strings after removing suffix:\", cleaned_list)\n"
   ]
  },
  {
   "cell_type": "code",
   "execution_count": 127,
   "id": "7d73d592-72a8-45da-a04b-ffd5f51319f2",
   "metadata": {},
   "outputs": [
    {
     "name": "stdout",
     "output_type": "stream",
     "text": [
      "Duplicate characters in the string: {'l': 3, 'o': 2}\n"
     ]
    }
   ],
   "source": [
    "# 55.Python Counter| Find all duplicate characters in string\n",
    "\n",
    "from collections import Counter\n",
    "\n",
    "S1 = \"hello world\"\n",
    "\n",
    "char_count = Counter(S1)\n",
    "\n",
    "duplicates = {char: count for char, count in char_count.items() if count > 1}\n",
    "\n",
    "print(\"Duplicate characters in the string:\", duplicates)\n"
   ]
  },
  {
   "cell_type": "code",
   "execution_count": 129,
   "id": "5b1095ec-50ad-4ea0-aaee-86843346199b",
   "metadata": {},
   "outputs": [
    {
     "name": "stdout",
     "output_type": "stream",
     "text": [
      "String after replacing duplicate occurrences: hello world REPLACED\n"
     ]
    }
   ],
   "source": [
    "# 56.Python – Replace duplicate Occurrence in String\n",
    "\n",
    "S1 = \"hello world hello\"\n",
    "\n",
    "words = S1.split()\n",
    "seen = {}\n",
    "for i in range(len(words)):\n",
    "    if words[i] in seen:\n",
    "        words[i] = \"REPLACED\"\n",
    "    else:\n",
    "        seen[words[i]] = 1\n",
    "\n",
    "replaced_string = ' '.join(words)\n",
    "\n",
    "print(\"String after replacing duplicate occurrences:\", replaced_string)\n"
   ]
  },
  {
   "cell_type": "code",
   "execution_count": 131,
   "id": "e89cbd68-f186-4e1f-873d-469e55dbe7e6",
   "metadata": {},
   "outputs": [
    {
     "name": "stdout",
     "output_type": "stream",
     "text": [
      "Converted dictionary: {'key1': 'value1', 'key2': 'value2', 'key3': 'value3'}\n"
     ]
    }
   ],
   "source": [
    "# 57.Ways to convert string to dictionary\n",
    "\n",
    "S1 = \"key1=value1,key2=value2,key3=value3\"\n",
    "\n",
    "dict_converted = dict(item.split('=') for item in S1.split(','))\n",
    "\n",
    "print(\"Converted dictionary:\", dict_converted)\n"
   ]
  },
  {
   "cell_type": "code",
   "execution_count": 133,
   "id": "34217f31-4e7c-4174-b38a-e91030ad3142",
   "metadata": {},
   "outputs": [
    {
     "name": "stdout",
     "output_type": "stream",
     "text": [
      "Are the strings rotationally equivalent? False\n"
     ]
    }
   ],
   "source": [
    "# 58.Python – Check if two strings are Rotationally Equivalent\n",
    "\n",
    "S1 = \"abcd\"\n",
    "S2 = \"cdab\"\n",
    "\n",
    "is_rotational = len(S1) == len(S2) and Sanchay2 in (S1 + S2)\n",
    "\n",
    "print(\"Are the strings rotationally equivalent?\", is_rotational)\n"
   ]
  },
  {
   "cell_type": "code",
   "execution_count": 135,
   "id": "fbf26882-68aa-4022-811a-a1e4425ad337",
   "metadata": {},
   "outputs": [
    {
     "name": "stdout",
     "output_type": "stream",
     "text": [
      "Is the first string a subset of the second? True\n"
     ]
    }
   ],
   "source": [
    "# 59.Python | Test if string is subset of another\n",
    "\n",
    "S1 = \"abc\"\n",
    "S2 = \"abcdefg\"\n",
    "\n",
    "is_subset = all(char in S2 for char in S1)\n",
    "\n",
    "print(\"Is the first string a subset of the second?\", is_subset)"
   ]
  },
  {
   "cell_type": "code",
   "execution_count": 63,
   "id": "25801e13-3252-4211-8253-2e4896a02bd0",
   "metadata": {},
   "outputs": [
    {
     "name": "stdout",
     "output_type": "stream",
     "text": [
      "Random binary string: 0011010011\n"
     ]
    }
   ],
   "source": [
    "# 60.Python Program to Generate Random binary string\n",
    "\n",
    "import random\n",
    "\n",
    "length = 10\n",
    "\n",
    "binary_string = ''.join(random.choice('01') for _ in range(length))\n",
    "\n",
    "print(\"Random binary string:\", binary_string)\n"
   ]
  },
  {
   "cell_type": "code",
   "execution_count": 64,
   "id": "684d5f24-0a02-41f3-9917-a37eef712bcb",
   "metadata": {},
   "outputs": [
    {
     "name": "stdout",
     "output_type": "stream",
     "text": [
      "Converted string: dom\n"
     ]
    }
   ],
   "source": [
    "# 61.Python Program to convert binary to string\n",
    "\n",
    "binary_string = \"1100100 1101111 1101101\"\n",
    "\n",
    "string_converted = ''.join(chr(int(b, 2)) for b in binary_string.split())\n",
    "\n",
    "print(\"Converted string:\", string_converted)\n"
   ]
  },
  {
   "cell_type": "code",
   "execution_count": 137,
   "id": "7309c529-5656-4773-a734-908bb10b4b3c",
   "metadata": {},
   "outputs": [
    {
     "name": "stdout",
     "output_type": "stream",
     "text": [
      "Reversed sorted string: wroolllhed \n"
     ]
    }
   ],
   "source": [
    "# 62.Python – Reverse Sort a String\n",
    "\n",
    "S1 = \"hello world\"\n",
    "\n",
    "reversed_sorted_string = ''.join(sorted(S1, reverse=True))\n",
    "\n",
    "print(\"Reversed sorted string:\", reversed_sorted_string)\n"
   ]
  },
  {
   "cell_type": "code",
   "execution_count": null,
   "id": "dc6294eb-1e40-4e0f-a8b8-5e081b245c42",
   "metadata": {},
   "outputs": [],
   "source": []
  }
 ],
 "metadata": {
  "kernelspec": {
   "display_name": "Python 3 (ipykernel)",
   "language": "python",
   "name": "python3"
  },
  "language_info": {
   "codemirror_mode": {
    "name": "ipython",
    "version": 3
   },
   "file_extension": ".py",
   "mimetype": "text/x-python",
   "name": "python",
   "nbconvert_exporter": "python",
   "pygments_lexer": "ipython3",
   "version": "3.12.4"
  }
 },
 "nbformat": 4,
 "nbformat_minor": 5
}
