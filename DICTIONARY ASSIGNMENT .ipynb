{
 "cells": [
  {
   "cell_type": "code",
   "execution_count": 4,
   "id": "22c64af9-c222-43c1-89b4-b56d7ed6798c",
   "metadata": {},
   "outputs": [
    {
     "name": "stdout",
     "output_type": "stream",
     "text": [
      "Sorted by keys: {'apple': 1, 'banana': 3, 'orange': 2}\n",
      "Sorted by values: {'apple': 1, 'orange': 2, 'banana': 3}\n"
     ]
    }
   ],
   "source": [
    "# 1. Python | Sort Python Dictionaries by Key or Value\n",
    "\n",
    "# Shorting by Keys\n",
    "\n",
    "my_dict = {'banana': 3, 'apple': 1, 'orange': 2}\n",
    "sorted_dict_by_key = dict(sorted(my_dict.items()))\n",
    "print(\"Sorted by keys:\", sorted_dict_by_key)\n",
    "\n",
    "# Shorting by Values\n",
    "\n",
    "my_dict = {'banana': 3, 'apple': 1, 'orange': 2}\n",
    "sorted_dict_by_value = dict(sorted(my_dict.items(), key=lambda item: item[1]))\n",
    "print(\"Sorted by values:\", sorted_dict_by_value)\n"
   ]
  },
  {
   "cell_type": "code",
   "execution_count": 6,
   "id": "b927d0fa-43b9-4f1c-9909-93ae76b19dee",
   "metadata": {},
   "outputs": [
    {
     "name": "stdout",
     "output_type": "stream",
     "text": [
      "Value: 0\n"
     ]
    }
   ],
   "source": [
    "# 2. Handling missing keys in Python dictionaries\n",
    "\n",
    "my_dict = {'apple': 1, 'banana': 2}\n",
    "value = my_dict.get('orange', 0)\n",
    "print(\"Value:\", value)  \n"
   ]
  },
  {
   "cell_type": "code",
   "execution_count": 8,
   "id": "bc13a503-f77a-4b38-a563-4dafa6f20323",
   "metadata": {},
   "outputs": [
    {
     "name": "stdout",
     "output_type": "stream",
     "text": [
      "Apple's color: red\n"
     ]
    }
   ],
   "source": [
    "# 3. Python dictionary with keys having multiple inputs\n",
    "\n",
    "# Creating a nested dictionary\n",
    "\n",
    "my_dict = {\n",
    "    'apple': {'color': 'red', 'taste': 'sweet'},\n",
    "    'banana': {'color': 'yellow', 'taste': 'sweet'},\n",
    "    'carrot': {'color': 'orange', 'taste': 'sweet'}\n",
    "}\n",
    "\n",
    "print(\"Apple's color:\", my_dict['apple']['color'])  # Output: Apple's color: red\n"
   ]
  },
  {
   "cell_type": "code",
   "execution_count": 3,
   "id": "80ee9b6f-4bcb-4da3-9635-3e99d66bbf0b",
   "metadata": {},
   "outputs": [
    {
     "name": "stdout",
     "output_type": "stream",
     "text": [
      "Total sum of all items: 75\n"
     ]
    }
   ],
   "source": [
    "# 4. Python program to find the sum of all items in a dictionary\n",
    "\n",
    "x = {\n",
    "    'apple': 11,\n",
    "    'banana': 22,\n",
    "    'orange': 19,\n",
    "    'grapes': 23\n",
    "}\n",
    "\n",
    "total_sum = sum(x.values())\n",
    "print(\"Total sum of all items:\", total_sum)"
   ]
  },
  {
   "cell_type": "code",
   "execution_count": 9,
   "id": "871095e6-7adc-438d-8510-507a7c0de371",
   "metadata": {},
   "outputs": [
    {
     "name": "stdout",
     "output_type": "stream",
     "text": [
      "Size of the dictionary: 4\n"
     ]
    }
   ],
   "source": [
    "# 5. Python program to find the size of a Dictionary\n",
    "\n",
    "y = {\n",
    "    'apple': 10,\n",
    "    'banana': 20,\n",
    "    'orange': 15,\n",
    "    'grapes': 25\n",
    "}\n",
    "size_of_dict = len(y)\n",
    "print(\"Size of the dictionary:\", size_of_dict)  # Output: Size of the dictionary: 4\n"
   ]
  },
  {
   "cell_type": "code",
   "execution_count": 16,
   "id": "909533cd-b5b7-416c-8aaa-b2fe0022eae3",
   "metadata": {},
   "outputs": [
    {
     "name": "stdout",
     "output_type": "stream",
     "text": [
      "Sorted students by score: [{'name': 'Rohan', 'score': 78}, {'name': 'Sanchay', 'score': 85}, {'name': 'Anaya', 'score': 92}, {'name': 'Tanvi', 'score': 95}]\n"
     ]
    }
   ],
   "source": [
    "# 6. Ways to sort list of dictionaries by values in Python – Using itemg etter\n",
    "\n",
    "students = [\n",
    "    {'name': 'Sanchay', 'score': 85},\n",
    "    {'name': 'Anaya', 'score': 92},\n",
    "    {'name': 'Rohan', 'score': 78},\n",
    "    {'name': 'Tanvi', 'score': 95}\n",
    "]\n",
    "\n",
    "from operator import itemgetter\n",
    "\n",
    "# Sorting the list of dictionaries by 'score'\n",
    "sorted_students = sorted(students, key=itemgetter('score'))\n",
    "\n",
    "print(\"Sorted students by score:\", sorted_students)\n"
   ]
  },
  {
   "cell_type": "code",
   "execution_count": 17,
   "id": "abb947c0-0754-478b-b1f3-9d7d32859906",
   "metadata": {},
   "outputs": [
    {
     "name": "stdout",
     "output_type": "stream",
     "text": [
      "Sorted employees by salary: [{'name': 'Rohan', 'salary': 60000}, {'name': 'Sanchay', 'salary': 70000}, {'name': 'Anaya', 'salary': 85000}, {'name': 'Tanvi', 'salary': 90000}]\n"
     ]
    }
   ],
   "source": [
    "# 7. Ways to sort list of dictionaries by values in Python – Using lambda function\n",
    "\n",
    "employees = [\n",
    "    {'name': 'Sanchay', 'salary': 70000},\n",
    "    {'name': 'Anaya', 'salary': 85000},\n",
    "    {'name': 'Rohan', 'salary': 60000},\n",
    "    {'name': 'Tanvi', 'salary': 90000}\n",
    "]\n",
    "sorted_employees = sorted(employees, key=lambda x: x['salary'])\n",
    "\n",
    "print(\"Sorted employees by salary:\", sorted_employees)\n"
   ]
  },
  {
   "cell_type": "code",
   "execution_count": 18,
   "id": "91bfb11c-3701-4c5d-8d81-d4f3d4e52d84",
   "metadata": {},
   "outputs": [
    {
     "name": "stdout",
     "output_type": "stream",
     "text": [
      "Merged dictionary: {'Sanchay': 25, 'Anaya': 30, 'Rohan': 22, 'Tanvi': 28}\n"
     ]
    }
   ],
   "source": [
    "# 8. Python | Merging two Dictionaries\n",
    "\n",
    "dict1 = {'Sanchay': 25, 'Anaya': 30}\n",
    "dict2 = {'Rohan': 22, 'Tanvi': 28}\n",
    "\n",
    "dict1.update(dict2)\n",
    "\n",
    "print(\"Merged dictionary:\", dict1)\n"
   ]
  },
  {
   "cell_type": "code",
   "execution_count": 19,
   "id": "82532aad-8e79-4898-9e6c-60f2d379be4f",
   "metadata": {},
   "outputs": [
    {
     "name": "stdout",
     "output_type": "stream",
     "text": [
      "Welcome to the Grade Calculator!\n"
     ]
    },
    {
     "name": "stdin",
     "output_type": "stream",
     "text": [
      "Enter your score (0-100):  50\n"
     ]
    },
    {
     "name": "stdout",
     "output_type": "stream",
     "text": [
      "Your grade is: F\n"
     ]
    }
   ],
   "source": [
    "# 9. Program to create grade calculator in Python\n",
    "\n",
    "print(\"Welcome to the Grade Calculator!\")\n",
    "\n",
    "try:\n",
    "    score = float(input(\"Enter your score (0-100): \"))\n",
    "\n",
    "    if 90 <= score <= 100:\n",
    "        grade = 'A'\n",
    "    elif 80 <= score < 90:\n",
    "        grade = 'B'\n",
    "    elif 70 <= score < 80:\n",
    "        grade = 'C'\n",
    "    elif 60 <= score < 70:\n",
    "        grade = 'D'\n",
    "    elif 0 <= score < 60:\n",
    "        grade = 'F'\n",
    "    else:\n",
    "        grade = 'Invalid score'\n",
    "\n",
    "    print(f\"Your grade is: {grade}\")\n",
    "\n",
    "except ValueError:\n",
    "    print(\"Please enter a valid number.\")\n"
   ]
  },
  {
   "cell_type": "code",
   "execution_count": 20,
   "id": "172bc395-83c0-4fad-b4f5-473905e787e8",
   "metadata": {},
   "outputs": [
    {
     "name": "stdout",
     "output_type": "stream",
     "text": [
      "Original OrderedDict: OrderedDict([('B', 2), ('C', 3)])\n",
      "Updated OrderedDict after insertion: OrderedDict([('A', 1), ('B', 2), ('C', 3)])\n"
     ]
    }
   ],
   "source": [
    "# 10. Python – Insertion at the beginning in OrderedDict\n",
    "\n",
    "from collections import OrderedDict\n",
    "\n",
    "ordered_dict = OrderedDict()\n",
    "ordered_dict['B'] = 2\n",
    "ordered_dict['C'] = 3\n",
    "\n",
    "print(\"Original OrderedDict:\", ordered_dict)\n",
    "\n",
    "new_key = 'A'\n",
    "new_value = 1\n",
    "\n",
    "ordered_dict = OrderedDict([(new_key, new_value)] + list(ordered_dict.items()))\n",
    "\n",
    "print(\"Updated OrderedDict after insertion:\", ordered_dict)\n"
   ]
  },
  {
   "cell_type": "code",
   "execution_count": 32,
   "id": "97ead17e-6569-46f6-bffc-05776903be31",
   "metadata": {},
   "outputs": [
    {
     "name": "stdout",
     "output_type": "stream",
     "text": [
      "Is the order of characters 'geer' present in 'engineer'? True\n"
     ]
    }
   ],
   "source": [
    "# 11. Python | Check order of character in string using OrderedDict( )\n",
    "\n",
    "from collections import OrderedDict\n",
    "\n",
    "string = \"engineer\"\n",
    "order = \"geer\"\n",
    "\n",
    "order_dict = OrderedDict.fromkeys(order)\n",
    "\n",
    "order_index = 0\n",
    "\n",
    "for char in string:\n",
    "    \n",
    "    if char in order_dict:\n",
    "        \n",
    "        if char == order[order_index]:\n",
    "            order_index += 1  # Move to the next expected character\n",
    "        \n",
    "        if order_index == len(order):\n",
    "            break\n",
    "\n",
    "if order_index == len(order):\n",
    "    print(f\"Is the order of characters '{order}' present in '{string}'? True\")\n",
    "else:\n",
    "    print(f\"Is the order of characters '{order}' present in '{string}'? False\")\n"
   ]
  },
  {
   "cell_type": "code",
   "execution_count": 33,
   "id": "ca7111e2-10e5-4d7a-8d08-0eec238356bf",
   "metadata": {},
   "outputs": [
    {
     "name": "stdout",
     "output_type": "stream",
     "text": [
      "Common elements in the three arrays: [2, 4]\n"
     ]
    }
   ],
   "source": [
    "# 12. Python | Find common elements in three sorted arrays by dictionary intersection\n",
    "\n",
    "from collections import Counter\n",
    "\n",
    "array1 = [1, 2, 3, 4, 5]\n",
    "array2 = [2, 4, 6, 8]\n",
    "array3 = [0, 2, 4, 6]\n",
    "\n",
    "count1 = Counter(array1)\n",
    "count2 = Counter(array2)\n",
    "count3 = Counter(array3)\n",
    "\n",
    "common_elements = list((count1 & count2 & count3).elements())\n",
    "\n",
    "print(\"Common elements in the three arrays:\", common_elements)\n"
   ]
  },
  {
   "cell_type": "code",
   "execution_count": 11,
   "id": "cf177303-bca6-4cef-8e66-f6a1d9e2dc82",
   "metadata": {},
   "outputs": [
    {
     "name": "stdout",
     "output_type": "stream",
     "text": [
      "Vote count: {'khushi': 3, 'SS': 4, 'Charlie': 2}\n",
      "Winner: SS with 4 votes\n"
     ]
    }
   ],
   "source": [
    "# 13. Dictionary and counter in Python to find winner of election\n",
    "\n",
    "from collections import Counter\n",
    "\n",
    "# Sample list of votes for candidates\n",
    "y = ['khushi', 'SS', 'khushi', 'Charlie', 'SS', 'khushi', 'Charlie', 'SS', 'SS']\n",
    "\n",
    "# Count the votes for each candidate\n",
    "vote_count = Counter(y)\n",
    "\n",
    "# Determine the winner\n",
    "winner = vote_count.most_common(1)[0]  # Get the candidate with the most votes\n",
    "\n",
    "# Print the results\n",
    "print(\"Vote count:\", dict(vote_count))\n",
    "print(\"Winner:\", winner[0], \"with\", winner[1], \"votes\")\n",
    "\n"
   ]
  },
  {
   "cell_type": "code",
   "execution_count": 13,
   "id": "75e4a1f4-a52c-4b8b-8737-84d9b8ea370a",
   "metadata": {},
   "outputs": [
    {
     "name": "stdout",
     "output_type": "stream",
     "text": [
      "Key with maximum unique values: Key3\n",
      "Number of unique values: 3\n"
     ]
    }
   ],
   "source": [
    "# 14. Python – Key with maximum unique values\n",
    "\n",
    "d1= {\n",
    "    'Key1': ['SS', 'SS', 'ValueA'],\n",
    "    'Key2': ['ValueB', 'ValueC', 'ValueB'],\n",
    "    'Key3': ['ValueD', 'ValueE', 'SS', 'ValueE'],\n",
    "    'Key4': ['SS', 'SS']\n",
    "}\n",
    "\n",
    "max_unique_key = None\n",
    "max_unique_count = 0\n",
    "\n",
    "for key, values in d1.items():\n",
    "    unique_values = set(values)  \n",
    "    unique_count = len(unique_values) \n",
    "    \n",
    "    if unique_count > max_unique_count:\n",
    "        max_unique_count = unique_count\n",
    "        max_unique_key = key\n",
    "\n",
    "print(\"Key with maximum unique values:\", max_unique_key)\n",
    "print(\"Number of unique values:\", max_unique_count)\n"
   ]
  },
  {
   "cell_type": "code",
   "execution_count": 15,
   "id": "b847a5b3-1990-4bf1-9690-b3c3dcf86553",
   "metadata": {},
   "outputs": [
    {
     "name": "stdout",
     "output_type": "stream",
     "text": [
      "Duplicate characters and their counts: {'k': 2, 'h': 4, 'u': 2, 's': 5, 'i': 2}\n"
     ]
    }
   ],
   "source": [
    "# 15. Find all duplicate characters in string\n",
    "\n",
    "from collections import Counter\n",
    "\n",
    "d1 = \"khushissskhushi\"\n",
    "\n",
    "SS = Counter(d1)\n",
    "\n",
    "duplicates = {char: count for char, count in SS.items() if count > 1}\n",
    "\n",
    "print(\"Duplicate characters and their counts:\", duplicates)\n"
   ]
  },
  {
   "cell_type": "code",
   "execution_count": 19,
   "id": "b88dd0e2-48ac-406e-adb3-26d5870d4d5d",
   "metadata": {},
   "outputs": [
    {
     "name": "stdout",
     "output_type": "stream",
     "text": [
      "Grouped dictionary: {'a': ['apple', 'apricot', 'avocado'], 'b': ['banana', 'blueberry'], 'c': ['cherry']}\n"
     ]
    }
   ],
   "source": [
    "# 16. Python – Group Similar items to Dictionary Values List\n",
    "\n",
    "from collections import defaultdict\n",
    "\n",
    "d1 = ['apple', 'banana', 'apricot', 'blueberry', 'cherry', 'avocado']\n",
    "\n",
    "SS = defaultdict(list)\n",
    "\n",
    "for item in d1:\n",
    "    first_letter = item[0]  \n",
    "    SS[first_letter].append(item)  \n",
    "\n",
    "SS = dict(SS)\n",
    "print(\"Grouped dictionary:\", SS)\n"
   ]
  },
  {
   "cell_type": "code",
   "execution_count": 23,
   "id": "d745e40e-b5f9-4eef-9e57-2f7f8ab1a464",
   "metadata": {},
   "outputs": [
    {
     "name": "stdout",
     "output_type": "stream",
     "text": [
      "The 3th non-repeating character is: s\n"
     ]
    }
   ],
   "source": [
    "# 17. K’th Non-repeating Character in Python using List Comprehension and OrderedDict\n",
    "\n",
    "from collections import OrderedDict\n",
    "\n",
    "d1 = \"xadministrationx\"\n",
    "K = 3  \n",
    "\n",
    "SS = OrderedDict()\n",
    "for char in d1:\n",
    "    SS[char] = SS.get(char, 0) + 1\n",
    "\n",
    "non_repeating_chars = [char for char, count in SS.items() if count == 1]\n",
    "\n",
    "if K <= len(non_repeating_chars):\n",
    "    kth_non_repeating = non_repeating_chars[K - 1]\n",
    "    print(f\"The {K}th non-repeating character is:\", kth_non_repeating)\n",
    "else:\n",
    "    print(f\"There are less than {K} non-repeating characters in the string.\")\n"
   ]
  },
  {
   "cell_type": "code",
   "execution_count": 27,
   "id": "3fd2a118-5305-40ff-9757-1ee345554de2",
   "metadata": {},
   "outputs": [
    {
     "name": "stdout",
     "output_type": "stream",
     "text": [
      "Updated string: Hello, my name is ayush. I am {age} years old and I live in {city}.\n"
     ]
    }
   ],
   "source": [
    "# 18. Python – Replace String by Kth Dictionary value\n",
    "\n",
    "x = {'name': 'ayush', 'age': '20', 'city': 'SS'}\n",
    "\n",
    "input_string = \"Hello, my name is {name}. I am {age} years old and I live in {city}.\"\n",
    "\n",
    "K = 0 \n",
    "\n",
    "keys = list(x.keys())\n",
    "if K < len(keys):\n",
    "    key_to_replace = keys[K]\n",
    "    # Replace the K'th key's placeholder with its value\n",
    "    output_string = input_string.replace(f\"{{{key_to_replace}}}\", x[key_to_replace])\n",
    "    print(\"Updated string:\", output_string)\n",
    "else:\n",
    "    print(\"The specified K value exceeds the number of keys in the dictionary.\")\n"
   ]
  },
  {
   "cell_type": "code",
   "execution_count": 33,
   "id": "b8011801-7bd9-4289-86ed-ed6c48e2d381",
   "metadata": {},
   "outputs": [
    {
     "name": "stdout",
     "output_type": "stream",
     "text": [
      "After using del: {'name': 'arun', 'city': 'SS'}\n",
      "After using pop: {'name': 'rahul', 'age': '20'}\n",
      "After using dictionary comprehension: {'age': '20', 'city': 'SS'}\n",
      "After using popitem: {'name': 'Sanchi', 'age': '20'}\n"
     ]
    }
   ],
   "source": [
    "# 19. Python | Ways to remove a key from dictionary\n",
    "\n",
    "\n",
    "y1 = {'name': 'arun', 'age': '20', 'city': 'SS'}\n",
    "\n",
    "\n",
    "del y1['age']  \n",
    "print(\"After using del:\", y1)\n",
    "\n",
    "\n",
    "y2 = {'name': 'rahul', 'age': '20', 'city': 'SS'}\n",
    "\n",
    "\n",
    "y2.pop('city')  \n",
    "print(\"After using pop:\", y2)\n",
    "\n",
    "\n",
    "y3 = {'name': 'rohan', 'age': '20', 'city': 'SS'}\n",
    "\n",
    "\n",
    "y4 = {key: value for key, value in y3.items() if key != 'name'}\n",
    "print(\"After using dictionary comprehension:\", y4)\n",
    "\n",
    "\n",
    "y5 = {'name': 'Sanchi', 'age': '20', 'city': 'SS'}\n",
    "\n",
    "\n",
    "y5.popitem()  \n",
    "print(\"After using popitem:\", y5)\n"
   ]
  },
  {
   "cell_type": "code",
   "execution_count": 35,
   "id": "4b62fcc1-3b2f-4c81-a453-ec1c81dc7357",
   "metadata": {},
   "outputs": [
    {
     "name": "stdout",
     "output_type": "stream",
     "text": [
      "Updated string: SS ayushi, welcome to language programming!\n"
     ]
    }
   ],
   "source": [
    "# 20. •\tPython – Replace words from Dictionary \n",
    "\n",
    "d1 = {'hello': 'SS', 'world': 'ayushi', 'Python': 'language'}\n",
    "\n",
    "input_string = \"hello world, welcome to Python programming!\"\n",
    "\n",
    "for key, value in d1.items():\n",
    "    input_string = input_string.replace(key, value)\n",
    "\n",
    "print(\"Updated string:\", input_string)\n"
   ]
  },
  {
   "cell_type": "code",
   "execution_count": 43,
   "id": "449fb1e1-be55-4b2e-ab5f-9db23325895b",
   "metadata": {},
   "outputs": [
    {
     "name": "stdout",
     "output_type": "stream",
     "text": [
      "After removing specific keys using dictionary comprehension: {'name': 'aahan', 'country': 'India'}\n",
      "After removing specific keys using pop() in a loop: {'name': 'Sanchi', 'country': 'India'}\n"
     ]
    }
   ],
   "source": [
    "# 21. Python – Remove Dictionary Key Words\n",
    "\n",
    "d1 = {'name': 'aahan', 'age': '20', 'city': 'SS', 'country': 'India'}\n",
    "\n",
    "keys_to_remove = ['age', 'city']\n",
    "\n",
    "d1 = {key: value for key, value in d1.items() if key not in keys_to_remove}\n",
    "print(\"After removing specific keys using dictionary comprehension:\", d1)\n",
    "\n",
    "d3 = {'name': 'Sanchi', 'age': '20', 'city': 'SS', 'country': 'India'}\n",
    "\n",
    "for key in keys_to_remove:\n",
    "    d3.pop(key, None)  \n",
    "print(\"After removing specific keys using pop() in a loop:\", d3)\n"
   ]
  },
  {
   "cell_type": "code",
   "execution_count": 45,
   "id": "7bbf0756-075d-4dd4-8dde-73ba5ed8ba1e",
   "metadata": {},
   "outputs": [
    {
     "name": "stdout",
     "output_type": "stream",
     "text": [
      "Sentence after removing duplicates: This is a test sentence and simple fun\n"
     ]
    }
   ],
   "source": [
    "# 22. Python | Remove all duplicates words from a given sentence\n",
    "\n",
    "d1_sentence = \"This is a test sentence and this test is simple and fun\"\n",
    "\n",
    "SS_unique_words = []\n",
    "SS_seen = set()\n",
    "\n",
    "for word in d1_sentence.split():\n",
    "    \n",
    "    word_lower = word.lower()\n",
    "    if word_lower not in SS_seen:\n",
    "        SS_unique_words.append(word)\n",
    "        SS_seen.add(word_lower)\n",
    "\n",
    "d1_result = ' '.join(SS_unique_words)\n",
    "print(\"Sentence after removing duplicates:\", d1_result)\n"
   ]
  },
  {
   "cell_type": "code",
   "execution_count": 47,
   "id": "8045a296-3680-4192-bf06-b3faac7d0386",
   "metadata": {},
   "outputs": [
    {
     "name": "stdout",
     "output_type": "stream",
     "text": [
      "Dictionary after removing duplicate values across all keys: {'SS1': ['apple', 'banana', 'mango'], 'SS2': ['kiwi'], 'SS3': ['grape']}\n"
     ]
    }
   ],
   "source": [
    "# 23. Python – Remove duplicate values across Dictionary Values\n",
    "\n",
    "d1_dict = {\n",
    "    'SS1': ['apple', 'banana', 'apple', 'mango'],\n",
    "    'SS2': ['banana', 'kiwi', 'apple'],\n",
    "    'SS3': ['mango', 'kiwi', 'grape']\n",
    "}\n",
    "\n",
    "SS_seen = set()\n",
    "\n",
    "d1_result = {key: [] for key in d1_dict} \n",
    "\n",
    "for key, values in d1_dict.items():\n",
    "    for value in values:\n",
    "        if value not in SS_seen:\n",
    "            d1_result[key].append(value)\n",
    "            SS_seen.add(value)\n",
    "\n",
    "print(\"Dictionary after removing duplicate values across all keys:\", d1_result)\n"
   ]
  },
  {
   "cell_type": "code",
   "execution_count": 49,
   "id": "6505c090-27b6-4acd-8336-3a8b36695398",
   "metadata": {},
   "outputs": [
    {
     "name": "stdout",
     "output_type": "stream",
     "text": [
      "Mirror string: hzmxszb\n"
     ]
    }
   ],
   "source": [
    "# 24. Python Dictionary to find mirror characters in a string\n",
    "\n",
    "d1_mirror_dict = {\n",
    "    'a': 'z', 'b': 'y', 'c': 'x', 'd': 'w', 'e': 'v', 'f': 'u', 'g': 't', 'h': 's', 'i': 'r', 'j': 'q',\n",
    "    'k': 'p', 'l': 'o', 'm': 'n', 'n': 'm', 'o': 'l', 'p': 'k', 'q': 'j', 'r': 'i', 's': 'h', 't': 'g',\n",
    "    'u': 'f', 'v': 'e', 'w': 'd', 'x': 'c', 'y': 'b', 'z': 'a'\n",
    "}\n",
    "\n",
    "d1_string = \"sanchay\"\n",
    "\n",
    "d1_mirror_result = ''.join(d1_mirror_dict.get(char, char) for char in d1_string)\n",
    "\n",
    "print(\"Mirror string:\", d1_mirror_result)\n"
   ]
  },
  {
   "cell_type": "code",
   "execution_count": 51,
   "id": "f4ed5aa6-53c9-4980-b08c-112d01b9cbc3",
   "metadata": {},
   "outputs": [
    {
     "name": "stdout",
     "output_type": "stream",
     "text": [
      "Frequencies of elements: {'apple': 3, 'banana': 2, 'orange': 1, 'SS': 2, 'rahul': 1}\n"
     ]
    }
   ],
   "source": [
    "# 25. Counting the frequencies in a list using dictionary in Python\n",
    "\n",
    "d1_list = ['apple', 'banana', 'apple', 'orange', 'banana', 'apple', 'SS', 'SS', 'rahul']\n",
    "\n",
    "SS_frequency = {}\n",
    "\n",
    "for item in d1_list:\n",
    "    if item in SS_frequency:\n",
    "        SS_frequency[item] += 1  \n",
    "    else:\n",
    "        SS_frequency[item] = 1   \n",
    "\n",
    "print(\"Frequencies of elements:\", SS_frequency)\n"
   ]
  },
  {
   "cell_type": "code",
   "execution_count": 53,
   "id": "0fc0e42b-7023-4929-bd4b-e9f6ade1dba5",
   "metadata": {},
   "outputs": [
    {
     "name": "stdout",
     "output_type": "stream",
     "text": [
      "Mean of the dictionary values: 30.0\n"
     ]
    }
   ],
   "source": [
    "# 27. •\tPython – Dictionary Values Mean\n",
    "\n",
    "d1_dict = {\n",
    "    'SS1': 10,\n",
    "    'SS2': 20,\n",
    "    'SS3': 30,\n",
    "    'SS4': 40,\n",
    "    'SS5': 50\n",
    "}\n",
    "SS_sum = sum(d1_dict.values()) \n",
    "SS_count = len(d1_dict)         \n",
    "d1_mean = SS_sum / SS_count       \n",
    "\n",
    "print(\"Mean of the dictionary values:\", d1_mean)\n"
   ]
  },
  {
   "cell_type": "code",
   "execution_count": 57,
   "id": "4e127dec-7050-404e-b7be-b3ed04b0e899",
   "metadata": {},
   "outputs": [
    {
     "name": "stdout",
     "output_type": "stream",
     "text": [
      "You cannot form 'rohittt' from 'rahulrr' using deletions and rearrangements.\n"
     ]
    }
   ],
   "source": [
    "# 28. Python counter and dictionary intersection example (Make a string using deletion and rearrangement)\n",
    "\n",
    "from collections import Counter\n",
    "\n",
    "d1_string1 = \"rahulrr\"\n",
    "d1_string2 = \"rohittt\"\n",
    "\n",
    "SS_counter1 = Counter(d1_string1)\n",
    "SS_counter2 = Counter(d1_string2)\n",
    "\n",
    "can_form = all(SS_counter2[char] <= SS_counter1[char] for char in SS_counter2)\n",
    "\n",
    "if can_form:\n",
    "    print(f\"You can form '{d1_string2}' from '{d1_string1}' using deletions and rearrangements.\")\n",
    "else:\n",
    "    print(f\"You cannot form '{d1_string2}' from '{d1_string1}' using deletions and rearrangements.\")\n"
   ]
  },
  {
   "cell_type": "code",
   "execution_count": 59,
   "id": "e1c5d8cd-9467-4f83-bb64-b3d585f8ceb0",
   "metadata": {},
   "outputs": [
    {
     "name": "stdout",
     "output_type": "stream",
     "text": [
      "The frequencies can become the same.\n"
     ]
    }
   ],
   "source": [
    "# 29. Python dictionary, set and counter to check if frequencies can become same\n",
    "\n",
    "from collections import Counter\n",
    "\n",
    "d1_dict1 = {'apple': 3, 'banana': 2, 'orange': 1}\n",
    "d1_dict2 = {'banana': 3, 'apple': 1, 'orange': 2}\n",
    "\n",
    "SS_counter1 = Counter(d1_dict1)\n",
    "SS_counter2 = Counter(d1_dict2)\n",
    "\n",
    "SS_freq_set1 = set(SS_counter1.values())\n",
    "SS_freq_set2 = set(SS_counter2.values())\n",
    "\n",
    "if SS_freq_set1 == SS_freq_set2:\n",
    "    print(\"The frequencies can become the same.\")\n",
    "else:\n",
    "    print(\"The frequencies cannot become the same.\")\n"
   ]
  },
  {
   "cell_type": "code",
   "execution_count": 63,
   "id": "61e212d1-cd09-409c-a98b-8f7a0dab8a12",
   "metadata": {},
   "outputs": [
    {
     "name": "stdout",
     "output_type": "stream",
     "text": [
      "Ordered words in the dictionary:\n",
      "example: 2\n",
      "domain: 4\n",
      "this: 2\n",
      "is: 1\n",
      "for: 2\n",
      "use: 2\n",
      "in: 3\n",
      "illustrative: 1\n",
      "examples: 1\n",
      "you: 1\n",
      "may: 1\n",
      "literature: 1\n",
      "without: 1\n",
      "prior: 1\n",
      "coordination: 1\n",
      "or: 1\n",
      "asking: 1\n",
      "more: 1\n"
     ]
    }
   ],
   "source": [
    "30. # Scraping And Finding Ordered Words In A Dictionary using Python\n",
    "\n",
    "import requests\n",
    "from bs4 import BeautifulSoup\n",
    "from collections import OrderedDict\n",
    "\n",
    "url = 'https://www.example.com'  \n",
    "\n",
    "response = requests.get(url)\n",
    "if response.status_code == 200:\n",
    "    \n",
    "    soup = BeautifulSoup(response.content, 'html.parser')\n",
    "    \n",
    "    text = soup.get_text()\n",
    "    \n",
    "    d1_words = [word for word in text.split() if word.isalpha()]\n",
    "    \n",
    "    SS_ordered_dict = OrderedDict()\n",
    "    \n",
    "    for word in d1_words:\n",
    "        \n",
    "        word_lower = word.lower()\n",
    "        if word_lower not in SS_ordered_dict:\n",
    "            SS_ordered_dict[word_lower] = 1 \n",
    "        else:\n",
    "            SS_ordered_dict[word_lower] += 1  \n",
    "\n",
    "    print(\"Ordered words in the dictionary:\")\n",
    "    for word, count in SS_ordered_dict.items():\n",
    "        print(f\"{word}: {count}\")\n",
    "else:\n",
    "    print(\"Failed to retrieve the webpage.\")\n"
   ]
  },
  {
   "cell_type": "code",
   "execution_count": 71,
   "id": "1207cfaa-790f-45f2-bc3d-bb54b8f8e29e",
   "metadata": {},
   "outputs": [
    {
     "name": "stdout",
     "output_type": "stream",
     "text": [
      "Possible words using the given characters:\n",
      "c\n",
      "bac\n",
      "b\n",
      "cab\n",
      "ab\n",
      "a\n",
      "abc\n",
      "ba\n"
     ]
    }
   ],
   "source": [
    "# 31. Possible Words using given characters in Python\n",
    "\n",
    "import itertools\n",
    "d1_characters = 'abc'  \n",
    "\n",
    "SS_word_list = {'a', 'ab', 'abc', 'b', 'c', 'ba', 'bac', 'cab'}\n",
    "\n",
    "d1_possible_words = set()\n",
    "\n",
    "for length in range(1, len(d1_characters) + 1):\n",
    "    for perm in itertools.permutations(d1_characters, length):\n",
    "        word = ''.join(perm)  # Join the tuple to form a word\n",
    "        if word in SS_word_list:\n",
    "            d1_possible_words.add(word)\n",
    "\n",
    "print(\"Possible words using the given characters:\")\n",
    "for word in d1_possible_words:\n",
    "    print(word)\n"
   ]
  },
  {
   "cell_type": "code",
   "execution_count": 73,
   "id": "088ca5bd-c80a-4ed8-96da-8645d2f6655f",
   "metadata": {},
   "outputs": [
    {
     "name": "stdout",
     "output_type": "stream",
     "text": [
      "Key with the maximum value: SS2\n",
      "Maximum value: 50\n"
     ]
    }
   ],
   "source": [
    "# 32. Python – Maximum record value key in dictionary\n",
    "\n",
    "d1_dict = {\n",
    "    'SS1': 10,\n",
    "    'SS2': 50,\n",
    "    'SS3': 30,\n",
    "    'SS4': 20,\n",
    "    'SS5': 40\n",
    "}\n",
    "d1_max_key = max(d1_dict, key=d1_dict.get)\n",
    "d1_max_value = d1_dict[d1_max_key]\n",
    "\n",
    "print(\"Key with the maximum value:\", d1_max_key)\n",
    "print(\"Maximum value:\", d1_max_value)\n"
   ]
  },
  {
   "cell_type": "code",
   "execution_count": 75,
   "id": "b55f4042-04cc-4447-9e6d-bc3bf70f7dd9",
   "metadata": {},
   "outputs": [
    {
     "name": "stdout",
     "output_type": "stream",
     "text": [
      "Extracted values for 'name': ['Eve', 'David', 'Charlie', 'Bob', 'Alice']\n"
     ]
    }
   ],
   "source": [
    "# 33. Python – Extract values of Particular Key in Nested Values\n",
    "\n",
    "d1_data = {\n",
    "    'SS1': {'name': 'Alice', 'age': 30},\n",
    "    'SS2': {'name': 'Bob', 'age': 25},\n",
    "    'SS3': {'details': {'name': 'Charlie', 'age': 28}},\n",
    "    'SS4': {'details': {'name': 'David', 'age': 22}},\n",
    "    'SS5': {'name': 'Eve', 'age': 35}\n",
    "}\n",
    "\n",
    "target_key = 'name'\n",
    "\n",
    "d1_values = []\n",
    "\n",
    "stack = [d1_data]\n",
    "\n",
    "while stack:\n",
    "    current_dict = stack.pop()  \n",
    "    for key, value in current_dict.items():\n",
    "        if key == target_key:\n",
    "            d1_values.append(value)  \n",
    "        elif isinstance(value, dict):\n",
    "            stack.append(value)  \n",
    "\n",
    "print(\"Extracted values for 'name':\", d1_values)\n"
   ]
  },
  {
   "cell_type": "code",
   "execution_count": null,
   "id": "6830ca6d-6749-4a8e-93e8-0270111966e2",
   "metadata": {},
   "outputs": [],
   "source": []
  }
 ],
 "metadata": {
  "kernelspec": {
   "display_name": "Python 3 (ipykernel)",
   "language": "python",
   "name": "python3"
  },
  "language_info": {
   "codemirror_mode": {
    "name": "ipython",
    "version": 3
   },
   "file_extension": ".py",
   "mimetype": "text/x-python",
   "name": "python",
   "nbconvert_exporter": "python",
   "pygments_lexer": "ipython3",
   "version": "3.12.4"
  }
 },
 "nbformat": 4,
 "nbformat_minor": 5
}
