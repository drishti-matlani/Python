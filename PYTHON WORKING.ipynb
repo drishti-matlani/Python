{
  "cells": [
    {
      "cell_type": "markdown",
      "source": [
        "# **STARTING PYTHON**"
      ],
      "metadata": {
        "id": "rC-R4Vi5eSzZ"
      },
      "id": "rC-R4Vi5eSzZ"
    },
    {
      "cell_type": "code",
      "source": [
        "# First output"
      ],
      "metadata": {
        "id": "6CXj7yxDn97I"
      },
      "id": "6CXj7yxDn97I",
      "execution_count": null,
      "outputs": []
    },
    {
      "cell_type": "code",
      "execution_count": null,
      "id": "916c0c88-0292-470a-9af4-abf532817888",
      "metadata": {
        "id": "916c0c88-0292-470a-9af4-abf532817888",
        "outputId": "1d975c7d-2c59-4a2e-e6bf-ca79bafeae73",
        "colab": {
          "base_uri": "https://localhost:8080/"
        }
      },
      "outputs": [
        {
          "output_type": "stream",
          "name": "stdout",
          "text": [
            "Hello brother\n"
          ]
        }
      ],
      "source": [
        "print(\"Hello brother\")"
      ]
    },
    {
      "cell_type": "code",
      "execution_count": null,
      "id": "df04926e-d563-4cb7-b852-2fc3651740ac",
      "metadata": {
        "id": "df04926e-d563-4cb7-b852-2fc3651740ac"
      },
      "outputs": [],
      "source": [
        "# This is an addition program."
      ]
    },
    {
      "cell_type": "code",
      "execution_count": null,
      "id": "1d6e062e-f4bc-44c2-8f7b-2b8d5c0f588c",
      "metadata": {
        "id": "1d6e062e-f4bc-44c2-8f7b-2b8d5c0f588c",
        "outputId": "75b2d88a-fb7b-406c-ae59-b355b7914ec5",
        "colab": {
          "base_uri": "https://localhost:8080/"
        }
      },
      "outputs": [
        {
          "output_type": "stream",
          "name": "stdout",
          "text": [
            "11\n"
          ]
        }
      ],
      "source": [
        "x= 5\n",
        "y= 6\n",
        "c= x+y\n",
        "print(c)"
      ]
    },
    {
      "cell_type": "code",
      "execution_count": null,
      "id": "fa938b04-7a74-49a2-b215-7d351743da60",
      "metadata": {
        "id": "fa938b04-7a74-49a2-b215-7d351743da60"
      },
      "outputs": [],
      "source": [
        "# This is a subtraction program"
      ]
    },
    {
      "cell_type": "code",
      "execution_count": null,
      "id": "fdcc3a34-b0d8-499e-a8e3-ee60df360d42",
      "metadata": {
        "id": "fdcc3a34-b0d8-499e-a8e3-ee60df360d42",
        "outputId": "df4e0cac-7b3f-4a8b-c34d-697111333fc7",
        "colab": {
          "base_uri": "https://localhost:8080/"
        }
      },
      "outputs": [
        {
          "output_type": "stream",
          "name": "stdout",
          "text": [
            "9\n"
          ]
        }
      ],
      "source": [
        "x= 15\n",
        "y= 6\n",
        "c= x-y\n",
        "print(c)"
      ]
    },
    {
      "cell_type": "code",
      "execution_count": null,
      "id": "d5e42eaf-0b83-4b33-b0a6-82109af05149",
      "metadata": {
        "id": "d5e42eaf-0b83-4b33-b0a6-82109af05149"
      },
      "outputs": [],
      "source": [
        "# This is a modulus program"
      ]
    },
    {
      "cell_type": "code",
      "execution_count": null,
      "id": "a9e2ad83-567b-4f76-9777-71fdbd9d8917",
      "metadata": {
        "id": "a9e2ad83-567b-4f76-9777-71fdbd9d8917",
        "outputId": "3f609463-fb6c-4758-9bfe-32ea5881f13c",
        "colab": {
          "base_uri": "https://localhost:8080/"
        }
      },
      "outputs": [
        {
          "output_type": "stream",
          "name": "stdout",
          "text": [
            "4\n"
          ]
        }
      ],
      "source": [
        "x= 234\n",
        "y= 10\n",
        "c= x%y\n",
        "print(c)"
      ]
    },
    {
      "cell_type": "code",
      "execution_count": null,
      "id": "2a0806df-c37e-4c15-98f5-8e710992959d",
      "metadata": {
        "id": "2a0806df-c37e-4c15-98f5-8e710992959d"
      },
      "outputs": [],
      "source": [
        "# This is a multiplication program"
      ]
    },
    {
      "cell_type": "code",
      "execution_count": null,
      "id": "804c4349-811b-4120-a724-274d02301879",
      "metadata": {
        "id": "804c4349-811b-4120-a724-274d02301879",
        "outputId": "f423c528-6b2c-4dc3-f8c3-e8fda4315246",
        "colab": {
          "base_uri": "https://localhost:8080/"
        }
      },
      "outputs": [
        {
          "output_type": "stream",
          "name": "stdout",
          "text": [
            "1298\n"
          ]
        }
      ],
      "source": [
        "x=118\n",
        "y=11\n",
        "c=x*y\n",
        "print(c)"
      ]
    },
    {
      "cell_type": "code",
      "execution_count": null,
      "id": "665cc384-7d89-4b50-bb26-383397187a25",
      "metadata": {
        "id": "665cc384-7d89-4b50-bb26-383397187a25"
      },
      "outputs": [],
      "source": [
        "# This is a division program"
      ]
    },
    {
      "cell_type": "code",
      "execution_count": null,
      "id": "77278c48-92b4-4d26-a9cf-062bc6de32c3",
      "metadata": {
        "id": "77278c48-92b4-4d26-a9cf-062bc6de32c3",
        "outputId": "0ce66cc5-874d-44a0-cb64-3b0d0df0b40f",
        "colab": {
          "base_uri": "https://localhost:8080/"
        }
      },
      "outputs": [
        {
          "output_type": "stream",
          "name": "stdout",
          "text": [
            "23\n"
          ]
        }
      ],
      "source": [
        "x=234\n",
        "y=10\n",
        "c=x//y\n",
        "print(c)"
      ]
    },
    {
      "cell_type": "code",
      "execution_count": null,
      "id": "66e733ab-e93e-4094-a4eb-b6c9685a058c",
      "metadata": {
        "id": "66e733ab-e93e-4094-a4eb-b6c9685a058c"
      },
      "outputs": [],
      "source": [
        "# This is an indentataion error. In python we have to give spaces at least one space before the print function."
      ]
    },
    {
      "cell_type": "code",
      "execution_count": null,
      "id": "feaac84d-14fe-4c80-817c-4b795160a60f",
      "metadata": {
        "id": "feaac84d-14fe-4c80-817c-4b795160a60f",
        "outputId": "ed616723-7693-4aa6-c8cb-5b051870cc7e",
        "colab": {
          "base_uri": "https://localhost:8080/"
        }
      },
      "outputs": [
        {
          "output_type": "stream",
          "name": "stdout",
          "text": [
            "five is reater than two\n"
          ]
        }
      ],
      "source": [
        "if 5>2:\n",
        " print(\"five is reater than two\")                                   #if we don't give indentation before it dosen't print the output"
      ]
    },
    {
      "cell_type": "code",
      "execution_count": null,
      "id": "0e8405d1-04d1-43a6-b0af-f250760906bb",
      "metadata": {
        "id": "0e8405d1-04d1-43a6-b0af-f250760906bb"
      },
      "outputs": [],
      "source": [
        "# This is indentation. Indentation is only used in conditions."
      ]
    },
    {
      "cell_type": "code",
      "execution_count": null,
      "id": "5a77c9ba-1146-4da4-8346-79575db6fcc2",
      "metadata": {
        "id": "5a77c9ba-1146-4da4-8346-79575db6fcc2",
        "outputId": "89c3fbbc-a77a-4bb6-f198-b55e87a26daf",
        "colab": {
          "base_uri": "https://localhost:8080/"
        }
      },
      "outputs": [
        {
          "output_type": "stream",
          "name": "stdout",
          "text": [
            "five is reater than two\n"
          ]
        }
      ],
      "source": [
        "if 5>2:\n",
        "  print(\"five is reater than two\")"
      ]
    },
    {
      "cell_type": "code",
      "execution_count": null,
      "id": "81c42c29-85ed-40b5-85ec-a35f78de8c64",
      "metadata": {
        "id": "81c42c29-85ed-40b5-85ec-a35f78de8c64"
      },
      "outputs": [],
      "source": [
        "# This is a wrong syntax error. Beacause python habve some in-build functions & is case sensitive."
      ]
    },
    {
      "cell_type": "code",
      "execution_count": null,
      "id": "0044267a-17b9-4081-b508-5e6e084da48d",
      "metadata": {
        "id": "0044267a-17b9-4081-b508-5e6e084da48d",
        "outputId": "dc3f2e30-8463-46b5-f004-f0ee1031b29d",
        "colab": {
          "base_uri": "https://localhost:8080/",
          "height": 146
        }
      },
      "outputs": [
        {
          "output_type": "error",
          "ename": "NameError",
          "evalue": "name 'PRINT' is not defined",
          "traceback": [
            "\u001b[0;31m---------------------------------------------------------------------------\u001b[0m",
            "\u001b[0;31mNameError\u001b[0m                                 Traceback (most recent call last)",
            "\u001b[0;32m<ipython-input-100-6ceae81bb51b>\u001b[0m in \u001b[0;36m<cell line: 1>\u001b[0;34m()\u001b[0m\n\u001b[0;32m----> 1\u001b[0;31m \u001b[0mPRINT\u001b[0m\u001b[0;34m(\u001b[0m\u001b[0;34m\"hello world\"\u001b[0m\u001b[0;34m)\u001b[0m                                                              \u001b[0;31m#We can't use keyword and in-build python functions as a variable\u001b[0m\u001b[0;34m\u001b[0m\u001b[0;34m\u001b[0m\u001b[0m\n\u001b[0m",
            "\u001b[0;31mNameError\u001b[0m: name 'PRINT' is not defined"
          ]
        }
      ],
      "source": [
        "PRINT(\"hello world\")                                                              #We can't use keyword and in-build python functions as a variable"
      ]
    },
    {
      "cell_type": "markdown",
      "source": [
        "DATA TYPES"
      ],
      "metadata": {
        "id": "yQsUmbaDeroA"
      },
      "id": "yQsUmbaDeroA"
    },
    {
      "cell_type": "code",
      "execution_count": null,
      "id": "d339b8d6-f990-4db6-8348-f890a039154f",
      "metadata": {
        "id": "d339b8d6-f990-4db6-8348-f890a039154f"
      },
      "outputs": [],
      "source": [
        "# Integer data type"
      ]
    },
    {
      "cell_type": "code",
      "execution_count": null,
      "id": "8094b830-dbfe-43b7-9226-e23c80e67b5b",
      "metadata": {
        "id": "8094b830-dbfe-43b7-9226-e23c80e67b5b",
        "colab": {
          "base_uri": "https://localhost:8080/"
        },
        "outputId": "b9b10dd5-a004-4be9-e48d-f2f62caf1e38"
      },
      "outputs": [
        {
          "metadata": {
            "tags": null
          },
          "name": "stdout",
          "output_type": "stream",
          "text": [
            "1\n"
          ]
        }
      ],
      "source": [
        "x=int(1)\n",
        "print(x)"
      ]
    },
    {
      "cell_type": "code",
      "execution_count": null,
      "id": "bd0a2018-8e3c-4808-87b6-8188c76377f3",
      "metadata": {
        "id": "bd0a2018-8e3c-4808-87b6-8188c76377f3"
      },
      "outputs": [],
      "source": [
        "# Float to integer"
      ]
    },
    {
      "cell_type": "code",
      "execution_count": null,
      "id": "cb1c0ae0-b504-4b74-989f-ec730f5095e2",
      "metadata": {
        "id": "cb1c0ae0-b504-4b74-989f-ec730f5095e2",
        "colab": {
          "base_uri": "https://localhost:8080/"
        },
        "outputId": "ee300d51-3ad0-4346-c469-3563739478bf"
      },
      "outputs": [
        {
          "metadata": {
            "tags": null
          },
          "name": "stdout",
          "output_type": "stream",
          "text": [
            "2\n"
          ]
        }
      ],
      "source": [
        "y=int(2.08)\n",
        "print(y)"
      ]
    },
    {
      "cell_type": "code",
      "execution_count": null,
      "id": "23952c3f-a8f9-4101-962b-112cfb9baf4e",
      "metadata": {
        "id": "23952c3f-a8f9-4101-962b-112cfb9baf4e"
      },
      "outputs": [],
      "source": [
        "# String to int\n"
      ]
    },
    {
      "cell_type": "code",
      "execution_count": null,
      "id": "6f657e9c-c038-4a94-8ec9-7510f5635a15",
      "metadata": {
        "id": "6f657e9c-c038-4a94-8ec9-7510f5635a15",
        "colab": {
          "base_uri": "https://localhost:8080/"
        },
        "outputId": "eb8ea315-c677-4448-a305-5c61bb9eed05"
      },
      "outputs": [
        {
          "metadata": {
            "tags": null
          },
          "name": "stdout",
          "output_type": "stream",
          "text": [
            "3\n"
          ]
        }
      ],
      "source": [
        "z=int(\"3\")\n",
        "print(z)"
      ]
    },
    {
      "cell_type": "code",
      "execution_count": null,
      "id": "23796e05-d31d-4e88-96d6-05ec76f80d9d",
      "metadata": {
        "id": "23796e05-d31d-4e88-96d6-05ec76f80d9d"
      },
      "outputs": [],
      "source": [
        "# Conversion in float"
      ]
    },
    {
      "cell_type": "code",
      "execution_count": null,
      "id": "7f0ae1a2-e78a-4f0e-abc8-8a4c06cd9b5f",
      "metadata": {
        "id": "7f0ae1a2-e78a-4f0e-abc8-8a4c06cd9b5f",
        "colab": {
          "base_uri": "https://localhost:8080/"
        },
        "outputId": "9168f98b-9f5a-4f54-a8f7-b54586d02aee"
      },
      "outputs": [
        {
          "output_type": "stream",
          "name": "stdout",
          "text": [
            "5.0 2.8 3.0 4.2\n"
          ]
        }
      ],
      "source": [
        "a=float(\"5\")\n",
        "b=float(2.8)\n",
        "c=float(\"3\")\n",
        "x=float(\"4.2\")\n",
        "print(a,b,c,x)"
      ]
    },
    {
      "cell_type": "markdown",
      "source": [
        "**ARITHEMATIC FUNCTION**"
      ],
      "metadata": {
        "id": "xH2r_utTfIJN"
      },
      "id": "xH2r_utTfIJN"
    },
    {
      "cell_type": "code",
      "execution_count": null,
      "id": "6fd8b8e5-f72d-4830-b628-4276f158c8de",
      "metadata": {
        "id": "6fd8b8e5-f72d-4830-b628-4276f158c8de"
      },
      "outputs": [],
      "source": [
        "# Modulus function. It always gives remainder"
      ]
    },
    {
      "cell_type": "code",
      "execution_count": null,
      "id": "e51f9ee1-994e-47d2-a1d1-d6280e037479",
      "metadata": {
        "id": "e51f9ee1-994e-47d2-a1d1-d6280e037479",
        "colab": {
          "base_uri": "https://localhost:8080/"
        },
        "outputId": "a93b29e3-be7d-4424-99cd-da772e70d350"
      },
      "outputs": [
        {
          "output_type": "stream",
          "name": "stdout",
          "text": [
            "0\n"
          ]
        }
      ],
      "source": [
        "x=15\n",
        "y=3\n",
        "print(x%y)"
      ]
    },
    {
      "cell_type": "code",
      "execution_count": null,
      "id": "27c5b109-cba8-422a-81f8-caabf8d975e4",
      "metadata": {
        "id": "27c5b109-cba8-422a-81f8-caabf8d975e4"
      },
      "outputs": [],
      "source": [
        "# Division function. It always gives quotient with decimal"
      ]
    },
    {
      "cell_type": "code",
      "execution_count": null,
      "id": "fd4410df-d3a4-4979-9eaa-8298033c1fe6",
      "metadata": {
        "id": "fd4410df-d3a4-4979-9eaa-8298033c1fe6",
        "colab": {
          "base_uri": "https://localhost:8080/"
        },
        "outputId": "bc0748ab-8d6f-4eac-d677-755fbf666545"
      },
      "outputs": [
        {
          "metadata": {
            "tags": null
          },
          "name": "stdout",
          "output_type": "stream",
          "text": [
            "5.0\n"
          ]
        }
      ],
      "source": [
        "a=15\n",
        "b=3\n",
        "print(a/b)"
      ]
    },
    {
      "cell_type": "code",
      "execution_count": null,
      "id": "8dfa4b8f-fe16-4d80-86c6-410b5f7caed1",
      "metadata": {
        "id": "8dfa4b8f-fe16-4d80-86c6-410b5f7caed1"
      },
      "outputs": [],
      "source": [
        "# Modulus"
      ]
    },
    {
      "cell_type": "code",
      "execution_count": null,
      "id": "f2c90a52-981f-48df-82a5-8ab067e4daa7",
      "metadata": {
        "id": "f2c90a52-981f-48df-82a5-8ab067e4daa7",
        "colab": {
          "base_uri": "https://localhost:8080/"
        },
        "outputId": "c0cee49d-208e-4ac0-acb0-13591b6869b1"
      },
      "outputs": [
        {
          "metadata": {
            "tags": null
          },
          "name": "stdout",
          "output_type": "stream",
          "text": [
            "0\n"
          ]
        }
      ],
      "source": [
        "x=225\n",
        "y=31\n",
        "print(x%b)"
      ]
    },
    {
      "cell_type": "code",
      "execution_count": null,
      "id": "8fc0c026-3c3d-4c25-baf5-52f05593fa4f",
      "metadata": {
        "id": "8fc0c026-3c3d-4c25-baf5-52f05593fa4f"
      },
      "outputs": [],
      "source": [
        "# Floor division function. It always gives remainder without decimal."
      ]
    },
    {
      "cell_type": "code",
      "execution_count": null,
      "id": "75eb153e-78e2-4af1-a9e3-4e4150ad61f1",
      "metadata": {
        "id": "75eb153e-78e2-4af1-a9e3-4e4150ad61f1",
        "colab": {
          "base_uri": "https://localhost:8080/"
        },
        "outputId": "6a85d89f-f5e5-4c7a-f2a7-a2fb468069d5"
      },
      "outputs": [
        {
          "output_type": "stream",
          "name": "stdout",
          "text": [
            "18\n"
          ]
        }
      ],
      "source": [
        "a=126\n",
        "b=7\n",
        "print(a//b)"
      ]
    },
    {
      "cell_type": "code",
      "execution_count": null,
      "id": "bec02295-7008-446d-8e36-1b561c5d13f6",
      "metadata": {
        "id": "bec02295-7008-446d-8e36-1b561c5d13f6"
      },
      "outputs": [],
      "source": [
        "# Exponetion function. It shows the power of variable which is given."
      ]
    },
    {
      "cell_type": "code",
      "execution_count": null,
      "id": "ecf9a81f-7a49-4033-96c7-cfa826cd870b",
      "metadata": {
        "id": "ecf9a81f-7a49-4033-96c7-cfa826cd870b",
        "colab": {
          "base_uri": "https://localhost:8080/"
        },
        "outputId": "fbde023f-7451-4745-eaa9-6279235834f3"
      },
      "outputs": [
        {
          "metadata": {
            "tags": null
          },
          "name": "stdout",
          "output_type": "stream",
          "text": [
            "21840\n"
          ]
        }
      ],
      "source": [
        "x=560\n",
        "y=39\n",
        "print(x*y)"
      ]
    },
    {
      "cell_type": "markdown",
      "source": [
        "# **List**"
      ],
      "metadata": {
        "id": "GBj-NtnsfClJ"
      },
      "id": "GBj-NtnsfClJ"
    },
    {
      "cell_type": "code",
      "execution_count": null,
      "id": "86207328-1bd1-45d2-8cd5-2ac6c4ce8ab9",
      "metadata": {
        "id": "86207328-1bd1-45d2-8cd5-2ac6c4ce8ab9"
      },
      "outputs": [],
      "source": [
        "# List is always created in square bracket. List can be of any data type.It allows duplicate values"
      ]
    },
    {
      "cell_type": "code",
      "execution_count": null,
      "id": "0e65546b-be43-4f16-9e01-a257989218e4",
      "metadata": {
        "id": "0e65546b-be43-4f16-9e01-a257989218e4",
        "colab": {
          "base_uri": "https://localhost:8080/"
        },
        "outputId": "484335cd-e560-4c85-89f1-5053e4716fd6"
      },
      "outputs": [
        {
          "metadata": {
            "tags": null
          },
          "name": "stdout",
          "output_type": "stream",
          "text": [
            "['apple', 'banana', 'grapes']\n"
          ]
        }
      ],
      "source": [
        "l1=[\"apple\",\"banana\",\"grapes\"]\n",
        "print(l1)"
      ]
    },
    {
      "cell_type": "code",
      "execution_count": null,
      "id": "e0bb7465-22ec-4aa4-8a54-98b6e6ab5e15",
      "metadata": {
        "id": "e0bb7465-22ec-4aa4-8a54-98b6e6ab5e15",
        "colab": {
          "base_uri": "https://localhost:8080/"
        },
        "outputId": "b674208e-72fa-4eed-8aea-3f96ff20e0c4"
      },
      "outputs": [
        {
          "output_type": "stream",
          "name": "stdout",
          "text": [
            "[12, 34, 56, 89, 98]\n"
          ]
        }
      ],
      "source": [
        "l2=[12,34,56,89,98]\n",
        "print(l2)"
      ]
    },
    {
      "cell_type": "code",
      "source": [
        "# In list we can store any data type."
      ],
      "metadata": {
        "id": "4_b7wiBvtyaL"
      },
      "id": "4_b7wiBvtyaL",
      "execution_count": null,
      "outputs": []
    },
    {
      "cell_type": "code",
      "execution_count": null,
      "id": "6ca5142b-a661-43c8-9053-23e008a17ebd",
      "metadata": {
        "id": "6ca5142b-a661-43c8-9053-23e008a17ebd",
        "colab": {
          "base_uri": "https://localhost:8080/"
        },
        "outputId": "f1855e89-4601-4b62-a3f8-1f81973bfa1f"
      },
      "outputs": [
        {
          "metadata": {
            "tags": null
          },
          "name": "stdout",
          "output_type": "stream",
          "text": [
            "[12, 'rahul', 'mahesh', 45, 45]\n"
          ]
        }
      ],
      "source": [
        "l3=[12,\"rahul\",\"mahesh\",45,45]\n",
        "print(l3)"
      ]
    },
    {
      "cell_type": "code",
      "execution_count": null,
      "id": "8850fd67-9599-435e-9e74-523eae066cac",
      "metadata": {
        "id": "8850fd67-9599-435e-9e74-523eae066cac"
      },
      "outputs": [],
      "source": [
        "# Replacing item in list with index number."
      ]
    },
    {
      "cell_type": "code",
      "execution_count": null,
      "id": "4c5b5dc5-3db1-4546-b35a-fb980e296294",
      "metadata": {
        "id": "4c5b5dc5-3db1-4546-b35a-fb980e296294",
        "colab": {
          "base_uri": "https://localhost:8080/"
        },
        "outputId": "07160d6a-88dc-4c38-ab99-7fa68a873fe2"
      },
      "outputs": [
        {
          "metadata": {
            "tags": null
          },
          "name": "stdout",
          "output_type": "stream",
          "text": [
            "['apple', 'kakul', 'naina', 'Nihal', 'Sohan']\n"
          ]
        }
      ],
      "source": [
        "List=[\"apple\",\"kakul\",\"Shivam\",\"Nihal\",\"Sohan\"]\n",
        "List[2]=\"naina\"\n",
        "print(List)"
      ]
    },
    {
      "cell_type": "code",
      "execution_count": null,
      "id": "97b2332d-2467-4bd6-90ac-e0c0d3302e9b",
      "metadata": {
        "id": "97b2332d-2467-4bd6-90ac-e0c0d3302e9b"
      },
      "outputs": [],
      "source": [
        "# Index replacing in list."
      ]
    },
    {
      "cell_type": "code",
      "execution_count": null,
      "id": "8d13538b-9880-47d4-b039-6af861c08550",
      "metadata": {
        "id": "8d13538b-9880-47d4-b039-6af861c08550",
        "colab": {
          "base_uri": "https://localhost:8080/"
        },
        "outputId": "106d4e05-0491-4c11-8917-4d7939fac28a"
      },
      "outputs": [
        {
          "output_type": "stream",
          "name": "stdout",
          "text": [
            "['naina', 'piyush', 'sumit', 'ayush', 'kakul', 'Shivam', 'Nihal', 'Sohan']\n"
          ]
        }
      ],
      "source": [
        "List=[\"apple\",\"kakul\",\"Shivam\",\"Nihal\",\"Sohan\"]\n",
        "List[:1]=\"naina\",\"piyush\",\"sumit\",\"ayush\"\n",
        "print(List)"
      ]
    },
    {
      "cell_type": "code",
      "execution_count": null,
      "id": "04df3426-6001-4449-80df-9232f4a183e0",
      "metadata": {
        "id": "04df3426-6001-4449-80df-9232f4a183e0"
      },
      "outputs": [],
      "source": [
        "# Replacing number with string"
      ]
    },
    {
      "cell_type": "code",
      "execution_count": null,
      "id": "0fc5c752-3abf-4671-b227-83fa90c2fd7d",
      "metadata": {
        "id": "0fc5c752-3abf-4671-b227-83fa90c2fd7d",
        "colab": {
          "base_uri": "https://localhost:8080/"
        },
        "outputId": "2c3f4fd2-8444-4c3f-e923-061981ae777f"
      },
      "outputs": [
        {
          "metadata": {
            "tags": null
          },
          "name": "stdout",
          "output_type": "stream",
          "text": [
            "[1, 2, 'A', 4, 6]\n"
          ]
        }
      ],
      "source": [
        "List4=[1,2,3,4,6]\n",
        "List4[2]=\"A\"\n",
        "print(List4)"
      ]
    },
    {
      "cell_type": "code",
      "execution_count": null,
      "id": "dd9ca73c-1bba-4765-bb90-4a7ad6fe87d9",
      "metadata": {
        "id": "dd9ca73c-1bba-4765-bb90-4a7ad6fe87d9"
      },
      "outputs": [],
      "source": [
        "# Replacing one value with multiple value through indexing"
      ]
    },
    {
      "cell_type": "code",
      "execution_count": null,
      "id": "27d585ec-fb52-4885-8023-10503a16efe3",
      "metadata": {
        "jupyter": {
          "outputs_hidden": true
        },
        "id": "27d585ec-fb52-4885-8023-10503a16efe3",
        "colab": {
          "base_uri": "https://localhost:8080/"
        },
        "outputId": "97efdeb9-da80-4f31-fe48-c67a2e3234cf"
      },
      "outputs": [
        {
          "output_type": "stream",
          "name": "stdout",
          "text": [
            "['apple', 'naina', 'piyush', 'sumit', 'ayush', 'Shivam', 'Nihal', 'Sohan']\n"
          ]
        }
      ],
      "source": [
        "List=[\"apple\",\"kakul\",\"Shivam\",\"Nihal\",\"Sohan\"]\n",
        "List[1:2]=\"naina\",\"piyush\",\"sumit\",\"ayush\"\n",
        "print(List)"
      ]
    },
    {
      "cell_type": "code",
      "execution_count": null,
      "id": "ffcb0362-5ae7-4013-8f9e-349f66f8e77a",
      "metadata": {
        "scrolled": true,
        "id": "ffcb0362-5ae7-4013-8f9e-349f66f8e77a"
      },
      "outputs": [],
      "source": [
        "# Adding one list to another"
      ]
    },
    {
      "cell_type": "code",
      "execution_count": null,
      "id": "2988a03d-e479-4f83-aa59-ca6fe6420c20",
      "metadata": {
        "id": "2988a03d-e479-4f83-aa59-ca6fe6420c20",
        "colab": {
          "base_uri": "https://localhost:8080/"
        },
        "outputId": "8f0507ef-af56-4c9d-eff3-be5b8ad9c921"
      },
      "outputs": [
        {
          "metadata": {
            "tags": null
          },
          "name": "stdout",
          "output_type": "stream",
          "text": [
            "['apple', 'kakul', 'Shivam', 'Nihal', 'Sohan', 'aspirant', 'tshul']\n"
          ]
        }
      ],
      "source": [
        "List=[\"apple\",\"kakul\",\"Shivam\",\"Nihal\",\"Sohan\"]\n",
        "assume=[\"aspirant\",\"tshul\"]\n",
        "List.extend(assume)\n",
        "print(List)"
      ]
    },
    {
      "cell_type": "code",
      "execution_count": null,
      "id": "84e14c6b-78ea-41d5-9ac5-6faec2a661cd",
      "metadata": {
        "id": "84e14c6b-78ea-41d5-9ac5-6faec2a661cd"
      },
      "outputs": [],
      "source": [
        "# Adding item in the inserted index without removing it by swithing it's position"
      ]
    },
    {
      "cell_type": "code",
      "execution_count": null,
      "id": "c5e68bcd-ad5b-4fc9-81d6-01f70f008f7b",
      "metadata": {
        "id": "c5e68bcd-ad5b-4fc9-81d6-01f70f008f7b",
        "colab": {
          "base_uri": "https://localhost:8080/"
        },
        "outputId": "984c32fb-f321-494a-e3e2-bfb5eaf223f1"
      },
      "outputs": [
        {
          "output_type": "stream",
          "name": "stdout",
          "text": [
            "['apple', 'aman', 'kakul', 'Shivam', 'Nihal', 'Sohan']\n"
          ]
        }
      ],
      "source": [
        "List=[\"apple\",\"kakul\",\"Shivam\",\"Nihal\",\"Sohan\"]\n",
        "List.insert(1,\"aman\")\n",
        "print(List)"
      ]
    },
    {
      "cell_type": "code",
      "execution_count": null,
      "id": "a17b2dd0-1c4c-405d-bac6-621d6e73125e",
      "metadata": {
        "id": "a17b2dd0-1c4c-405d-bac6-621d6e73125e"
      },
      "outputs": [],
      "source": [
        "# Adding item at the end of the list"
      ]
    },
    {
      "cell_type": "code",
      "execution_count": null,
      "id": "78a9288b-7189-4b69-ad4d-eb30e973213e",
      "metadata": {
        "id": "78a9288b-7189-4b69-ad4d-eb30e973213e",
        "colab": {
          "base_uri": "https://localhost:8080/"
        },
        "outputId": "a9e858cb-1e91-4853-c401-e58607ab3c79"
      },
      "outputs": [
        {
          "output_type": "stream",
          "name": "stdout",
          "text": [
            "['apple', 'kakul', 'Shivam', 'Nihal', 'Sohan', 'aman']\n"
          ]
        }
      ],
      "source": [
        "List=[\"apple\",\"kakul\",\"Shivam\",\"Nihal\",\"Sohan\"]\n",
        "List.append(\"aman\")\n",
        "print(List)"
      ]
    },
    {
      "cell_type": "code",
      "execution_count": null,
      "id": "65256ac6-47c4-424e-adb5-aa622e1c7882",
      "metadata": {
        "id": "65256ac6-47c4-424e-adb5-aa622e1c7882"
      },
      "outputs": [],
      "source": [
        "# Removing item from list with giving its details"
      ]
    },
    {
      "cell_type": "code",
      "execution_count": null,
      "id": "0a01627a-44e8-4b6a-a65e-66da6b5b176a",
      "metadata": {
        "id": "0a01627a-44e8-4b6a-a65e-66da6b5b176a",
        "colab": {
          "base_uri": "https://localhost:8080/"
        },
        "outputId": "30152171-6a71-4f68-df37-27c01a039688"
      },
      "outputs": [
        {
          "output_type": "stream",
          "name": "stdout",
          "text": [
            "['apple', 'kakul', 'Shivam', 'Nihal']\n"
          ]
        }
      ],
      "source": [
        "List=[\"apple\",\"kakul\",\"Shivam\",\"Nihal\",\"Sohan\"]\n",
        "List.remove(\"Sohan\")\n",
        "print(List)"
      ]
    },
    {
      "cell_type": "code",
      "execution_count": null,
      "id": "97fbce42-3384-4126-ba28-e91fad1b7e65",
      "metadata": {
        "id": "97fbce42-3384-4126-ba28-e91fad1b7e65"
      },
      "outputs": [],
      "source": [
        "# Removing item from ist with it's index no"
      ]
    },
    {
      "cell_type": "code",
      "execution_count": null,
      "id": "f162da69-d628-492c-a0b3-f4710ba98c2a",
      "metadata": {
        "id": "f162da69-d628-492c-a0b3-f4710ba98c2a",
        "colab": {
          "base_uri": "https://localhost:8080/"
        },
        "outputId": "d6217de8-0257-4257-d382-26d7e5a97cd3"
      },
      "outputs": [
        {
          "output_type": "stream",
          "name": "stdout",
          "text": [
            "['apple', 'kakul', 'Shivam', 'Sohan']\n"
          ]
        }
      ],
      "source": [
        "List=[\"apple\",\"kakul\",\"Shivam\",\"Nihal\",\"Sohan\"]\n",
        "List.pop(3)\n",
        "print(List)"
      ]
    },
    {
      "cell_type": "code",
      "source": [
        "# Deleting list"
      ],
      "metadata": {
        "id": "9lQ-was7Lkhr"
      },
      "id": "9lQ-was7Lkhr",
      "execution_count": null,
      "outputs": []
    },
    {
      "cell_type": "code",
      "execution_count": null,
      "id": "06a119af-828f-48ef-b795-7869287bf2ce",
      "metadata": {
        "id": "06a119af-828f-48ef-b795-7869287bf2ce",
        "colab": {
          "base_uri": "https://localhost:8080/"
        },
        "outputId": "b533d616-8f31-4b45-b61c-513bcc5ec79c"
      },
      "outputs": [
        {
          "output_type": "stream",
          "name": "stdout",
          "text": [
            "['Micky', 'Baji', 'Pachin', 'Takemitchi']\n"
          ]
        }
      ],
      "source": [
        "Toman=[\"Micky\",\"Baji\",\"Pachin\",\"Takemitchi\",\"Kazutora\"]\n",
        "del Toman[4]\n",
        "print(Toman)"
      ]
    },
    {
      "cell_type": "code",
      "execution_count": null,
      "id": "03792f7b-5d6d-47f7-be4d-b53805ecdb83",
      "metadata": {
        "id": "03792f7b-5d6d-47f7-be4d-b53805ecdb83"
      },
      "outputs": [],
      "source": [
        "# Deleting list but it shows empty list"
      ]
    },
    {
      "cell_type": "code",
      "execution_count": null,
      "id": "c5ed4cca-8d69-461a-a84f-9b7d899cfd06",
      "metadata": {
        "id": "c5ed4cca-8d69-461a-a84f-9b7d899cfd06",
        "colab": {
          "base_uri": "https://localhost:8080/"
        },
        "outputId": "171f985c-bbb9-48f0-a15a-ffe40342ecad"
      },
      "outputs": [
        {
          "metadata": {
            "tags": null
          },
          "name": "stdout",
          "output_type": "stream",
          "text": [
            "[]\n"
          ]
        }
      ],
      "source": [
        "List=[\"apple\",\"kakul\",\"Shivam\",\"Nihal\",\"Sohan\"]\n",
        "List.clear()\n",
        "print(List)"
      ]
    },
    {
      "cell_type": "code",
      "execution_count": null,
      "id": "18f489ff-8d7a-4ba5-9fc6-c984af80c8c9",
      "metadata": {
        "id": "18f489ff-8d7a-4ba5-9fc6-c984af80c8c9"
      },
      "outputs": [],
      "source": [
        "# Arranging list in order"
      ]
    },
    {
      "cell_type": "code",
      "execution_count": null,
      "id": "6741c895-11b6-4f38-914e-f57625e14735",
      "metadata": {
        "id": "6741c895-11b6-4f38-914e-f57625e14735",
        "colab": {
          "base_uri": "https://localhost:8080/"
        },
        "outputId": "eff8dcdd-30c9-4471-e299-803d6cdcebfc"
      },
      "outputs": [
        {
          "metadata": {
            "tags": null
          },
          "name": "stdout",
          "output_type": "stream",
          "text": [
            "[1, 2, 3, 4, 6, 9]\n"
          ]
        }
      ],
      "source": [
        "List=[1,4,3,9,2,6]\n",
        "List.sort()\n",
        "print(List)"
      ]
    },
    {
      "cell_type": "code",
      "execution_count": null,
      "id": "1530ec3f-7cd3-41f5-a09f-7d56cafdaff9",
      "metadata": {
        "id": "1530ec3f-7cd3-41f5-a09f-7d56cafdaff9"
      },
      "outputs": [],
      "source": [
        "# Arranging list in reverse order"
      ]
    },
    {
      "cell_type": "code",
      "execution_count": null,
      "id": "5c711dd8-5bd9-4256-8104-fb0d0373fbc5",
      "metadata": {
        "id": "5c711dd8-5bd9-4256-8104-fb0d0373fbc5",
        "colab": {
          "base_uri": "https://localhost:8080/"
        },
        "outputId": "4a3dcc6b-6a95-4b91-f592-0b54fca08259"
      },
      "outputs": [
        {
          "output_type": "stream",
          "name": "stdout",
          "text": [
            "[9, 6, 4, 3, 2, 1]\n"
          ]
        }
      ],
      "source": [
        "List=[1,4,3,9,2,6]\n",
        "List.sort(reverse= True)\n",
        "print(List)"
      ]
    },
    {
      "cell_type": "code",
      "execution_count": null,
      "id": "2d92f69f-3e4a-4b5d-8a9c-f6b5bf9756f2",
      "metadata": {
        "id": "2d92f69f-3e4a-4b5d-8a9c-f6b5bf9756f2"
      },
      "outputs": [],
      "source": [
        "# Copying list in another"
      ]
    },
    {
      "cell_type": "code",
      "execution_count": null,
      "id": "94f7cfb7-8856-448f-a5ab-a2b543ad1c78",
      "metadata": {
        "id": "94f7cfb7-8856-448f-a5ab-a2b543ad1c78",
        "colab": {
          "base_uri": "https://localhost:8080/"
        },
        "outputId": "24772453-f7bb-4d48-c384-f209377be1f8"
      },
      "outputs": [
        {
          "metadata": {
            "tags": null
          },
          "name": "stdout",
          "output_type": "stream",
          "text": [
            "[1, 4, 3, 9, 2, 6]\n"
          ]
        }
      ],
      "source": [
        "List=[1,4,3,9,2,6]\n",
        "L2=List.copy()\n",
        "print(L2)"
      ]
    },
    {
      "cell_type": "code",
      "execution_count": null,
      "id": "b1e1e833-4aec-4ef4-a89d-89c986a88136",
      "metadata": {
        "id": "b1e1e833-4aec-4ef4-a89d-89c986a88136"
      },
      "outputs": [],
      "source": [
        "# Copying list in another list"
      ]
    },
    {
      "cell_type": "code",
      "execution_count": null,
      "id": "e1f27296-f9dd-4287-985a-00708c2a2e91",
      "metadata": {
        "id": "e1f27296-f9dd-4287-985a-00708c2a2e91",
        "colab": {
          "base_uri": "https://localhost:8080/"
        },
        "outputId": "d3a4200f-3ba9-486f-f680-bc2f2c340498"
      },
      "outputs": [
        {
          "metadata": {
            "tags": null
          },
          "name": "stdout",
          "output_type": "stream",
          "text": [
            "[1, 4, 3, 9, 2, 6]\n"
          ]
        }
      ],
      "source": [
        "L1=[1,4,3,9,2,6]\n",
        "l3=list(L1)\n",
        "print(l3)"
      ]
    },
    {
      "cell_type": "code",
      "execution_count": null,
      "id": "2b35e096-595f-4a24-9e5d-144f89aac3d6",
      "metadata": {
        "id": "2b35e096-595f-4a24-9e5d-144f89aac3d6"
      },
      "outputs": [],
      "source": [
        "# Copying list with indexing"
      ]
    },
    {
      "cell_type": "code",
      "execution_count": null,
      "id": "89650325-ab07-4664-a8a4-e7381b7ede90",
      "metadata": {
        "id": "89650325-ab07-4664-a8a4-e7381b7ede90",
        "colab": {
          "base_uri": "https://localhost:8080/"
        },
        "outputId": "2bc069bb-0377-41db-a5fe-4aae0a1cc8f4"
      },
      "outputs": [
        {
          "metadata": {
            "tags": null
          },
          "name": "stdout",
          "output_type": "stream",
          "text": [
            "[1, 4, 3, 9, 2, 6]\n"
          ]
        }
      ],
      "source": [
        "L7=[1,4,3,9,2,6]\n",
        "L5=L7[:]\n",
        "print(L5)"
      ]
    },
    {
      "cell_type": "code",
      "execution_count": null,
      "id": "83f3732c-bbb1-4841-8e70-c2106b7fbc70",
      "metadata": {
        "id": "83f3732c-bbb1-4841-8e70-c2106b7fbc70"
      },
      "outputs": [],
      "source": [
        "# Creating a new list with adding two different list"
      ]
    },
    {
      "cell_type": "code",
      "execution_count": null,
      "id": "18ae1656-8a8c-4623-9ef7-366d1326240b",
      "metadata": {
        "id": "18ae1656-8a8c-4623-9ef7-366d1326240b",
        "colab": {
          "base_uri": "https://localhost:8080/"
        },
        "outputId": "818eaef0-aca8-4bfd-ae1f-3fc2aeb611f3"
      },
      "outputs": [
        {
          "metadata": {
            "tags": null
          },
          "name": "stdout",
          "output_type": "stream",
          "text": [
            "[1, 4, 3, 9, 2, 6, 5, 8, 9, 4]\n"
          ]
        }
      ],
      "source": [
        "List=[1,4,3,9,2,6]\n",
        "L2=[5,8,9,4]\n",
        "List3=List+L2\n",
        "print(List3)"
      ]
    },
    {
      "cell_type": "code",
      "execution_count": null,
      "id": "fbd8300e-a96b-450c-9c24-72a351bf21e6",
      "metadata": {
        "id": "fbd8300e-a96b-450c-9c24-72a351bf21e6"
      },
      "outputs": [],
      "source": [
        "# Adding two list"
      ]
    },
    {
      "cell_type": "code",
      "execution_count": null,
      "id": "c5a36701-2e1e-4947-9098-487e4ee160ba",
      "metadata": {
        "id": "c5a36701-2e1e-4947-9098-487e4ee160ba",
        "colab": {
          "base_uri": "https://localhost:8080/"
        },
        "outputId": "01a81786-e042-40f3-912e-3292e4e26e1e"
      },
      "outputs": [
        {
          "metadata": {
            "tags": null
          },
          "name": "stdout",
          "output_type": "stream",
          "text": [
            "[1, 4, 3, 9, 2, 6, 5, 8, 9, 4]\n"
          ]
        }
      ],
      "source": [
        "List=[1,4,3,9,2,6]\n",
        "L2=[5,8,9,4]\n",
        "List.extend(L2)\n",
        "print(List)"
      ]
    },
    {
      "cell_type": "code",
      "execution_count": null,
      "id": "7cb82ee7-e006-4e23-b755-5ac8d6be019b",
      "metadata": {
        "id": "7cb82ee7-e006-4e23-b755-5ac8d6be019b"
      },
      "outputs": [],
      "source": [
        "# Count no of elemts present in the list of asking data"
      ]
    },
    {
      "cell_type": "code",
      "execution_count": null,
      "id": "e00a3248-7c5a-4d5b-adcb-c7107d97a293",
      "metadata": {
        "id": "e00a3248-7c5a-4d5b-adcb-c7107d97a293",
        "colab": {
          "base_uri": "https://localhost:8080/"
        },
        "outputId": "b2968c59-d4c1-47d6-aba6-c9e9e28e9523"
      },
      "outputs": [
        {
          "metadata": {
            "tags": null
          },
          "name": "stdout",
          "output_type": "stream",
          "text": [
            "5\n"
          ]
        }
      ],
      "source": [
        "List=[1,4,3,9,2,2,2,2,2,6]\n",
        "y=List.count(2)\n",
        "print(y)"
      ]
    },
    {
      "cell_type": "code",
      "execution_count": null,
      "id": "50324ccd-b8fd-4735-9107-09cc77e9b873",
      "metadata": {
        "id": "50324ccd-b8fd-4735-9107-09cc77e9b873"
      },
      "outputs": [],
      "source": [
        "# Indexing the list item"
      ]
    },
    {
      "cell_type": "code",
      "execution_count": null,
      "id": "1786e590-ee5f-4adc-8888-53e1c463247c",
      "metadata": {
        "id": "1786e590-ee5f-4adc-8888-53e1c463247c",
        "colab": {
          "base_uri": "https://localhost:8080/"
        },
        "outputId": "cc4fce05-d1fa-4525-e25c-60cab7d520ac"
      },
      "outputs": [
        {
          "metadata": {
            "tags": null
          },
          "name": "stdout",
          "output_type": "stream",
          "text": [
            "4\n"
          ]
        }
      ],
      "source": [
        "List=[1,4,3,9,2,6]\n",
        "z=List.index(2)\n",
        "print(z)"
      ]
    },
    {
      "cell_type": "code",
      "execution_count": null,
      "id": "11a5011a-6d86-47df-a799-476b3a33a945",
      "metadata": {
        "id": "11a5011a-6d86-47df-a799-476b3a33a945",
        "colab": {
          "base_uri": "https://localhost:8080/"
        },
        "outputId": "02b832f3-1f44-4b7e-bec3-21b4beba617b"
      },
      "outputs": [
        {
          "output_type": "stream",
          "name": "stdout",
          "text": [
            "3\n"
          ]
        }
      ],
      "source": [
        "List=[1,4,3,2,9,2,6]\n",
        "z=List.index(2)\n",
        "print(z)"
      ]
    },
    {
      "cell_type": "markdown",
      "source": [
        "# **TUPLE**"
      ],
      "metadata": {
        "id": "gdLF3Mdgfva4"
      },
      "id": "gdLF3Mdgfva4"
    },
    {
      "cell_type": "code",
      "execution_count": null,
      "id": "a2b049e1-2050-4259-8988-130af2c714ec",
      "metadata": {
        "id": "a2b049e1-2050-4259-8988-130af2c714ec"
      },
      "outputs": [],
      "source": [
        "# Tuple is always created in parenthesis bracket"
      ]
    },
    {
      "cell_type": "code",
      "execution_count": null,
      "id": "3cb18a35-c4e0-4a1d-ad9b-64ce521ac001",
      "metadata": {
        "id": "3cb18a35-c4e0-4a1d-ad9b-64ce521ac001",
        "colab": {
          "base_uri": "https://localhost:8080/"
        },
        "outputId": "8b1fa40b-c9c9-4829-8948-4f56a25ffc4e"
      },
      "outputs": [
        {
          "output_type": "stream",
          "name": "stdout",
          "text": [
            "<class 'tuple'>\n"
          ]
        }
      ],
      "source": [
        "T1=(1,2,3,4,5)\n",
        "print(type(T1))"
      ]
    },
    {
      "cell_type": "code",
      "execution_count": null,
      "id": "1e69734e-48f3-4911-8e1e-d2f67a3b6084",
      "metadata": {
        "id": "1e69734e-48f3-4911-8e1e-d2f67a3b6084",
        "colab": {
          "base_uri": "https://localhost:8080/"
        },
        "outputId": "13683dd1-db09-4292-86f6-939bba57c707"
      },
      "outputs": [
        {
          "output_type": "stream",
          "name": "stdout",
          "text": [
            "('A', 'B', 'C', 'D')\n"
          ]
        }
      ],
      "source": [
        "T2=(\"A\",\"B\",\"C\",\"D\")\n",
        "print(T2)"
      ]
    },
    {
      "cell_type": "code",
      "execution_count": null,
      "id": "e3975397-e4d7-482c-874e-1acad0b75da2",
      "metadata": {
        "id": "e3975397-e4d7-482c-874e-1acad0b75da2",
        "colab": {
          "base_uri": "https://localhost:8080/"
        },
        "outputId": "d2c88107-6799-455d-afc9-55bced366507"
      },
      "outputs": [
        {
          "metadata": {
            "tags": null
          },
          "name": "stdout",
          "output_type": "stream",
          "text": [
            "(1, 2, 'A', 'B')\n"
          ]
        }
      ],
      "source": [
        "T=(1,2,\"A\",\"B\")\n",
        "print(T)"
      ]
    },
    {
      "cell_type": "code",
      "execution_count": null,
      "id": "e6c72a52-81bf-4c29-b3ec-372310536d74",
      "metadata": {
        "id": "e6c72a52-81bf-4c29-b3ec-372310536d74"
      },
      "outputs": [],
      "source": [
        "# Type of the variable"
      ]
    },
    {
      "cell_type": "code",
      "execution_count": null,
      "id": "871b6625-78f3-46ce-96a9-29e38efe97ae",
      "metadata": {
        "id": "871b6625-78f3-46ce-96a9-29e38efe97ae",
        "colab": {
          "base_uri": "https://localhost:8080/"
        },
        "outputId": "65f9f8ae-7e5c-4af7-9dee-341e35732803"
      },
      "outputs": [
        {
          "output_type": "stream",
          "name": "stdout",
          "text": [
            "<class 'tuple'>\n"
          ]
        }
      ],
      "source": [
        "T=(1,2,\"A\",\"B\")\n",
        "print(type(T))"
      ]
    },
    {
      "cell_type": "code",
      "execution_count": null,
      "id": "22c7cafa-a0ae-4ddb-b0eb-508b530e516f",
      "metadata": {
        "id": "22c7cafa-a0ae-4ddb-b0eb-508b530e516f"
      },
      "outputs": [],
      "source": [
        "# Length of tuple"
      ]
    },
    {
      "cell_type": "code",
      "execution_count": null,
      "id": "f7eac5c2-c30c-4ced-ad9b-a2ee07bf55fd",
      "metadata": {
        "id": "f7eac5c2-c30c-4ced-ad9b-a2ee07bf55fd",
        "colab": {
          "base_uri": "https://localhost:8080/"
        },
        "outputId": "c9ad49be-8061-495c-91d9-f6e696d41520"
      },
      "outputs": [
        {
          "output_type": "stream",
          "name": "stdout",
          "text": [
            "4\n"
          ]
        }
      ],
      "source": [
        "T=(1,2,\"A\",\"B\")\n",
        "print(len(T))"
      ]
    },
    {
      "cell_type": "code",
      "execution_count": null,
      "id": "fdc0eb75-28c0-4b79-894f-749161f0a60c",
      "metadata": {
        "id": "fdc0eb75-28c0-4b79-894f-749161f0a60c",
        "colab": {
          "base_uri": "https://localhost:8080/"
        },
        "outputId": "60f04829-98ea-410d-efb1-5723459bdafa"
      },
      "outputs": [
        {
          "metadata": {
            "tags": null
          },
          "name": "stdout",
          "output_type": "stream",
          "text": [
            "<class 'tuple'>\n"
          ]
        }
      ],
      "source": [
        "T=(1,2,2,2,\"A\",\"B\")\n",
        "print(type(T))"
      ]
    },
    {
      "cell_type": "code",
      "execution_count": null,
      "id": "b1ebb89f-0b82-48e6-a470-d63d3ea67dca",
      "metadata": {
        "id": "b1ebb89f-0b82-48e6-a470-d63d3ea67dca",
        "colab": {
          "base_uri": "https://localhost:8080/"
        },
        "outputId": "6f7e6ffe-aaea-4f78-d2ed-ddf715f09877"
      },
      "outputs": [
        {
          "output_type": "stream",
          "name": "stdout",
          "text": [
            "<class 'tuple'>\n"
          ]
        }
      ],
      "source": [
        "T=(1,)\n",
        "print(type(T))"
      ]
    },
    {
      "cell_type": "code",
      "source": [
        "#Accessing tuple"
      ],
      "metadata": {
        "id": "qI84QezbMK3I"
      },
      "id": "qI84QezbMK3I",
      "execution_count": null,
      "outputs": []
    },
    {
      "cell_type": "code",
      "execution_count": null,
      "id": "173a8ce2-0abf-4762-b510-082e675faf38",
      "metadata": {
        "id": "173a8ce2-0abf-4762-b510-082e675faf38",
        "colab": {
          "base_uri": "https://localhost:8080/"
        },
        "outputId": "17f89db8-aa19-4d2b-f949-c4039ae896ef"
      },
      "outputs": [
        {
          "output_type": "stream",
          "name": "stdout",
          "text": [
            "('A', 'B')\n"
          ]
        }
      ],
      "source": [
        "T=(1,2,\"A\",\"B\")\n",
        "print(T[2:])"
      ]
    },
    {
      "cell_type": "code",
      "execution_count": null,
      "id": "e2535f0c-dd3e-4644-b1f5-bfa8fac69c5e",
      "metadata": {
        "id": "e2535f0c-dd3e-4644-b1f5-bfa8fac69c5e",
        "colab": {
          "base_uri": "https://localhost:8080/"
        },
        "outputId": "c5ffefc2-3d4e-4be1-9a65-cbf3b599f6c0"
      },
      "outputs": [
        {
          "output_type": "stream",
          "name": "stdout",
          "text": [
            "(1, 2, 'A', 'B')\n"
          ]
        }
      ],
      "source": [
        "T=(1,2,\"A\",\"B\")\n",
        "print(T[:4])"
      ]
    },
    {
      "cell_type": "code",
      "execution_count": null,
      "id": "4199387d-a3ff-42e1-9103-1218630065b8",
      "metadata": {
        "id": "4199387d-a3ff-42e1-9103-1218630065b8",
        "colab": {
          "base_uri": "https://localhost:8080/"
        },
        "outputId": "5df99a65-0797-4d9d-f1c4-1234d8d2fbb0"
      },
      "outputs": [
        {
          "output_type": "stream",
          "name": "stdout",
          "text": [
            "('A', 'B')\n"
          ]
        }
      ],
      "source": [
        "T=(1,2,\"A\",\"B\")\n",
        "\n",
        "print(T[2:4])"
      ]
    },
    {
      "cell_type": "code",
      "execution_count": null,
      "id": "d4c2ea66-bf6c-4c73-8b80-69ab5bb79034",
      "metadata": {
        "id": "d4c2ea66-bf6c-4c73-8b80-69ab5bb79034",
        "colab": {
          "base_uri": "https://localhost:8080/"
        },
        "outputId": "c8e5f56a-b9ae-4c65-f418-1a9e1c03903e"
      },
      "outputs": [
        {
          "output_type": "stream",
          "name": "stdout",
          "text": [
            "(1, 2, 'A', 'B')\n"
          ]
        }
      ],
      "source": [
        "T=(1,2,\"A\",\"B\")\n",
        "print(T[-4:])"
      ]
    },
    {
      "cell_type": "code",
      "execution_count": null,
      "id": "2b0b024d-2166-4b22-8fd9-f39a547e3db9",
      "metadata": {
        "id": "2b0b024d-2166-4b22-8fd9-f39a547e3db9"
      },
      "outputs": [],
      "source": [
        "# Changing in tuple"
      ]
    },
    {
      "cell_type": "code",
      "execution_count": null,
      "id": "6a06c3a1-6d3d-4d8d-8124-6312609da879",
      "metadata": {
        "id": "6a06c3a1-6d3d-4d8d-8124-6312609da879",
        "colab": {
          "base_uri": "https://localhost:8080/"
        },
        "outputId": "ee791c0d-0e70-4de3-9305-5dbd06077ca0"
      },
      "outputs": [
        {
          "metadata": {
            "tags": null
          },
          "name": "stdout",
          "output_type": "stream",
          "text": [
            "(1, 2, 'aman', 'B')\n"
          ]
        }
      ],
      "source": [
        "T=(1,2,\"A\",\"B\")                                      # As we know it is immutable so we use a method\n",
        "L=list(T)                                            # We change it to list\n",
        "L[2]=\"aman\"                                          # Them imsert item\n",
        "T=tuple(L)                                           # Then again change it to tuple and then print\n",
        "print(T)                                              # as we want tuple is change without any error"
      ]
    },
    {
      "cell_type": "code",
      "execution_count": null,
      "id": "34226882-da3b-4b7b-acb7-9475c2f8c4e1",
      "metadata": {
        "id": "34226882-da3b-4b7b-acb7-9475c2f8c4e1",
        "colab": {
          "base_uri": "https://localhost:8080/"
        },
        "outputId": "31cdf3e2-bc15-42f8-e3b4-2afce82c33c3"
      },
      "outputs": [
        {
          "metadata": {
            "tags": null
          },
          "name": "stdout",
          "output_type": "stream",
          "text": [
            "(1, 2, 'Ayush', 'abhishek', 'aman')\n"
          ]
        }
      ],
      "source": [
        "Team=(1,2,\"Ayush\",\"abhishek\",\"B\")\n",
        "Low=list(Team)\n",
        "Low[4]=\"aman\"\n",
        "Team=tuple(Low)\n",
        "print(Team)"
      ]
    },
    {
      "cell_type": "code",
      "execution_count": null,
      "id": "375228dd-1952-46b8-a2cd-e97a5d234026",
      "metadata": {
        "id": "375228dd-1952-46b8-a2cd-e97a5d234026"
      },
      "outputs": [],
      "source": [
        "# Appending tuple"
      ]
    },
    {
      "cell_type": "code",
      "execution_count": null,
      "id": "22584f70-ec2b-470c-970a-4e002a87d11f",
      "metadata": {
        "id": "22584f70-ec2b-470c-970a-4e002a87d11f",
        "colab": {
          "base_uri": "https://localhost:8080/"
        },
        "outputId": "55b6b137-479a-436e-d95a-425e4bdb48ff"
      },
      "outputs": [
        {
          "output_type": "stream",
          "name": "stdout",
          "text": [
            "(1, 2, 'Ayush', 'abhishek', 'B', 'aman')\n"
          ]
        }
      ],
      "source": [
        "Team=(1,2,\"Ayush\",\"abhishek\",\"B\")\n",
        "Low=list(Team)\n",
        "Low.append(\"aman\")\n",
        "Team=tuple(Low)\n",
        "print(Team)"
      ]
    },
    {
      "cell_type": "code",
      "execution_count": null,
      "id": "9e44b096-e6f4-4f4f-8f4b-309508a8359f",
      "metadata": {
        "id": "9e44b096-e6f4-4f4f-8f4b-309508a8359f"
      },
      "outputs": [],
      "source": [
        "# Inserting tuple"
      ]
    },
    {
      "cell_type": "code",
      "execution_count": null,
      "id": "e31e9b51-7c37-453d-b381-f1366a917237",
      "metadata": {
        "id": "e31e9b51-7c37-453d-b381-f1366a917237",
        "colab": {
          "base_uri": "https://localhost:8080/"
        },
        "outputId": "d8bc5e0e-8e9a-4a9a-9973-a1d8feccac0c"
      },
      "outputs": [
        {
          "output_type": "stream",
          "name": "stdout",
          "text": [
            "(1, 2, 'Ayush', 'aman', 'abhishek', 'B')\n"
          ]
        }
      ],
      "source": [
        "Team=(1,2,\"Ayush\",\"abhishek\",\"B\")\n",
        "Low=list(Team)\n",
        "Low.insert(3,\"aman\")\n",
        "Team=tuple(Low)\n",
        "print(Team)"
      ]
    },
    {
      "cell_type": "code",
      "execution_count": null,
      "id": "9875b8a8-d82a-4aaf-a3b0-91bbf0dff8e0",
      "metadata": {
        "id": "9875b8a8-d82a-4aaf-a3b0-91bbf0dff8e0"
      },
      "outputs": [],
      "source": [
        "# Extending tuple"
      ]
    },
    {
      "cell_type": "code",
      "execution_count": null,
      "id": "3023a9ef-ea71-4b83-9c0b-b2ae3e460f0f",
      "metadata": {
        "id": "3023a9ef-ea71-4b83-9c0b-b2ae3e460f0f",
        "colab": {
          "base_uri": "https://localhost:8080/"
        },
        "outputId": "37c7f41c-15d0-470d-b41a-f655fc59d7cd"
      },
      "outputs": [
        {
          "output_type": "stream",
          "name": "stdout",
          "text": [
            "(1, 2, 'Ayush', 'abhishek', 'B', 'aman', 766)\n"
          ]
        }
      ],
      "source": [
        "Team=(1,2,\"Ayush\",\"abhishek\",\"B\")\n",
        "Low=list(Team)\n",
        "Low2=[\"aman\",766]\n",
        "Low.extend(Low2)\n",
        "Team=tuple(Low)\n",
        "print(Team)"
      ]
    },
    {
      "cell_type": "code",
      "execution_count": null,
      "id": "3e593c5d-4224-471a-980f-c2d421d00207",
      "metadata": {
        "id": "3e593c5d-4224-471a-980f-c2d421d00207"
      },
      "outputs": [],
      "source": [
        "# Adding tuple to tuple"
      ]
    },
    {
      "cell_type": "code",
      "execution_count": null,
      "id": "ba63e379-2c92-49d9-bc08-126f9198cb57",
      "metadata": {
        "id": "ba63e379-2c92-49d9-bc08-126f9198cb57",
        "colab": {
          "base_uri": "https://localhost:8080/"
        },
        "outputId": "0b7e657a-21f8-46ff-c38f-1f43ef40e4c3"
      },
      "outputs": [
        {
          "output_type": "stream",
          "name": "stdout",
          "text": [
            "(1, 2, 'Ayush', 'abhishek', 'B', 2, 8)\n"
          ]
        }
      ],
      "source": [
        "Team=(1,2,\"Ayush\",\"abhishek\",\"B\")\n",
        "Low=(2,8)\n",
        "Team+=Low\n",
        "print(Team)"
      ]
    },
    {
      "cell_type": "code",
      "source": [
        "#remove any item from tuple"
      ],
      "metadata": {
        "id": "BQ_d3cMkQuT9"
      },
      "id": "BQ_d3cMkQuT9",
      "execution_count": null,
      "outputs": []
    },
    {
      "cell_type": "code",
      "execution_count": null,
      "id": "286e2376-20cb-4857-bb90-1e1b32d35e6f",
      "metadata": {
        "id": "286e2376-20cb-4857-bb90-1e1b32d35e6f",
        "colab": {
          "base_uri": "https://localhost:8080/"
        },
        "outputId": "a62279be-fcb2-469a-a0d7-dd7eeb8e28ac"
      },
      "outputs": [
        {
          "output_type": "stream",
          "name": "stdout",
          "text": [
            "(1, 'Ayush', 'abhishek', 'B')\n"
          ]
        }
      ],
      "source": [
        "Team=(1,2,\"Ayush\",\"abhishek\",\"B\")\n",
        "Low=list(Team)\n",
        "Low.remove(2)\n",
        "Team=tuple(Low)\n",
        "print(Team)"
      ]
    },
    {
      "cell_type": "code",
      "source": [
        "#deleting tuple"
      ],
      "metadata": {
        "id": "Q4o7eB4MNUGw"
      },
      "id": "Q4o7eB4MNUGw",
      "execution_count": null,
      "outputs": []
    },
    {
      "cell_type": "code",
      "execution_count": null,
      "id": "74e4a094-638b-4d1f-9f5c-ee14cefbe8eb",
      "metadata": {
        "id": "74e4a094-638b-4d1f-9f5c-ee14cefbe8eb"
      },
      "outputs": [],
      "source": [
        "Team=(1,2,\"Ayush\",\"abhishek\",\"B\")\n",
        "del Team"
      ]
    },
    {
      "cell_type": "code",
      "source": [
        "#Multiplyingg tuple"
      ],
      "metadata": {
        "id": "kEpztdEpNeEC"
      },
      "id": "kEpztdEpNeEC",
      "execution_count": null,
      "outputs": []
    },
    {
      "cell_type": "code",
      "execution_count": null,
      "id": "1446f300-1963-4e5c-8545-23aefd9b7beb",
      "metadata": {
        "id": "1446f300-1963-4e5c-8545-23aefd9b7beb",
        "colab": {
          "base_uri": "https://localhost:8080/"
        },
        "outputId": "f706dfcf-b10e-4258-f8c3-654e25572534"
      },
      "outputs": [
        {
          "output_type": "stream",
          "name": "stdout",
          "text": [
            "(1, 2, 'Ayush', 'abhishek', 'B', 1, 2, 'Ayush', 'abhishek', 'B')\n"
          ]
        }
      ],
      "source": [
        "Team=(1,2,\"Ayush\",\"abhishek\",\"B\")\n",
        "x= Team*2\n",
        "print(x)"
      ]
    },
    {
      "cell_type": "code",
      "source": [
        "Team=(1,2,\"Ayush\",\"abhishek\",\"B\")\n",
        "print(Team*2)"
      ],
      "metadata": {
        "id": "zC0fuqX_R9De",
        "colab": {
          "base_uri": "https://localhost:8080/"
        },
        "outputId": "15009978-9b60-4a64-a22b-b39bf1abf560"
      },
      "id": "zC0fuqX_R9De",
      "execution_count": null,
      "outputs": [
        {
          "output_type": "stream",
          "name": "stdout",
          "text": [
            "(1, 2, 'Ayush', 'abhishek', 'B', 1, 2, 'Ayush', 'abhishek', 'B')\n"
          ]
        }
      ]
    },
    {
      "cell_type": "code",
      "source": [
        "Team=(1,2,\"Ayush\",\"abhishek\",2,2,2,2,\"B\")\n",
        "z=Team.count(2)\n",
        "print(z)"
      ],
      "metadata": {
        "id": "qrkWlKXdSWqb",
        "colab": {
          "base_uri": "https://localhost:8080/"
        },
        "outputId": "c4226b6c-2779-49a2-a734-08336f2423c7"
      },
      "id": "qrkWlKXdSWqb",
      "execution_count": null,
      "outputs": [
        {
          "output_type": "stream",
          "name": "stdout",
          "text": [
            "5\n"
          ]
        }
      ]
    },
    {
      "cell_type": "code",
      "source": [
        "Team=(1,2,\"Ayush\",\"abhishek\",\"B\")\n",
        "w=Team.index(2)\n",
        "print(w)"
      ],
      "metadata": {
        "id": "YmPqbi3OTTIF",
        "colab": {
          "base_uri": "https://localhost:8080/"
        },
        "outputId": "fa738c42-eca8-402f-fe63-a340bfd9c50a"
      },
      "id": "YmPqbi3OTTIF",
      "execution_count": null,
      "outputs": [
        {
          "output_type": "stream",
          "name": "stdout",
          "text": [
            "1\n"
          ]
        }
      ]
    },
    {
      "cell_type": "code",
      "source": [
        "Team=(1,2,\"Ayush\",\"abhishek\",2,2,2,2,\"B\")\n",
        "c=Team.index(\"B\")\n",
        "print(c)"
      ],
      "metadata": {
        "id": "jw1RJFUwTph0",
        "colab": {
          "base_uri": "https://localhost:8080/"
        },
        "outputId": "7d584814-d2d3-48bd-c3d2-adf6964eba08"
      },
      "id": "jw1RJFUwTph0",
      "execution_count": null,
      "outputs": [
        {
          "output_type": "stream",
          "name": "stdout",
          "text": [
            "8\n"
          ]
        }
      ]
    },
    {
      "cell_type": "markdown",
      "source": [
        "# **Starting string**"
      ],
      "metadata": {
        "id": "cCblrhZgN3pf"
      },
      "id": "cCblrhZgN3pf"
    },
    {
      "cell_type": "code",
      "source": [
        "# Starting string"
      ],
      "metadata": {
        "id": "kSmHRMkBUFIF"
      },
      "id": "kSmHRMkBUFIF",
      "execution_count": null,
      "outputs": []
    },
    {
      "cell_type": "code",
      "source": [
        "x= ('hello world')\n",
        "print(x)"
      ],
      "metadata": {
        "id": "ZeLRX-KeVcf_",
        "colab": {
          "base_uri": "https://localhost:8080/"
        },
        "outputId": "fe534dae-e80b-46c9-f0ef-dbe7542b4fb9"
      },
      "id": "ZeLRX-KeVcf_",
      "execution_count": null,
      "outputs": [
        {
          "output_type": "stream",
          "name": "stdout",
          "text": [
            "hello world\n"
          ]
        }
      ]
    },
    {
      "cell_type": "code",
      "source": [
        "x= ('hello world')\n",
        "print(len(x))"
      ],
      "metadata": {
        "id": "zx-cUw3FWoht",
        "colab": {
          "base_uri": "https://localhost:8080/"
        },
        "outputId": "59e48fc2-e80b-46b8-f2fa-c7303dd244db"
      },
      "id": "zx-cUw3FWoht",
      "execution_count": null,
      "outputs": [
        {
          "output_type": "stream",
          "name": "stdout",
          "text": [
            "11\n"
          ]
        }
      ]
    },
    {
      "cell_type": "code",
      "source": [
        "# Multiline string"
      ],
      "metadata": {
        "id": "zd4YM0sXW_wW"
      },
      "id": "zd4YM0sXW_wW",
      "execution_count": null,
      "outputs": []
    },
    {
      "cell_type": "code",
      "source": [
        "r=('''hello moto\n",
        "ecivjknfv\n",
        "njnjvnjvnfjv''')\n",
        "print(r)"
      ],
      "metadata": {
        "id": "Cb2LeB4ZXNOt",
        "colab": {
          "base_uri": "https://localhost:8080/"
        },
        "outputId": "7f7d9b3d-6b27-4873-a87e-fa0b801dc807"
      },
      "id": "Cb2LeB4ZXNOt",
      "execution_count": null,
      "outputs": [
        {
          "output_type": "stream",
          "name": "stdout",
          "text": [
            "hello moto\n",
            "ecivjknfv\n",
            "njnjvnjvnfjv\n"
          ]
        }
      ]
    },
    {
      "cell_type": "code",
      "source": [
        "x= ('hello world')\n",
        "print(x[5])"
      ],
      "metadata": {
        "id": "Zu7hleCoXakd",
        "colab": {
          "base_uri": "https://localhost:8080/"
        },
        "outputId": "3ced8816-4437-43b3-de66-3407d8b1e6c1"
      },
      "id": "Zu7hleCoXakd",
      "execution_count": null,
      "outputs": [
        {
          "output_type": "stream",
          "name": "stdout",
          "text": [
            " \n"
          ]
        }
      ]
    },
    {
      "cell_type": "code",
      "source": [
        "x= ('hello world')\n",
        "print(x[6])"
      ],
      "metadata": {
        "id": "rRQc5VLHYxPE",
        "colab": {
          "base_uri": "https://localhost:8080/"
        },
        "outputId": "c14e6b87-068c-4176-a5d8-6957a2f4c40b"
      },
      "id": "rRQc5VLHYxPE",
      "execution_count": null,
      "outputs": [
        {
          "output_type": "stream",
          "name": "stdout",
          "text": [
            "w\n"
          ]
        }
      ]
    },
    {
      "cell_type": "code",
      "source": [
        "#searching elements in string"
      ],
      "metadata": {
        "id": "kDY8ayd3b3md"
      },
      "id": "kDY8ayd3b3md",
      "execution_count": null,
      "outputs": []
    },
    {
      "cell_type": "code",
      "source": [
        "x= ('hello world')\n",
        "print(\"o\" in x)"
      ],
      "metadata": {
        "id": "yz3dPPAuZAvd",
        "colab": {
          "base_uri": "https://localhost:8080/"
        },
        "outputId": "37ad9067-53f6-496a-cbff-7e15630210b0"
      },
      "id": "yz3dPPAuZAvd",
      "execution_count": null,
      "outputs": [
        {
          "output_type": "stream",
          "name": "stdout",
          "text": [
            "True\n"
          ]
        }
      ]
    },
    {
      "cell_type": "code",
      "source": [
        "x= ('hello world')\n",
        "print(x['r'in x])"
      ],
      "metadata": {
        "id": "rCKr6aZwZZ02",
        "colab": {
          "base_uri": "https://localhost:8080/"
        },
        "outputId": "cd6d0add-5cf0-46e4-ef50-1df8758ed34f"
      },
      "id": "rCKr6aZwZZ02",
      "execution_count": null,
      "outputs": [
        {
          "output_type": "stream",
          "name": "stdout",
          "text": [
            "e\n"
          ]
        }
      ]
    },
    {
      "cell_type": "code",
      "source": [
        "# ranging"
      ],
      "metadata": {
        "id": "wkl69-UGcDJV"
      },
      "id": "wkl69-UGcDJV",
      "execution_count": null,
      "outputs": []
    },
    {
      "cell_type": "code",
      "source": [
        "x= ('hello world')\n",
        "print(x[:5])"
      ],
      "metadata": {
        "id": "ccmjPbhSZhRG",
        "colab": {
          "base_uri": "https://localhost:8080/"
        },
        "outputId": "a734ef1d-2f06-4563-afb1-7d0646259094"
      },
      "id": "ccmjPbhSZhRG",
      "execution_count": null,
      "outputs": [
        {
          "output_type": "stream",
          "name": "stdout",
          "text": [
            "hello\n"
          ]
        }
      ]
    },
    {
      "cell_type": "code",
      "source": [
        "x= ('hello world')\n",
        "print(x[:-5])"
      ],
      "metadata": {
        "id": "sdE6DTJ6aDg9",
        "colab": {
          "base_uri": "https://localhost:8080/"
        },
        "outputId": "697231c6-ee79-482b-8236-0457d3a04a45"
      },
      "id": "sdE6DTJ6aDg9",
      "execution_count": null,
      "outputs": [
        {
          "output_type": "stream",
          "name": "stdout",
          "text": [
            "hello \n"
          ]
        }
      ]
    },
    {
      "cell_type": "code",
      "source": [
        "x= ('hello world')\n",
        "print(x[-5:])"
      ],
      "metadata": {
        "id": "hOED4MKaaP7s",
        "colab": {
          "base_uri": "https://localhost:8080/"
        },
        "outputId": "83e277f1-ff1d-4b71-dc54-ddb57032cfaa"
      },
      "id": "hOED4MKaaP7s",
      "execution_count": null,
      "outputs": [
        {
          "output_type": "stream",
          "name": "stdout",
          "text": [
            "world\n"
          ]
        }
      ]
    },
    {
      "cell_type": "code",
      "source": [
        "# Upper case"
      ],
      "metadata": {
        "id": "v2_-UQpRbEQ4"
      },
      "id": "v2_-UQpRbEQ4",
      "execution_count": null,
      "outputs": []
    },
    {
      "cell_type": "code",
      "source": [
        "x= ('hello world')\n",
        "print(x.upper())"
      ],
      "metadata": {
        "id": "kQevvam4cLPN",
        "colab": {
          "base_uri": "https://localhost:8080/"
        },
        "outputId": "bd02ab51-0447-460e-a61e-fe270a8873f2"
      },
      "id": "kQevvam4cLPN",
      "execution_count": null,
      "outputs": [
        {
          "output_type": "stream",
          "name": "stdout",
          "text": [
            "HELLO WORLD\n"
          ]
        }
      ]
    },
    {
      "cell_type": "code",
      "source": [
        "#Lower case"
      ],
      "metadata": {
        "id": "m21sWk5FcTq-"
      },
      "id": "m21sWk5FcTq-",
      "execution_count": null,
      "outputs": []
    },
    {
      "cell_type": "code",
      "source": [
        "x= ('HELLO world')\n",
        "print(x.lower())"
      ],
      "metadata": {
        "id": "B3XPVmdpcY9X",
        "colab": {
          "base_uri": "https://localhost:8080/"
        },
        "outputId": "99e1f2b1-6931-4822-df82-a829c757458c"
      },
      "id": "B3XPVmdpcY9X",
      "execution_count": null,
      "outputs": [
        {
          "output_type": "stream",
          "name": "stdout",
          "text": [
            "hello world\n"
          ]
        }
      ]
    },
    {
      "cell_type": "code",
      "source": [
        "# Removing space in string"
      ],
      "metadata": {
        "id": "_UsIiKTqe62e"
      },
      "id": "_UsIiKTqe62e",
      "execution_count": null,
      "outputs": []
    },
    {
      "cell_type": "code",
      "source": [
        "x= '   hello world   '\n",
        "x.strip()"
      ],
      "metadata": {
        "id": "l6WL3hfmccnm",
        "colab": {
          "base_uri": "https://localhost:8080/",
          "height": 36
        },
        "outputId": "4c0f6d2e-ca1c-465c-a289-43271f6d7a99"
      },
      "id": "l6WL3hfmccnm",
      "execution_count": null,
      "outputs": [
        {
          "output_type": "execute_result",
          "data": {
            "text/plain": [
              "'hello world'"
            ],
            "application/vnd.google.colaboratory.intrinsic+json": {
              "type": "string"
            }
          },
          "metadata": {},
          "execution_count": 290
        }
      ]
    },
    {
      "cell_type": "code",
      "source": [
        "# Split string if there is comma btween elements"
      ],
      "metadata": {
        "id": "4tDCyjmReiDu"
      },
      "id": "4tDCyjmReiDu",
      "execution_count": null,
      "outputs": []
    },
    {
      "cell_type": "code",
      "source": [
        "x= ('hello, world')\n",
        "x.split(\",\")"
      ],
      "metadata": {
        "id": "eyqtwknTdekt",
        "colab": {
          "base_uri": "https://localhost:8080/"
        },
        "outputId": "f03d60a1-5852-4f02-c9c7-439d2c630fd3"
      },
      "id": "eyqtwknTdekt",
      "execution_count": null,
      "outputs": [
        {
          "output_type": "execute_result",
          "data": {
            "text/plain": [
              "['hello', ' world']"
            ]
          },
          "metadata": {},
          "execution_count": 292
        }
      ]
    },
    {
      "cell_type": "code",
      "source": [
        "# Replacing string"
      ],
      "metadata": {
        "id": "u9uCW7UeaPCc"
      },
      "id": "u9uCW7UeaPCc",
      "execution_count": null,
      "outputs": []
    },
    {
      "cell_type": "code",
      "source": [
        "x= ('hello world')\n",
        "print(x.replace(\"h\",\"ch\"))"
      ],
      "metadata": {
        "id": "FlXNww22eOq-",
        "colab": {
          "base_uri": "https://localhost:8080/"
        },
        "outputId": "a9625b5f-19dc-41e1-d5c4-a293bb44daeb"
      },
      "id": "FlXNww22eOq-",
      "execution_count": null,
      "outputs": [
        {
          "output_type": "stream",
          "name": "stdout",
          "text": [
            "chello world\n"
          ]
        }
      ]
    },
    {
      "cell_type": "code",
      "source": [
        "#Concatinating"
      ],
      "metadata": {
        "id": "_h7DC18Tfhq9"
      },
      "id": "_h7DC18Tfhq9",
      "execution_count": null,
      "outputs": []
    },
    {
      "cell_type": "code",
      "source": [
        "x= \"hello world\"\n",
        "c=\"hsjddfj\"\n",
        "z= x + c\n",
        "print(z)                                                     # as we can see it taking both context in one line"
      ],
      "metadata": {
        "id": "--bVDQnRAcxt",
        "colab": {
          "base_uri": "https://localhost:8080/"
        },
        "outputId": "46051175-91d0-4b08-ea5a-d01c76cf7fa7"
      },
      "id": "--bVDQnRAcxt",
      "execution_count": null,
      "outputs": [
        {
          "output_type": "stream",
          "name": "stdout",
          "text": [
            "hello worldhsjddfj\n"
          ]
        }
      ]
    },
    {
      "cell_type": "code",
      "source": [
        "x= \"hello\"\n",
        "w= \"world\"\n",
        "v= x +\" \" + w\n",
        "print(v)"
      ],
      "metadata": {
        "id": "VnrhWTo-Ae6a",
        "colab": {
          "base_uri": "https://localhost:8080/"
        },
        "outputId": "e370f93b-f63b-4d54-ee40-e36e3dbda142"
      },
      "id": "VnrhWTo-Ae6a",
      "execution_count": null,
      "outputs": [
        {
          "output_type": "stream",
          "name": "stdout",
          "text": [
            "hello world\n"
          ]
        }
      ]
    },
    {
      "cell_type": "code",
      "source": [
        "# Can't add int in string"
      ],
      "metadata": {
        "id": "UlfFBKDbDLrB"
      },
      "id": "UlfFBKDbDLrB",
      "execution_count": null,
      "outputs": []
    },
    {
      "cell_type": "code",
      "source": [
        "x= 14\n",
        "he= \"My name is aakash\" + x\n",
        "print(he)"
      ],
      "metadata": {
        "id": "B6RR0LqZBT-T",
        "colab": {
          "base_uri": "https://localhost:8080/",
          "height": 183
        },
        "outputId": "124fceba-ed75-47e4-b1fb-f560a56703e5"
      },
      "id": "B6RR0LqZBT-T",
      "execution_count": null,
      "outputs": [
        {
          "output_type": "error",
          "ename": "TypeError",
          "evalue": "can only concatenate str (not \"int\") to str",
          "traceback": [
            "\u001b[0;31m---------------------------------------------------------------------------\u001b[0m",
            "\u001b[0;31mTypeError\u001b[0m                                 Traceback (most recent call last)",
            "\u001b[0;32m<ipython-input-299-96e4a5c8afa1>\u001b[0m in \u001b[0;36m<cell line: 2>\u001b[0;34m()\u001b[0m\n\u001b[1;32m      1\u001b[0m \u001b[0mx\u001b[0m\u001b[0;34m=\u001b[0m \u001b[0;36m14\u001b[0m\u001b[0;34m\u001b[0m\u001b[0;34m\u001b[0m\u001b[0m\n\u001b[0;32m----> 2\u001b[0;31m \u001b[0mhe\u001b[0m\u001b[0;34m=\u001b[0m \u001b[0;34m\"My name is aakash\"\u001b[0m \u001b[0;34m+\u001b[0m \u001b[0mx\u001b[0m\u001b[0;34m\u001b[0m\u001b[0;34m\u001b[0m\u001b[0m\n\u001b[0m\u001b[1;32m      3\u001b[0m \u001b[0mprint\u001b[0m\u001b[0;34m(\u001b[0m\u001b[0mhe\u001b[0m\u001b[0;34m)\u001b[0m\u001b[0;34m\u001b[0m\u001b[0;34m\u001b[0m\u001b[0m\n",
            "\u001b[0;31mTypeError\u001b[0m: can only concatenate str (not \"int\") to str"
          ]
        }
      ]
    },
    {
      "cell_type": "code",
      "source": [
        "# For adding int in string we use some methods"
      ],
      "metadata": {
        "id": "LKSEWMyxDQ05"
      },
      "id": "LKSEWMyxDQ05",
      "execution_count": null,
      "outputs": []
    },
    {
      "cell_type": "code",
      "source": [
        "x= \"14\"\n",
        "he= \"My name is aakash\" + x\n",
        "print(he)"
      ],
      "metadata": {
        "id": "7rstZv10CWVo",
        "colab": {
          "base_uri": "https://localhost:8080/"
        },
        "outputId": "ba28a855-d09b-456d-e31c-1b2a673be86e"
      },
      "id": "7rstZv10CWVo",
      "execution_count": null,
      "outputs": [
        {
          "output_type": "stream",
          "name": "stdout",
          "text": [
            "My name is aakash14\n"
          ]
        }
      ]
    },
    {
      "cell_type": "code",
      "source": [
        "x= 14\n",
        "he= f\"My name is aakash , I am {x}\"\n",
        "print(he)"
      ],
      "metadata": {
        "id": "tv5Xcbj0C0Nx",
        "colab": {
          "base_uri": "https://localhost:8080/"
        },
        "outputId": "aacad47a-8c8a-4560-bca4-2aa0d463ba49"
      },
      "id": "tv5Xcbj0C0Nx",
      "execution_count": null,
      "outputs": [
        {
          "output_type": "stream",
          "name": "stdout",
          "text": [
            "My name is aakash , I am 14\n"
          ]
        }
      ]
    },
    {
      "cell_type": "code",
      "source": [
        "x= 13\n",
        "shop= f\"the {x} is dollars\"\n",
        "print(shop)"
      ],
      "metadata": {
        "id": "15Pya662C_cp",
        "colab": {
          "base_uri": "https://localhost:8080/"
        },
        "outputId": "785ec02a-dcfc-4fd5-aa9e-f137807073f2"
      },
      "id": "15Pya662C_cp",
      "execution_count": null,
      "outputs": [
        {
          "output_type": "stream",
          "name": "stdout",
          "text": [
            "the 13 is dollars\n"
          ]
        }
      ]
    },
    {
      "cell_type": "code",
      "source": [
        "# For adding float value"
      ],
      "metadata": {
        "id": "B3g2DTndEW8n"
      },
      "id": "B3g2DTndEW8n",
      "execution_count": null,
      "outputs": []
    },
    {
      "cell_type": "code",
      "source": [
        "x= 13\n",
        "shop= f\"the {x:.3f} is dollars\"\n",
        "print(shop)"
      ],
      "metadata": {
        "id": "dpG0tlSND9F7",
        "colab": {
          "base_uri": "https://localhost:8080/"
        },
        "outputId": "661a8721-6cf0-41c3-a93e-755bd01b7755"
      },
      "id": "dpG0tlSND9F7",
      "execution_count": null,
      "outputs": [
        {
          "output_type": "stream",
          "name": "stdout",
          "text": [
            "the 13.000 is dollars\n"
          ]
        }
      ]
    },
    {
      "cell_type": "code",
      "source": [
        "price = f\"I have nO of {30*1:.4f} medals \"\n",
        "print(price)"
      ],
      "metadata": {
        "id": "W6oDoVBTEJET",
        "colab": {
          "base_uri": "https://localhost:8080/"
        },
        "outputId": "f5adf205-9f0c-4161-e0c4-85c3e7570384"
      },
      "id": "W6oDoVBTEJET",
      "execution_count": null,
      "outputs": [
        {
          "output_type": "stream",
          "name": "stdout",
          "text": [
            "I have nO of 30.0000 medals \n"
          ]
        }
      ]
    },
    {
      "cell_type": "code",
      "source": [
        "# Capitalize first word of the sentence while all the others get small"
      ],
      "metadata": {
        "id": "fHp6jAX-HOUh"
      },
      "id": "fHp6jAX-HOUh",
      "execution_count": null,
      "outputs": []
    },
    {
      "cell_type": "code",
      "source": [
        "x= ('hello world')\n",
        "print(x.capitalize())"
      ],
      "metadata": {
        "id": "BIaUQvZWE9nN",
        "colab": {
          "base_uri": "https://localhost:8080/"
        },
        "outputId": "0370f0d0-b143-481d-882e-35db60c0775f"
      },
      "id": "BIaUQvZWE9nN",
      "execution_count": null,
      "outputs": [
        {
          "output_type": "stream",
          "name": "stdout",
          "text": [
            "Hello world\n"
          ]
        }
      ]
    },
    {
      "cell_type": "code",
      "source": [
        "# Title capital the first & last letter in a sentence"
      ],
      "metadata": {
        "id": "RBwUjEtvHYtR"
      },
      "id": "RBwUjEtvHYtR",
      "execution_count": null,
      "outputs": []
    },
    {
      "cell_type": "code",
      "source": [
        "x= ('hello world')\n",
        "print(x.title())"
      ],
      "metadata": {
        "id": "i-YI992iGmQ3",
        "colab": {
          "base_uri": "https://localhost:8080/"
        },
        "outputId": "03f64f4d-735f-4036-c79e-9b9eca24d685"
      },
      "id": "i-YI992iGmQ3",
      "execution_count": null,
      "outputs": [
        {
          "output_type": "stream",
          "name": "stdout",
          "text": [
            "Hello World\n"
          ]
        }
      ]
    },
    {
      "cell_type": "code",
      "source": [
        "# Count will count how many times that element comes"
      ],
      "metadata": {
        "id": "I0jrQzyAIHnD"
      },
      "id": "I0jrQzyAIHnD",
      "execution_count": null,
      "outputs": []
    },
    {
      "cell_type": "code",
      "source": [
        "x= ('hello world')\n",
        "print(x.count(\"o\"))"
      ],
      "metadata": {
        "id": "gie02DiXHF04",
        "colab": {
          "base_uri": "https://localhost:8080/"
        },
        "outputId": "20c1882e-d57a-49a0-fe96-f502e24bbcd6"
      },
      "id": "gie02DiXHF04",
      "execution_count": null,
      "outputs": [
        {
          "output_type": "stream",
          "name": "stdout",
          "text": [
            "2\n"
          ]
        }
      ]
    },
    {
      "cell_type": "code",
      "source": [
        "# Count elements in range"
      ],
      "metadata": {
        "id": "TMV3sbklooNp"
      },
      "id": "TMV3sbklooNp",
      "execution_count": null,
      "outputs": []
    },
    {
      "cell_type": "code",
      "source": [
        "x= ('hello obama world')\n",
        "print(x.count(\"o\",2,15))"
      ],
      "metadata": {
        "id": "xtKBSMHMH02Q",
        "colab": {
          "base_uri": "https://localhost:8080/"
        },
        "outputId": "5a0a1323-d93f-46bd-b8df-8ea0b73b9db9"
      },
      "id": "xtKBSMHMH02Q",
      "execution_count": null,
      "outputs": [
        {
          "output_type": "stream",
          "name": "stdout",
          "text": [
            "3\n"
          ]
        }
      ]
    },
    {
      "cell_type": "code",
      "source": [
        "# Find method show the imdex of the first word of the elment"
      ],
      "metadata": {
        "id": "orP1IgxCoXv1"
      },
      "id": "orP1IgxCoXv1",
      "execution_count": null,
      "outputs": []
    },
    {
      "cell_type": "code",
      "source": [
        "x= ('hello world')\n",
        "print(x.find(\"orld\"))"
      ],
      "metadata": {
        "id": "GEwp1BmwpMsh",
        "colab": {
          "base_uri": "https://localhost:8080/"
        },
        "outputId": "0bbc1568-121c-4e0f-b8e6-dc52b4f3027c"
      },
      "id": "GEwp1BmwpMsh",
      "execution_count": null,
      "outputs": [
        {
          "output_type": "stream",
          "name": "stdout",
          "text": [
            "7\n"
          ]
        }
      ]
    },
    {
      "cell_type": "code",
      "source": [
        "#If element is mnot present so it show -1"
      ],
      "metadata": {
        "id": "vyp93xpKqGJt"
      },
      "id": "vyp93xpKqGJt",
      "execution_count": null,
      "outputs": []
    },
    {
      "cell_type": "code",
      "source": [
        "x= ('hello world')\n",
        "print(x.find(\"You\"))"
      ],
      "metadata": {
        "id": "RSobXpESpcPh",
        "colab": {
          "base_uri": "https://localhost:8080/"
        },
        "outputId": "f676bb00-d6ad-41c2-d36a-ce41ded40804"
      },
      "id": "RSobXpESpcPh",
      "execution_count": null,
      "outputs": [
        {
          "output_type": "stream",
          "name": "stdout",
          "text": [
            "-1\n"
          ]
        }
      ]
    },
    {
      "cell_type": "code",
      "source": [
        "x= ('hello world')\n",
        "print(x.find(\"o\"))"
      ],
      "metadata": {
        "id": "me20HeXwp_Zu",
        "colab": {
          "base_uri": "https://localhost:8080/"
        },
        "outputId": "290b02a6-3919-4a60-f4d5-8c439aacd1ba"
      },
      "id": "me20HeXwp_Zu",
      "execution_count": null,
      "outputs": [
        {
          "output_type": "stream",
          "name": "stdout",
          "text": [
            "4\n"
          ]
        }
      ]
    },
    {
      "cell_type": "code",
      "source": [
        "x= ('hello world')\n",
        "print(x.find(\"o\",2,8))"
      ],
      "metadata": {
        "id": "oeLYQKaDqUYd",
        "colab": {
          "base_uri": "https://localhost:8080/"
        },
        "outputId": "f0214d4f-539f-4697-b9f1-1430e3e74951"
      },
      "id": "oeLYQKaDqUYd",
      "execution_count": null,
      "outputs": [
        {
          "output_type": "stream",
          "name": "stdout",
          "text": [
            "4\n"
          ]
        }
      ]
    },
    {
      "cell_type": "code",
      "source": [
        "x= ('hello world')\n",
        "print(x.index(\"world\"))"
      ],
      "metadata": {
        "id": "A-tA-jtWqa3U",
        "colab": {
          "base_uri": "https://localhost:8080/"
        },
        "outputId": "87238134-d8d6-494c-fb6c-5221a2d4d5ec"
      },
      "id": "A-tA-jtWqa3U",
      "execution_count": null,
      "outputs": [
        {
          "output_type": "stream",
          "name": "stdout",
          "text": [
            "6\n"
          ]
        }
      ]
    },
    {
      "cell_type": "code",
      "source": [
        "# In index if element not present it gives error"
      ],
      "metadata": {
        "id": "YrjmJ-4Lq7uq"
      },
      "id": "YrjmJ-4Lq7uq",
      "execution_count": null,
      "outputs": []
    },
    {
      "cell_type": "code",
      "source": [
        "x= ('hello world')\n",
        "print(x.index(\"You\"))"
      ],
      "metadata": {
        "id": "NWRn29HFqj4K",
        "colab": {
          "base_uri": "https://localhost:8080/",
          "height": 165
        },
        "outputId": "b98d9b2e-e9fd-456a-9c38-4c07f13217a3"
      },
      "id": "NWRn29HFqj4K",
      "execution_count": null,
      "outputs": [
        {
          "output_type": "error",
          "ename": "ValueError",
          "evalue": "substring not found",
          "traceback": [
            "\u001b[0;31m---------------------------------------------------------------------------\u001b[0m",
            "\u001b[0;31mValueError\u001b[0m                                Traceback (most recent call last)",
            "\u001b[0;32m<ipython-input-323-5af095a49118>\u001b[0m in \u001b[0;36m<cell line: 2>\u001b[0;34m()\u001b[0m\n\u001b[1;32m      1\u001b[0m \u001b[0mx\u001b[0m\u001b[0;34m=\u001b[0m \u001b[0;34m(\u001b[0m\u001b[0;34m'hello world'\u001b[0m\u001b[0;34m)\u001b[0m\u001b[0;34m\u001b[0m\u001b[0;34m\u001b[0m\u001b[0m\n\u001b[0;32m----> 2\u001b[0;31m \u001b[0mprint\u001b[0m\u001b[0;34m(\u001b[0m\u001b[0mx\u001b[0m\u001b[0;34m.\u001b[0m\u001b[0mindex\u001b[0m\u001b[0;34m(\u001b[0m\u001b[0;34m\"You\"\u001b[0m\u001b[0;34m)\u001b[0m\u001b[0;34m)\u001b[0m\u001b[0;34m\u001b[0m\u001b[0;34m\u001b[0m\u001b[0m\n\u001b[0m",
            "\u001b[0;31mValueError\u001b[0m: substring not found"
          ]
        }
      ]
    },
    {
      "cell_type": "code",
      "source": [
        "x= ('hello world')\n",
        "print(x.find(\"You\"))\n",
        "print(x.index(\"You\"))"
      ],
      "metadata": {
        "id": "daJX91BKqzrC",
        "colab": {
          "base_uri": "https://localhost:8080/",
          "height": 201
        },
        "outputId": "366d117c-045b-440b-9880-bd1ba9f22a7d"
      },
      "id": "daJX91BKqzrC",
      "execution_count": null,
      "outputs": [
        {
          "output_type": "stream",
          "name": "stdout",
          "text": [
            "-1\n"
          ]
        },
        {
          "output_type": "error",
          "ename": "ValueError",
          "evalue": "substring not found",
          "traceback": [
            "\u001b[0;31m---------------------------------------------------------------------------\u001b[0m",
            "\u001b[0;31mValueError\u001b[0m                                Traceback (most recent call last)",
            "\u001b[0;32m<ipython-input-324-a6fc0d687f2f>\u001b[0m in \u001b[0;36m<cell line: 3>\u001b[0;34m()\u001b[0m\n\u001b[1;32m      1\u001b[0m \u001b[0mx\u001b[0m\u001b[0;34m=\u001b[0m \u001b[0;34m(\u001b[0m\u001b[0;34m'hello world'\u001b[0m\u001b[0;34m)\u001b[0m\u001b[0;34m\u001b[0m\u001b[0;34m\u001b[0m\u001b[0m\n\u001b[1;32m      2\u001b[0m \u001b[0mprint\u001b[0m\u001b[0;34m(\u001b[0m\u001b[0mx\u001b[0m\u001b[0;34m.\u001b[0m\u001b[0mfind\u001b[0m\u001b[0;34m(\u001b[0m\u001b[0;34m\"You\"\u001b[0m\u001b[0;34m)\u001b[0m\u001b[0;34m)\u001b[0m\u001b[0;34m\u001b[0m\u001b[0;34m\u001b[0m\u001b[0m\n\u001b[0;32m----> 3\u001b[0;31m \u001b[0mprint\u001b[0m\u001b[0;34m(\u001b[0m\u001b[0mx\u001b[0m\u001b[0;34m.\u001b[0m\u001b[0mindex\u001b[0m\u001b[0;34m(\u001b[0m\u001b[0;34m\"You\"\u001b[0m\u001b[0;34m)\u001b[0m\u001b[0;34m)\u001b[0m\u001b[0;34m\u001b[0m\u001b[0;34m\u001b[0m\u001b[0m\n\u001b[0m",
            "\u001b[0;31mValueError\u001b[0m: substring not found"
          ]
        }
      ]
    },
    {
      "cell_type": "code",
      "source": [
        "# Using join method"
      ],
      "metadata": {
        "id": "VyIDroc-rSYY"
      },
      "id": "VyIDroc-rSYY",
      "execution_count": null,
      "outputs": []
    },
    {
      "cell_type": "code",
      "source": [
        "e= ('a','b','c')\n",
        "w= '#'.join(e)\n",
        "print(w)"
      ],
      "metadata": {
        "id": "m1s4PpjEsS2c",
        "colab": {
          "base_uri": "https://localhost:8080/"
        },
        "outputId": "cf225152-1f49-448c-d54a-f3d580f1d180"
      },
      "id": "m1s4PpjEsS2c",
      "execution_count": null,
      "outputs": [
        {
          "output_type": "stream",
          "name": "stdout",
          "text": [
            "a#b#c\n"
          ]
        }
      ]
    },
    {
      "cell_type": "code",
      "source": [
        "# Using partition method seperate all words before and after"
      ],
      "metadata": {
        "id": "ZEJsSbmCsV8L"
      },
      "id": "ZEJsSbmCsV8L",
      "execution_count": null,
      "outputs": []
    },
    {
      "cell_type": "code",
      "source": [
        "e= (\" aman is a good boy \")\n",
        "w= e.partition(\"is\")\n",
        "print(w)"
      ],
      "metadata": {
        "id": "b5Qt0mI2tM9n",
        "colab": {
          "base_uri": "https://localhost:8080/"
        },
        "outputId": "e6a36637-505d-4d39-f976-5900cd7a686d"
      },
      "id": "b5Qt0mI2tM9n",
      "execution_count": null,
      "outputs": [
        {
          "output_type": "stream",
          "name": "stdout",
          "text": [
            "(' aman ', 'is', ' a good boy ')\n"
          ]
        }
      ]
    },
    {
      "cell_type": "code",
      "source": [
        "#Split function split every word"
      ],
      "metadata": {
        "id": "MncleFHktqMC"
      },
      "id": "MncleFHktqMC",
      "execution_count": null,
      "outputs": []
    },
    {
      "cell_type": "code",
      "source": [
        "e= (\"aman is a good boy\")\n",
        "w= e.split()\n",
        "print(w)"
      ],
      "metadata": {
        "id": "_uVB1hRKvNrm",
        "colab": {
          "base_uri": "https://localhost:8080/"
        },
        "outputId": "8e23334d-330d-474e-bc15-7d7937bb05fb"
      },
      "id": "_uVB1hRKvNrm",
      "execution_count": null,
      "outputs": [
        {
          "output_type": "stream",
          "name": "stdout",
          "text": [
            "['aman', 'is', 'a', 'good', 'boy']\n"
          ]
        }
      ]
    },
    {
      "cell_type": "code",
      "source": [
        "e= (\"aman is a good boy\")\n",
        "w= e.split(\"is\")\n",
        "print(w)"
      ],
      "metadata": {
        "id": "EP0_P2yxvWnQ",
        "colab": {
          "base_uri": "https://localhost:8080/"
        },
        "outputId": "2a3e57eb-6776-4666-c7f8-a0719b69650f"
      },
      "id": "EP0_P2yxvWnQ",
      "execution_count": null,
      "outputs": [
        {
          "output_type": "stream",
          "name": "stdout",
          "text": [
            "['aman ', ' a good boy']\n"
          ]
        }
      ]
    },
    {
      "cell_type": "code",
      "source": [
        "e= (\"aman is a good boy\")\n",
        "w= e.split(\"#\")\n",
        "print(w)"
      ],
      "metadata": {
        "id": "KUQXmHVAwdkF",
        "colab": {
          "base_uri": "https://localhost:8080/"
        },
        "outputId": "4366a6ce-5404-4306-ebeb-940fbff519b2"
      },
      "id": "KUQXmHVAwdkF",
      "execution_count": null,
      "outputs": [
        {
          "output_type": "stream",
          "name": "stdout",
          "text": [
            "['aman is a good boy']\n"
          ]
        }
      ]
    },
    {
      "cell_type": "code",
      "source": [
        "e= (\"aman is a good boy\")\n",
        "w= e.center(80)\n",
        "print(w)"
      ],
      "metadata": {
        "id": "FcN-p6OOw1uB",
        "colab": {
          "base_uri": "https://localhost:8080/"
        },
        "outputId": "8369867d-c759-4cbb-cf0e-b7ff454923aa"
      },
      "id": "FcN-p6OOw1uB",
      "execution_count": null,
      "outputs": [
        {
          "output_type": "stream",
          "name": "stdout",
          "text": [
            "                               aman is a good boy                               \n"
          ]
        }
      ]
    },
    {
      "cell_type": "code",
      "source": [
        "e= (\"aman is a good boy\")\n",
        "w= e.center(20,'a')\n",
        "print(w)"
      ],
      "metadata": {
        "id": "5rxVkYR7xuio",
        "colab": {
          "base_uri": "https://localhost:8080/"
        },
        "outputId": "e65b47b6-fdc3-478c-8e05-f67dbf1da794"
      },
      "id": "5rxVkYR7xuio",
      "execution_count": null,
      "outputs": [
        {
          "output_type": "stream",
          "name": "stdout",
          "text": [
            "aaman is a good boya\n"
          ]
        }
      ]
    },
    {
      "cell_type": "code",
      "source": [
        "x= ('hello world')\n",
        "w= x.center(20,'o')\n",
        "print(w)"
      ],
      "metadata": {
        "id": "o518Wcv1yENb",
        "colab": {
          "base_uri": "https://localhost:8080/"
        },
        "outputId": "33879eac-a6f3-4fc9-c94d-2679769d1343"
      },
      "id": "o518Wcv1yENb",
      "execution_count": null,
      "outputs": [
        {
          "output_type": "stream",
          "name": "stdout",
          "text": [
            "oooohello worldooooo\n"
          ]
        }
      ]
    },
    {
      "cell_type": "markdown",
      "source": [
        "# Starting set."
      ],
      "metadata": {
        "id": "D1NflushfY4s"
      },
      "id": "D1NflushfY4s"
    },
    {
      "cell_type": "code",
      "source": [
        "#Sets are unordered."
      ],
      "metadata": {
        "id": "cG9_tid_VqtE"
      },
      "id": "cG9_tid_VqtE",
      "execution_count": null,
      "outputs": []
    },
    {
      "cell_type": "code",
      "source": [
        "x= {'hello world'}\n",
        "print(x)"
      ],
      "metadata": {
        "id": "EqSN4l-NUh-j",
        "colab": {
          "base_uri": "https://localhost:8080/"
        },
        "outputId": "c33d84e5-9ee5-418f-f4d3-6940c376cae2"
      },
      "id": "EqSN4l-NUh-j",
      "execution_count": null,
      "outputs": [
        {
          "output_type": "stream",
          "name": "stdout",
          "text": [
            "{'hello world'}\n"
          ]
        }
      ]
    },
    {
      "cell_type": "code",
      "source": [
        "x= {'hello world',2,\"sfsd\",True,43}\n",
        "print(x)"
      ],
      "metadata": {
        "id": "6CJ1shMOVXQC",
        "colab": {
          "base_uri": "https://localhost:8080/"
        },
        "outputId": "117461ac-8e46-495b-fea0-0db43f16c308"
      },
      "id": "6CJ1shMOVXQC",
      "execution_count": null,
      "outputs": [
        {
          "output_type": "stream",
          "name": "stdout",
          "text": [
            "{True, 2, 'sfsd', 'hello world', 43}\n"
          ]
        }
      ]
    },
    {
      "cell_type": "code",
      "source": [
        "x= {'hello','world'}\n",
        "print('hello' in x)"
      ],
      "metadata": {
        "id": "5rw1LdiiVkGk",
        "colab": {
          "base_uri": "https://localhost:8080/"
        },
        "outputId": "e6c97da0-a8a1-48be-c30f-3afc42bb3e99"
      },
      "id": "5rw1LdiiVkGk",
      "execution_count": null,
      "outputs": [
        {
          "output_type": "stream",
          "name": "stdout",
          "text": [
            "True\n"
          ]
        }
      ]
    },
    {
      "cell_type": "code",
      "source": [
        "x= {'hello world'}\n",
        "print('hello' in  x)"
      ],
      "metadata": {
        "id": "wJUhkZ8mXE6C",
        "colab": {
          "base_uri": "https://localhost:8080/"
        },
        "outputId": "e0aad845-7b28-4fbd-f5c7-582280436193"
      },
      "id": "wJUhkZ8mXE6C",
      "execution_count": null,
      "outputs": [
        {
          "output_type": "stream",
          "name": "stdout",
          "text": [
            "False\n"
          ]
        }
      ]
    },
    {
      "cell_type": "code",
      "source": [
        "x= {'hello','world'}\n",
        "print('lello'not in  x)"
      ],
      "metadata": {
        "id": "CdkltULHXeJy",
        "colab": {
          "base_uri": "https://localhost:8080/"
        },
        "outputId": "e4be919d-10b5-4bfb-9a46-53d97acef3c6"
      },
      "id": "CdkltULHXeJy",
      "execution_count": null,
      "outputs": [
        {
          "output_type": "stream",
          "name": "stdout",
          "text": [
            "True\n"
          ]
        }
      ]
    },
    {
      "cell_type": "code",
      "source": [
        "x= {'hello','world'}\n",
        "x.add(\"aman\")\n",
        "print(x)"
      ],
      "metadata": {
        "id": "8krmqbT5YJ9D",
        "colab": {
          "base_uri": "https://localhost:8080/"
        },
        "outputId": "32276eff-2395-4021-889b-e2274c2fe921"
      },
      "id": "8krmqbT5YJ9D",
      "execution_count": null,
      "outputs": [
        {
          "output_type": "stream",
          "name": "stdout",
          "text": [
            "{'hello', 'aman', 'world'}\n"
          ]
        }
      ]
    },
    {
      "cell_type": "code",
      "source": [
        "x= {'hello','world'}\n",
        "y={\"aman\"}\n",
        "x.update(y)\n",
        "print(x)"
      ],
      "metadata": {
        "id": "PdgZOvP6aC8c",
        "colab": {
          "base_uri": "https://localhost:8080/"
        },
        "outputId": "3e485af9-1010-4a8a-dfe2-454effd145e6"
      },
      "id": "PdgZOvP6aC8c",
      "execution_count": null,
      "outputs": [
        {
          "output_type": "stream",
          "name": "stdout",
          "text": [
            "{'hello', 'aman', 'world'}\n"
          ]
        }
      ]
    },
    {
      "cell_type": "code",
      "source": [
        "x= {'hello','world'}\n",
        "y=[\"aman\"]\n",
        "x.update(y)\n",
        "print(x)"
      ],
      "metadata": {
        "id": "bvfYL9fya1xV",
        "colab": {
          "base_uri": "https://localhost:8080/"
        },
        "outputId": "1b67c33c-8e52-40a7-9123-40c4232a4a4c"
      },
      "id": "bvfYL9fya1xV",
      "execution_count": null,
      "outputs": [
        {
          "output_type": "stream",
          "name": "stdout",
          "text": [
            "{'hello', 'aman', 'world'}\n"
          ]
        }
      ]
    },
    {
      "cell_type": "code",
      "source": [
        "x= {'hello','world','aman'}\n",
        "x.remove(\"aman\")\n",
        "print(x)"
      ],
      "metadata": {
        "id": "Coel1c-1bUgU",
        "colab": {
          "base_uri": "https://localhost:8080/"
        },
        "outputId": "9705fe89-6899-4f08-e0e2-6e5bde171541"
      },
      "id": "Coel1c-1bUgU",
      "execution_count": null,
      "outputs": [
        {
          "output_type": "stream",
          "name": "stdout",
          "text": [
            "{'hello', 'world'}\n"
          ]
        }
      ]
    },
    {
      "cell_type": "code",
      "source": [
        "x= {'hello','world','aman'}\n",
        "x.discard(3)\n",
        "print(x)"
      ],
      "metadata": {
        "id": "OLNPRDuDb_Kx",
        "colab": {
          "base_uri": "https://localhost:8080/"
        },
        "outputId": "1bd9953a-bc02-4a4f-86c7-3c0f558498fa"
      },
      "id": "OLNPRDuDb_Kx",
      "execution_count": null,
      "outputs": [
        {
          "output_type": "stream",
          "name": "stdout",
          "text": [
            "{'hello', 'aman', 'world'}\n"
          ]
        }
      ]
    },
    {
      "cell_type": "code",
      "source": [
        "#In set pop method removes any item from set"
      ],
      "metadata": {
        "id": "CGMOCvcaXP9g"
      },
      "id": "CGMOCvcaXP9g",
      "execution_count": null,
      "outputs": []
    },
    {
      "cell_type": "code",
      "source": [
        "x= {'hello','world','aman'}\n",
        "x.pop()\n",
        "print(x)"
      ],
      "metadata": {
        "id": "xSEVNmRqc4hb",
        "colab": {
          "base_uri": "https://localhost:8080/"
        },
        "outputId": "27c4a9a9-587b-4324-8306-5b9b654e953a"
      },
      "id": "xSEVNmRqc4hb",
      "execution_count": null,
      "outputs": [
        {
          "output_type": "stream",
          "name": "stdout",
          "text": [
            "{'aman', 'world'}\n"
          ]
        }
      ]
    },
    {
      "cell_type": "code",
      "source": [
        "#Joining sets with union method"
      ],
      "metadata": {
        "id": "QzDWKnA4X9E2"
      },
      "id": "QzDWKnA4X9E2",
      "execution_count": null,
      "outputs": []
    },
    {
      "cell_type": "code",
      "source": [
        "gang1={\"Toamn\",\"valhalla\",\"Tenjiku\"}\n",
        "gang2={\"Bonten\",\"Kanto\"}\n",
        "Gang= gang1|gang2\n",
        "print(Gang)"
      ],
      "metadata": {
        "id": "dcOncDqvdNFE",
        "colab": {
          "base_uri": "https://localhost:8080/"
        },
        "outputId": "f86b85f3-a0f5-4a59-ab91-8f5b9c2c4d65"
      },
      "id": "dcOncDqvdNFE",
      "execution_count": null,
      "outputs": [
        {
          "output_type": "stream",
          "name": "stdout",
          "text": [
            "{'Kanto', 'Tenjiku', 'Bonten', 'valhalla', 'Toamn'}\n"
          ]
        }
      ]
    },
    {
      "cell_type": "code",
      "source": [
        "gang1={\"Toamn\",\"valhalla\",\"Tenjiku\"}\n",
        "gang2={\"Bonten\",\"Kanto\"}\n",
        "Gang3={\"Brahman\"}\n",
        "Titans=gang1|gang2|Gang3\n",
        "print(Titans)"
      ],
      "metadata": {
        "id": "coAvlG3iY-IV",
        "colab": {
          "base_uri": "https://localhost:8080/"
        },
        "outputId": "905457bb-399b-4818-fc7e-dd6c99334246"
      },
      "id": "coAvlG3iY-IV",
      "execution_count": null,
      "outputs": [
        {
          "output_type": "stream",
          "name": "stdout",
          "text": [
            "{'Kanto', 'Tenjiku', 'Brahman', 'Bonten', 'valhalla', 'Toamn'}\n"
          ]
        }
      ]
    },
    {
      "cell_type": "code",
      "source": [
        "gang1={\"Toamn\",\"valhalla\",\"Tenjiku\"}\n",
        "gang2={\"Bonten\",\"Kanto\"}\n",
        "Gang= gang1.union(gang2)\n",
        "print(Gang)"
      ],
      "metadata": {
        "id": "clgIZ9rBZWKG",
        "colab": {
          "base_uri": "https://localhost:8080/"
        },
        "outputId": "48ae4d6d-8269-43c4-b85a-c3e3a8539e72"
      },
      "id": "clgIZ9rBZWKG",
      "execution_count": null,
      "outputs": [
        {
          "output_type": "stream",
          "name": "stdout",
          "text": [
            "{'Kanto', 'Tenjiku', 'Bonten', 'valhalla', 'Toamn'}\n"
          ]
        }
      ]
    },
    {
      "cell_type": "code",
      "source": [
        "gang1={\"Toamn\",\"valhalla\",\"Tenjiku\"}\n",
        "gang2={\"Bonten\",\"Kanto\"}\n",
        "gang1.update(gang2)\n",
        "print(gang1)"
      ],
      "metadata": {
        "id": "cnERJllGaVxg",
        "colab": {
          "base_uri": "https://localhost:8080/"
        },
        "outputId": "585b052d-20e6-4c7e-bd1d-1cbbbcae66ad"
      },
      "id": "cnERJllGaVxg",
      "execution_count": null,
      "outputs": [
        {
          "output_type": "stream",
          "name": "stdout",
          "text": [
            "{'Kanto', 'Tenjiku', 'Bonten', 'valhalla', 'Toamn'}\n"
          ]
        }
      ]
    },
    {
      "cell_type": "code",
      "source": [
        "gang1={\"Toamn\",\"valhalla\",\"Tenjiku\"}\n",
        "gang2={\"Bonten\",\"Kanto\"}\n",
        "Gang= gang1.intersection(gang2)\n",
        "print(Gang)"
      ],
      "metadata": {
        "id": "iKzGHCuPadjJ",
        "colab": {
          "base_uri": "https://localhost:8080/"
        },
        "outputId": "8098ee4c-a94d-49e2-bf8f-efd69cd23a11"
      },
      "id": "iKzGHCuPadjJ",
      "execution_count": null,
      "outputs": [
        {
          "output_type": "stream",
          "name": "stdout",
          "text": [
            "set()\n"
          ]
        }
      ]
    },
    {
      "cell_type": "code",
      "source": [
        "gang1={\"Toamn\",\"valhalla\",\"Tenjiku\"}\n",
        "gang2={\"Bonten\",\"Kanto\"}\n",
        "Gang= gang1&gang2\n",
        "print(Gang)"
      ],
      "metadata": {
        "id": "EP-9nJ62aop6",
        "colab": {
          "base_uri": "https://localhost:8080/"
        },
        "outputId": "210b88f2-fec7-4f2e-f49d-3ac2d683a39c"
      },
      "id": "EP-9nJ62aop6",
      "execution_count": null,
      "outputs": [
        {
          "output_type": "stream",
          "name": "stdout",
          "text": [
            "set()\n"
          ]
        }
      ]
    },
    {
      "cell_type": "code",
      "source": [
        "gang1={\"Toamn\",\"valhalla\",\"Tenjiku\"}\n",
        "gang2={\"Bonten\",\"Kanto\"}\n",
        "Gang= gang1.difference(gang2)\n",
        "print(Gang)"
      ],
      "metadata": {
        "id": "RJ78ZqB2bKlo",
        "colab": {
          "base_uri": "https://localhost:8080/"
        },
        "outputId": "1ec5becb-23ad-4797-8194-0531a92a33e7"
      },
      "id": "RJ78ZqB2bKlo",
      "execution_count": null,
      "outputs": [
        {
          "output_type": "stream",
          "name": "stdout",
          "text": [
            "{'Tenjiku', 'valhalla', 'Toamn'}\n"
          ]
        }
      ]
    },
    {
      "cell_type": "code",
      "source": [
        "# Always subtract first set to second set"
      ],
      "metadata": {
        "id": "YmdpvBX0kH9g"
      },
      "id": "YmdpvBX0kH9g",
      "execution_count": null,
      "outputs": []
    },
    {
      "cell_type": "code",
      "source": [
        "gang1={\"Toamn\",\"valhalla\",\"Tenjiku\"}\n",
        "gang2={\"Bonten\",\"Kanto\"}\n",
        "Gang= gang2.difference(gang1)\n",
        "print(Gang)"
      ],
      "metadata": {
        "id": "gwSmi-6xbhAO",
        "colab": {
          "base_uri": "https://localhost:8080/"
        },
        "outputId": "0fb35979-8645-4198-c878-5a81ba29528d"
      },
      "id": "gwSmi-6xbhAO",
      "execution_count": null,
      "outputs": [
        {
          "output_type": "stream",
          "name": "stdout",
          "text": [
            "{'Bonten', 'Kanto'}\n"
          ]
        }
      ]
    },
    {
      "cell_type": "code",
      "source": [
        "#In difference it always take 1st set"
      ],
      "metadata": {
        "id": "1DdBeruwjfLL"
      },
      "id": "1DdBeruwjfLL",
      "execution_count": null,
      "outputs": []
    },
    {
      "cell_type": "code",
      "source": [
        "gang1={\"Toamn\",\"valhalla\",\"Tenjiku\"}\n",
        "gang2={\"Bonten\",\"Kanto\",\"Toamn\"}\n",
        "Gang= gang1.difference(gang2)\n",
        "print(Gang)"
      ],
      "metadata": {
        "id": "zwp4__WOboNb",
        "colab": {
          "base_uri": "https://localhost:8080/"
        },
        "outputId": "6dead2be-449e-4d1d-8f10-2dde1e3891c8"
      },
      "id": "zwp4__WOboNb",
      "execution_count": null,
      "outputs": [
        {
          "output_type": "stream",
          "name": "stdout",
          "text": [
            "{'Tenjiku', 'valhalla'}\n"
          ]
        }
      ]
    },
    {
      "cell_type": "markdown",
      "source": [
        "# Dictionary\n",
        "\n",
        "It is always in ordered and chanagable"
      ],
      "metadata": {
        "id": "xBealv5fgcbh"
      },
      "id": "xBealv5fgcbh"
    },
    {
      "cell_type": "code",
      "source": [
        "# Dictionary is ordered and changable but doesn't allow duplicates"
      ],
      "metadata": {
        "id": "MOJPsJ6tgrkz"
      },
      "id": "MOJPsJ6tgrkz",
      "execution_count": null,
      "outputs": []
    },
    {
      "cell_type": "code",
      "source": [
        "TOMAN={\"MICKY\":\"LEADER\",\"KEN-CHIN\":\"PRESIDENT\",\"BAJI\":\"1ST-DIVISION\"}\n",
        "print(TOMAN)"
      ],
      "metadata": {
        "id": "PuqeXpQBb0px",
        "colab": {
          "base_uri": "https://localhost:8080/"
        },
        "outputId": "c95c4414-767f-423c-fe25-2cfbbb989299"
      },
      "id": "PuqeXpQBb0px",
      "execution_count": null,
      "outputs": [
        {
          "output_type": "stream",
          "name": "stdout",
          "text": [
            "{'MICKY': 'LEADER', 'KEN-CHIN': 'PRESIDENT', 'BAJI': '1ST-DIVISION'}\n"
          ]
        }
      ]
    },
    {
      "cell_type": "code",
      "source": [
        "# Finding with value"
      ],
      "metadata": {
        "id": "YeT6hIANhKLi"
      },
      "id": "YeT6hIANhKLi",
      "execution_count": null,
      "outputs": []
    },
    {
      "cell_type": "code",
      "source": [
        "TOMAN={\"MICKY\":\"LEADER\",\"KEN-CHIN\":\"PRESIDENT\",\"BAJI\":\"1ST-DIVISION\"}\n",
        "print(TOMAN[\"MICKY\"])"
      ],
      "metadata": {
        "id": "AP8_IkWIgWzZ",
        "colab": {
          "base_uri": "https://localhost:8080/"
        },
        "outputId": "d1aaec98-a6c8-49ed-93df-5e9b7e082fe8"
      },
      "id": "AP8_IkWIgWzZ",
      "execution_count": null,
      "outputs": [
        {
          "output_type": "stream",
          "name": "stdout",
          "text": [
            "LEADER\n"
          ]
        }
      ]
    },
    {
      "cell_type": "code",
      "source": [
        "# Finding length of dictionary"
      ],
      "metadata": {
        "id": "phpM22ZlhZdH"
      },
      "id": "phpM22ZlhZdH",
      "execution_count": null,
      "outputs": []
    },
    {
      "cell_type": "code",
      "source": [
        "TOMAN={\"MICKY\":\"LEADER\",\"KEN-CHIN\":\"PRESIDENT\",\"BAJI\":\"1ST-DIVISION\"}\n",
        "print(len(TOMAN))"
      ],
      "metadata": {
        "id": "_z_BKL2hhBMS",
        "colab": {
          "base_uri": "https://localhost:8080/"
        },
        "outputId": "f61d6ecf-a067-46bf-a7f1-80436e979e50"
      },
      "id": "_z_BKL2hhBMS",
      "execution_count": null,
      "outputs": [
        {
          "output_type": "stream",
          "name": "stdout",
          "text": [
            "3\n"
          ]
        }
      ]
    },
    {
      "cell_type": "code",
      "source": [
        "# Finding data type"
      ],
      "metadata": {
        "id": "xZOMmE9ehmRQ"
      },
      "id": "xZOMmE9ehmRQ",
      "execution_count": null,
      "outputs": []
    },
    {
      "cell_type": "code",
      "source": [
        "TOMAN={\"MICKY\":\"LEADER\",\"KEN-CHIN\":\"PRESIDENT\",\"BAJI\":\"1ST-DIVISION\"}\n",
        "print(type(TOMAN))"
      ],
      "metadata": {
        "id": "0Up4gITChHUD",
        "colab": {
          "base_uri": "https://localhost:8080/"
        },
        "outputId": "5422ac3f-2066-431f-9b1f-b0e83ff3657b"
      },
      "id": "0Up4gITChHUD",
      "execution_count": null,
      "outputs": [
        {
          "output_type": "stream",
          "name": "stdout",
          "text": [
            "<class 'dict'>\n"
          ]
        }
      ]
    },
    {
      "cell_type": "code",
      "source": [
        "# Duplicate keys it always consider the latest one"
      ],
      "metadata": {
        "id": "_uUb-bJSiYCW"
      },
      "id": "_uUb-bJSiYCW",
      "execution_count": null,
      "outputs": []
    },
    {
      "cell_type": "code",
      "source": [
        "TOMAN={\"MICKY\":\"LEADER\",\"KEN-CHIN\":\"PRESIDENT\",\"BAJI\":\"1ST-DIVISION\",\"BAJI\":\"vice\"}\n",
        "print(TOMAN)"
      ],
      "metadata": {
        "id": "bOv6urWRhtbA",
        "colab": {
          "base_uri": "https://localhost:8080/"
        },
        "outputId": "f2a288f3-0873-44e9-c653-2fcbab41486a"
      },
      "id": "bOv6urWRhtbA",
      "execution_count": null,
      "outputs": [
        {
          "output_type": "stream",
          "name": "stdout",
          "text": [
            "{'MICKY': 'LEADER', 'KEN-CHIN': 'PRESIDENT', 'BAJI': 'vice'}\n"
          ]
        }
      ]
    },
    {
      "cell_type": "code",
      "source": [
        "# For accessing dict items in other variable"
      ],
      "metadata": {
        "id": "LVdKsc3YjRgx"
      },
      "id": "LVdKsc3YjRgx",
      "execution_count": null,
      "outputs": []
    },
    {
      "cell_type": "code",
      "source": [
        "TOMAN={\"MICKY\":\"LEADER\",\"KEN-CHIN\":\"PRESIDENT\",\"BAJI\":\"1ST-DIVISION\"}\n",
        "z=TOMAN.get(\"MICKY\")\n",
        "print(z)"
      ],
      "metadata": {
        "id": "k60TKlh_iSqP",
        "colab": {
          "base_uri": "https://localhost:8080/"
        },
        "outputId": "b0b5c595-3c2f-4281-a672-e83bfe439a33"
      },
      "id": "k60TKlh_iSqP",
      "execution_count": null,
      "outputs": [
        {
          "output_type": "stream",
          "name": "stdout",
          "text": [
            "LEADER\n"
          ]
        }
      ]
    },
    {
      "cell_type": "code",
      "source": [
        "TOMAN={\"MICKY\":\"LEADER\",\"KEN-CHIN\":\"PRESIDENT\",\"BAJI\":\"1ST-DIVISION\"}\n",
        "z=TOMAN.get(\"BAJI\")\n",
        "print(z)"
      ],
      "metadata": {
        "id": "k81wGoT9jHQm",
        "colab": {
          "base_uri": "https://localhost:8080/"
        },
        "outputId": "3c45158d-01d1-4284-952b-6c4a1bee9cb0"
      },
      "id": "k81wGoT9jHQm",
      "execution_count": null,
      "outputs": [
        {
          "output_type": "stream",
          "name": "stdout",
          "text": [
            "1ST-DIVISION\n"
          ]
        }
      ]
    },
    {
      "cell_type": "code",
      "source": [
        "# It shows all the kyes of items in dictionary"
      ],
      "metadata": {
        "id": "yEAHM9imjxbr"
      },
      "id": "yEAHM9imjxbr",
      "execution_count": null,
      "outputs": []
    },
    {
      "cell_type": "code",
      "source": [
        "TOMAN={\"MICKY\":\"LEADER\",\"KEN-CHIN\":\"PRESIDENT\",\"BAJI\":\"1ST-DIVISION\"}\n",
        "print(TOMAN.keys())"
      ],
      "metadata": {
        "id": "gSsrhhg7c-kI",
        "colab": {
          "base_uri": "https://localhost:8080/"
        },
        "outputId": "940d0da2-d73e-4fbd-9ce0-58fd09d950b9"
      },
      "id": "gSsrhhg7c-kI",
      "execution_count": null,
      "outputs": [
        {
          "output_type": "stream",
          "name": "stdout",
          "text": [
            "dict_keys(['MICKY', 'KEN-CHIN', 'BAJI'])\n"
          ]
        }
      ]
    },
    {
      "cell_type": "code",
      "source": [
        "# It shows all the values of the dictionary"
      ],
      "metadata": {
        "id": "cf3UkzmIjp-X"
      },
      "id": "cf3UkzmIjp-X",
      "execution_count": null,
      "outputs": []
    },
    {
      "cell_type": "code",
      "source": [
        "TOMAN={\"MICKY\":\"LEADER\",\"KEN-CHIN\":\"PRESIDENT\",\"BAJI\":\"1ST-DIVISION\"}\n",
        "print(TOMAN.values())"
      ],
      "metadata": {
        "id": "KiICu7w2d8m_",
        "colab": {
          "base_uri": "https://localhost:8080/"
        },
        "outputId": "5386500a-1530-41a2-f0ec-4345f7d3226e"
      },
      "id": "KiICu7w2d8m_",
      "execution_count": null,
      "outputs": [
        {
          "output_type": "stream",
          "name": "stdout",
          "text": [
            "dict_values(['LEADER', 'PRESIDENT', '1ST-DIVISION'])\n"
          ]
        }
      ]
    },
    {
      "cell_type": "code",
      "source": [
        "#For updating item key"
      ],
      "metadata": {
        "id": "2w-2Ub4MjjwT"
      },
      "id": "2w-2Ub4MjjwT",
      "execution_count": null,
      "outputs": []
    },
    {
      "cell_type": "code",
      "source": [
        "TOMAN={\"MICKY\":\"LEADER\",\"KEN-CHIN\":\"PRESIDENT\",\"BAJI\":\"1ST-DIVISION\"}\n",
        "TOMAN[\"KEN-CHIN\"]=\"VICE-PRESIDENT\"\n",
        "print(TOMAN)"
      ],
      "metadata": {
        "id": "hWMnHBIaeGNd",
        "colab": {
          "base_uri": "https://localhost:8080/"
        },
        "outputId": "b30f40fa-09e6-45b3-cb6a-617c9871677f"
      },
      "id": "hWMnHBIaeGNd",
      "execution_count": null,
      "outputs": [
        {
          "output_type": "stream",
          "name": "stdout",
          "text": [
            "{'MICKY': 'LEADER', 'KEN-CHIN': 'VICE-PRESIDENT', 'BAJI': '1ST-DIVISION'}\n"
          ]
        }
      ]
    },
    {
      "cell_type": "code",
      "source": [
        "#For adding item in dictionary"
      ],
      "metadata": {
        "id": "zK04dwy_jc1N"
      },
      "id": "zK04dwy_jc1N",
      "execution_count": null,
      "outputs": []
    },
    {
      "cell_type": "code",
      "source": [
        "toman={\"micky\":\"leader\",\"ken-chin\":\"president\",\"baji\":\"1st-devvision\"}\n",
        "toman[\"takemitchy\"]=\"deputy-leader\"\n",
        "print(toman)"
      ],
      "metadata": {
        "id": "8qLpI_BxeGGa",
        "colab": {
          "base_uri": "https://localhost:8080/"
        },
        "outputId": "b28ebcf6-4eac-4e99-f7e2-61c5592e24b8"
      },
      "id": "8qLpI_BxeGGa",
      "execution_count": null,
      "outputs": [
        {
          "output_type": "stream",
          "name": "stdout",
          "text": [
            "{'micky': 'leader', 'ken-chin': 'president', 'baji': '1st-devvision', 'takemitchy': 'deputy-leader'}\n"
          ]
        }
      ]
    },
    {
      "cell_type": "code",
      "source": [
        "#Dictionary can have any type of data type"
      ],
      "metadata": {
        "id": "yzCobWV5jNG1"
      },
      "id": "yzCobWV5jNG1",
      "execution_count": null,
      "outputs": []
    },
    {
      "cell_type": "code",
      "source": [
        "toman={\"micky\":\"leader\",\"ken-chin\":\"president\",\"baji\":\"1st-devvision\",\"age\":[15,19,18,17],}\n",
        "print(toman)"
      ],
      "metadata": {
        "id": "Tr9gkB47eGD7",
        "colab": {
          "base_uri": "https://localhost:8080/"
        },
        "outputId": "b92a91a1-1bb6-4349-c654-48ec081e6c53"
      },
      "id": "Tr9gkB47eGD7",
      "execution_count": null,
      "outputs": [
        {
          "output_type": "stream",
          "name": "stdout",
          "text": [
            "{'micky': 'leader', 'ken-chin': 'president', 'baji': '1st-devvision', 'age': [15, 19, 18, 17]}\n"
          ]
        }
      ]
    },
    {
      "cell_type": "code",
      "source": [
        "#It updates the item key"
      ],
      "metadata": {
        "id": "PehLhXlxjFYF"
      },
      "id": "PehLhXlxjFYF",
      "execution_count": null,
      "outputs": []
    },
    {
      "cell_type": "code",
      "source": [
        "toman={\"micky\":\"leader\",\"ken-chin\":\"president\",\"baji\":\"1st-devvision\",\"age\":[15,19,18,17],}\n",
        "toman.update({\"ken-chin\":\"vice-persident\"})\n",
        "print(toman)"
      ],
      "metadata": {
        "id": "m6t4T2oweGAc",
        "colab": {
          "base_uri": "https://localhost:8080/"
        },
        "outputId": "7c9751ff-034c-4f04-f81b-ed2e16216781"
      },
      "id": "m6t4T2oweGAc",
      "execution_count": null,
      "outputs": [
        {
          "output_type": "stream",
          "name": "stdout",
          "text": [
            "{'micky': 'leader', 'ken-chin': 'vice-persident', 'baji': '1st-devvision', 'age': [15, 19, 18, 17]}\n"
          ]
        }
      ]
    },
    {
      "cell_type": "code",
      "source": [
        "#It can also add item in dictionary"
      ],
      "metadata": {
        "id": "TWUU-PSMi-9r"
      },
      "id": "TWUU-PSMi-9r",
      "execution_count": null,
      "outputs": []
    },
    {
      "cell_type": "code",
      "source": [
        "toman={\"micky\":\"leader\",\"ken-chin\":\"president\",\"baji\":\"1st-devvision\",\"age\":[15,19,18,17],}\n",
        "toman.update({\"takemitchy\":\"deputy-leader\"})\n",
        "print(toman)"
      ],
      "metadata": {
        "id": "oYeOdPYqhYyh",
        "colab": {
          "base_uri": "https://localhost:8080/"
        },
        "outputId": "1f3c23c7-1546-46c1-db86-a50566342ea4"
      },
      "id": "oYeOdPYqhYyh",
      "execution_count": null,
      "outputs": [
        {
          "output_type": "stream",
          "name": "stdout",
          "text": [
            "{'micky': 'leader', 'ken-chin': 'president', 'baji': '1st-devvision', 'age': [15, 19, 18, 17], 'takemitchy': 'deputy-leader'}\n"
          ]
        }
      ]
    },
    {
      "cell_type": "code",
      "source": [
        "#It removes the item which e have specified"
      ],
      "metadata": {
        "id": "OdZARbVgi4J8"
      },
      "id": "OdZARbVgi4J8",
      "execution_count": null,
      "outputs": []
    },
    {
      "cell_type": "code",
      "source": [
        "toman={\"micky\":\"leader\",\"ken-chin\":\"president\",\"baji\":\"1st-devvision\",\"age\":[15,19,18,17],}\n",
        "toman.pop(\"ken-chin\")\n",
        "print(toman)"
      ],
      "metadata": {
        "id": "5gGoxL9nhYwc",
        "colab": {
          "base_uri": "https://localhost:8080/"
        },
        "outputId": "1e39c202-4872-4d36-eb6d-305529dc3058"
      },
      "id": "5gGoxL9nhYwc",
      "execution_count": null,
      "outputs": [
        {
          "output_type": "stream",
          "name": "stdout",
          "text": [
            "{'micky': 'leader', 'baji': '1st-devvision', 'age': [15, 19, 18, 17]}\n"
          ]
        }
      ]
    },
    {
      "cell_type": "code",
      "source": [
        "#It removes last item from the dictionary"
      ],
      "metadata": {
        "id": "NKPR6qXuiw_T"
      },
      "id": "NKPR6qXuiw_T",
      "execution_count": null,
      "outputs": []
    },
    {
      "cell_type": "code",
      "source": [
        "toman={\"micky\":\"leader\",\"ken-chin\":\"president\",\"baji\":\"1st-devvision\",\"age\":[15,19,18,17],}\n",
        "toman.popitem()\n",
        "print(toman)"
      ],
      "metadata": {
        "id": "19VRud2EhYuP",
        "colab": {
          "base_uri": "https://localhost:8080/"
        },
        "outputId": "b0b81f42-7850-4868-d5f8-b86c204cd831"
      },
      "id": "19VRud2EhYuP",
      "execution_count": null,
      "outputs": [
        {
          "output_type": "stream",
          "name": "stdout",
          "text": [
            "{'micky': 'leader', 'ken-chin': 'president', 'baji': '1st-devvision'}\n"
          ]
        }
      ]
    },
    {
      "cell_type": "code",
      "source": [
        "toman={\"micky\":\"leader\",\"ken-chin\":\"president\",\"baji\":\"1st-devvision\",\"age\":[15,19,18,17],}\n",
        "del toman[\"micky\"]\n",
        "print(toman)"
      ],
      "metadata": {
        "id": "d-DA98VTgF10",
        "colab": {
          "base_uri": "https://localhost:8080/"
        },
        "outputId": "ee8b8b83-0d38-4baa-ea22-46b77f7f7eab"
      },
      "id": "d-DA98VTgF10",
      "execution_count": null,
      "outputs": [
        {
          "output_type": "stream",
          "name": "stdout",
          "text": [
            "{'ken-chin': 'president', 'baji': '1st-devvision', 'age': [15, 19, 18, 17]}\n"
          ]
        }
      ]
    },
    {
      "cell_type": "code",
      "source": [
        "toman={\"micky\":\"leader\",\"ken-chin\":\"president\",\"baji\":\"1st-devvision\",\"age\":[15,19,18,17],}\n",
        "toman.update({\"chifuyu\":\"vive-1st devision\"})\n",
        "print(toman)"
      ],
      "metadata": {
        "id": "Z3QCWF6PgFze",
        "colab": {
          "base_uri": "https://localhost:8080/"
        },
        "outputId": "fd843356-53aa-4e63-be0c-bd1f70e3c4fc"
      },
      "id": "Z3QCWF6PgFze",
      "execution_count": null,
      "outputs": [
        {
          "output_type": "stream",
          "name": "stdout",
          "text": [
            "{'micky': 'leader', 'ken-chin': 'president', 'baji': '1st-devvision', 'age': [15, 19, 18, 17], 'chifuyu': 'vive-1st devision'}\n"
          ]
        }
      ]
    },
    {
      "cell_type": "code",
      "source": [
        "toman={\"micky\":\"leader\",\"ken-chin\":\"president\",\"baji\":\"1st-devvision\",\"age\":[15,19,18,17],}\n",
        "del toman\n",
        "print(toman)"
      ],
      "metadata": {
        "id": "aG9wzhJ_gFwq",
        "colab": {
          "base_uri": "https://localhost:8080/",
          "height": 183
        },
        "outputId": "8aa6a24d-803a-45ff-c70e-bd40a964abfe"
      },
      "id": "aG9wzhJ_gFwq",
      "execution_count": null,
      "outputs": [
        {
          "output_type": "error",
          "ename": "NameError",
          "evalue": "name 'toman' is not defined",
          "traceback": [
            "\u001b[0;31m---------------------------------------------------------------------------\u001b[0m",
            "\u001b[0;31mNameError\u001b[0m                                 Traceback (most recent call last)",
            "\u001b[0;32m<ipython-input-396-b036cc79e1bd>\u001b[0m in \u001b[0;36m<cell line: 3>\u001b[0;34m()\u001b[0m\n\u001b[1;32m      1\u001b[0m \u001b[0mtoman\u001b[0m\u001b[0;34m=\u001b[0m\u001b[0;34m{\u001b[0m\u001b[0;34m\"micky\"\u001b[0m\u001b[0;34m:\u001b[0m\u001b[0;34m\"leader\"\u001b[0m\u001b[0;34m,\u001b[0m\u001b[0;34m\"ken-chin\"\u001b[0m\u001b[0;34m:\u001b[0m\u001b[0;34m\"president\"\u001b[0m\u001b[0;34m,\u001b[0m\u001b[0;34m\"baji\"\u001b[0m\u001b[0;34m:\u001b[0m\u001b[0;34m\"1st-devvision\"\u001b[0m\u001b[0;34m,\u001b[0m\u001b[0;34m\"age\"\u001b[0m\u001b[0;34m:\u001b[0m\u001b[0;34m[\u001b[0m\u001b[0;36m15\u001b[0m\u001b[0;34m,\u001b[0m\u001b[0;36m19\u001b[0m\u001b[0;34m,\u001b[0m\u001b[0;36m18\u001b[0m\u001b[0;34m,\u001b[0m\u001b[0;36m17\u001b[0m\u001b[0;34m]\u001b[0m\u001b[0;34m,\u001b[0m\u001b[0;34m}\u001b[0m\u001b[0;34m\u001b[0m\u001b[0;34m\u001b[0m\u001b[0m\n\u001b[1;32m      2\u001b[0m \u001b[0;32mdel\u001b[0m \u001b[0mtoman\u001b[0m\u001b[0;34m\u001b[0m\u001b[0;34m\u001b[0m\u001b[0m\n\u001b[0;32m----> 3\u001b[0;31m \u001b[0mprint\u001b[0m\u001b[0;34m(\u001b[0m\u001b[0mtoman\u001b[0m\u001b[0;34m)\u001b[0m\u001b[0;34m\u001b[0m\u001b[0;34m\u001b[0m\u001b[0m\n\u001b[0m",
            "\u001b[0;31mNameError\u001b[0m: name 'toman' is not defined"
          ]
        }
      ]
    },
    {
      "cell_type": "code",
      "source": [
        "toman={\"micky\":\"leader\",\"ken-chin\":\"president\",\"baji\":\"1st-devvision\",\"age\":[15,19,18,17],}\n",
        "toman.clear()\n",
        "print(toman)"
      ],
      "metadata": {
        "id": "UFGCVsbLgFt-",
        "colab": {
          "base_uri": "https://localhost:8080/"
        },
        "outputId": "30e1607b-cc4f-44e3-cbf9-aa0684de8c01"
      },
      "id": "UFGCVsbLgFt-",
      "execution_count": null,
      "outputs": [
        {
          "output_type": "stream",
          "name": "stdout",
          "text": [
            "{}\n"
          ]
        }
      ]
    },
    {
      "cell_type": "code",
      "source": [
        "d3={\"micky\":\"leader\",\"ken-chin\":\"president\",\"baji\":\"1st-devvision\",\"age\":[15,19,18,17],}\n",
        "d4=d3\n",
        "print(d4)"
      ],
      "metadata": {
        "id": "em846nzMgFrh",
        "colab": {
          "base_uri": "https://localhost:8080/"
        },
        "outputId": "fe512f07-3226-4848-9f92-eb80014b2930"
      },
      "id": "em846nzMgFrh",
      "execution_count": null,
      "outputs": [
        {
          "output_type": "stream",
          "name": "stdout",
          "text": [
            "{'micky': 'leader', 'ken-chin': 'president', 'baji': '1st-devvision', 'age': [15, 19, 18, 17]}\n"
          ]
        }
      ]
    },
    {
      "cell_type": "code",
      "source": [
        "toman={\"micky\":\"leader\",\"ken-chin\":\"president\",\"baji\":\"1st-devvision\",\"age\":[15,19,18,17],}\n",
        "kanto=toman.copy()\n",
        "print(kanto)"
      ],
      "metadata": {
        "id": "VH71rutvgFov",
        "colab": {
          "base_uri": "https://localhost:8080/"
        },
        "outputId": "f8b779b6-2a14-49b8-fe2e-b4caeab8b486"
      },
      "id": "VH71rutvgFov",
      "execution_count": null,
      "outputs": [
        {
          "output_type": "stream",
          "name": "stdout",
          "text": [
            "{'micky': 'leader', 'ken-chin': 'president', 'baji': '1st-devvision', 'age': [15, 19, 18, 17]}\n"
          ]
        }
      ]
    },
    {
      "cell_type": "code",
      "source": [
        "toman={\"micky\":\"leader\",\"ken-chin\":\"president\",\"baji\":\"1st-devvision\",\"age\":[15,19,18,17],}\n",
        "d4=dict(d3)\n",
        "print(d4)"
      ],
      "metadata": {
        "id": "KDLxkOwvgFl5",
        "colab": {
          "base_uri": "https://localhost:8080/"
        },
        "outputId": "eab107fa-b1ae-47cf-f58f-35592a426a09"
      },
      "id": "KDLxkOwvgFl5",
      "execution_count": null,
      "outputs": [
        {
          "output_type": "stream",
          "name": "stdout",
          "text": [
            "{'micky': 'leader', 'ken-chin': 'president', 'baji': '1st-devvision', 'age': [15, 19, 18, 17]}\n"
          ]
        }
      ]
    },
    {
      "cell_type": "code",
      "source": [
        "#Nested Dictionary\n"
      ],
      "metadata": {
        "id": "Qum0n8KHgFjc"
      },
      "id": "Qum0n8KHgFjc",
      "execution_count": null,
      "outputs": []
    },
    {
      "cell_type": "code",
      "source": [
        "toman={\"micky\":{ \"Gang\":\"Toman\",\"Post\":\"Leader\"},\n",
        "       \"ken-chin\":{\"Gang\":\"Toman\",\"Post\":\"1st-devvision\"},\n",
        "       \"Baji\":{\"Gang\":\"Toman\",\"Post\":\"1st-devision\"}}\n",
        "print(toman)"
      ],
      "metadata": {
        "id": "mLcVOQ9XgFgd",
        "colab": {
          "base_uri": "https://localhost:8080/"
        },
        "outputId": "f53faa6f-0924-4cef-ff38-e63a9b733c7a"
      },
      "id": "mLcVOQ9XgFgd",
      "execution_count": null,
      "outputs": [
        {
          "output_type": "stream",
          "name": "stdout",
          "text": [
            "{'micky': {'Gang': 'Toman', 'Post': 'Leader'}, 'ken-chin': {'Gang': 'Toman', 'Post': '1st-devvision'}, 'Baji': {'Gang': 'Toman', 'Post': '1st-devision'}}\n"
          ]
        }
      ]
    },
    {
      "cell_type": "code",
      "source": [
        "toman={\"micky\":{ \"Gang\":\"Toman\",\"Post\":\"Leader\"},\n",
        "       \"ken-chin\":{\"Gang\":\"Toman\",\"Post\":\"1st-devvision\"},\n",
        "       \"Baji\":{\"Gang\":\"Toman\",\"Post\":\"1st-devision\"}}\n",
        "print(toman[\"ken-chin\"][\"Post\"])"
      ],
      "metadata": {
        "id": "eIyFq2OpgFd_",
        "colab": {
          "base_uri": "https://localhost:8080/"
        },
        "outputId": "596fe08b-9e72-4632-b96c-d45a2d5c8159"
      },
      "id": "eIyFq2OpgFd_",
      "execution_count": null,
      "outputs": [
        {
          "output_type": "stream",
          "name": "stdout",
          "text": [
            "1st-devvision\n"
          ]
        }
      ]
    },
    {
      "cell_type": "markdown",
      "source": [
        "# **If,else and elif statements**\n",
        "These statements are known as conditional statements cause they are used as a condition either it is true print this either it is false or any other condition so print this.\n"
      ],
      "metadata": {
        "id": "SKhxebnnK-E8"
      },
      "id": "SKhxebnnK-E8"
    },
    {
      "cell_type": "code",
      "source": [
        "a=24\n",
        "b=32\n",
        "if a<b:\n",
        "  print(\"a is less than b\")"
      ],
      "metadata": {
        "id": "D791SNcShYo-",
        "colab": {
          "base_uri": "https://localhost:8080/"
        },
        "outputId": "5d9581ba-a948-4f97-ef05-67d9e29edf1e"
      },
      "id": "D791SNcShYo-",
      "execution_count": null,
      "outputs": [
        {
          "output_type": "stream",
          "name": "stdout",
          "text": [
            "a is less than b\n"
          ]
        }
      ]
    },
    {
      "cell_type": "code",
      "source": [
        "a=34\n",
        "b=54\n",
        "if a>b:\n",
        "  print(\"a is greater then b\")"
      ],
      "metadata": {
        "id": "kpFJzTjhhYj_"
      },
      "id": "kpFJzTjhhYj_",
      "execution_count": null,
      "outputs": []
    },
    {
      "cell_type": "code",
      "source": [
        "a=343248\n",
        "b=45323\n",
        "if a>b:\n",
        "  print(\"a is greater then b\")"
      ],
      "metadata": {
        "id": "0ZTzyOgYhYhH",
        "colab": {
          "base_uri": "https://localhost:8080/"
        },
        "outputId": "de535e4f-3206-4e83-fe30-1dda3589a68f"
      },
      "id": "0ZTzyOgYhYhH",
      "execution_count": null,
      "outputs": [
        {
          "output_type": "stream",
          "name": "stdout",
          "text": [
            "a is greater then b\n"
          ]
        }
      ]
    },
    {
      "cell_type": "code",
      "source": [
        "t=5353465\n",
        "h=5443433\n",
        "if h>t:\n",
        "  print(\"Yummy\")"
      ],
      "metadata": {
        "id": "2c21o-6mhYes",
        "colab": {
          "base_uri": "https://localhost:8080/"
        },
        "outputId": "5205aa23-bb12-41c2-a537-9f16b76e911d"
      },
      "id": "2c21o-6mhYes",
      "execution_count": null,
      "outputs": [
        {
          "output_type": "stream",
          "name": "stdout",
          "text": [
            "Yummy\n"
          ]
        }
      ]
    },
    {
      "cell_type": "code",
      "source": [
        "a=23\n",
        "if a>=20:\n",
        "  print(\"You are not eligible\")"
      ],
      "metadata": {
        "id": "yfY9F2nHhYbg",
        "colab": {
          "base_uri": "https://localhost:8080/"
        },
        "outputId": "cdfe4e4d-e26d-4322-c475-4a43dc813b61"
      },
      "id": "yfY9F2nHhYbg",
      "execution_count": null,
      "outputs": [
        {
          "output_type": "stream",
          "name": "stdout",
          "text": [
            "You are not eligible\n"
          ]
        }
      ]
    },
    {
      "cell_type": "code",
      "source": [
        "age=23\n",
        "if age<=20:\n",
        "  print(\"You are an adult\")"
      ],
      "metadata": {
        "id": "a40cIiQVhYY6"
      },
      "id": "a40cIiQVhYY6",
      "execution_count": null,
      "outputs": []
    },
    {
      "cell_type": "code",
      "source": [
        "a=\"boy\"\n",
        "if a==\"boy\":\n",
        "  print(\"You are not eligible\")"
      ],
      "metadata": {
        "id": "aFExe-MyhYVr",
        "colab": {
          "base_uri": "https://localhost:8080/"
        },
        "outputId": "a4236713-7895-490d-9818-35eece9b7772"
      },
      "id": "aFExe-MyhYVr",
      "execution_count": null,
      "outputs": [
        {
          "output_type": "stream",
          "name": "stdout",
          "text": [
            "You are not eligible\n"
          ]
        }
      ]
    },
    {
      "cell_type": "code",
      "source": [
        "a=2\n",
        "if a>=20:\n",
        "   print(\"You are not eligible\")\n",
        "elif a<20:\n",
        "   print(\"You are eligible\")"
      ],
      "metadata": {
        "id": "fgR8JIi2hYSx",
        "colab": {
          "base_uri": "https://localhost:8080/"
        },
        "outputId": "37de2368-6a28-4717-9a68-9066115ea4e6"
      },
      "id": "fgR8JIi2hYSx",
      "execution_count": null,
      "outputs": [
        {
          "output_type": "stream",
          "name": "stdout",
          "text": [
            "You are eligible\n"
          ]
        }
      ]
    },
    {
      "cell_type": "code",
      "source": [
        "a=23\n",
        "s=32\n",
        "if a>=20 and s>=30:\n",
        "  print(\"You are not eligible\")"
      ],
      "metadata": {
        "id": "yKNh9uIIhYOT",
        "colab": {
          "base_uri": "https://localhost:8080/"
        },
        "outputId": "7483dceb-6523-4521-da5a-477fbfbc4497"
      },
      "id": "yKNh9uIIhYOT",
      "execution_count": null,
      "outputs": [
        {
          "output_type": "stream",
          "name": "stdout",
          "text": [
            "You are not eligible\n"
          ]
        }
      ]
    },
    {
      "cell_type": "code",
      "source": [
        "a=23\n",
        "s=32\n",
        "if a>=20 and s>=40:\n",
        "  print(\"You are not eligible\")"
      ],
      "metadata": {
        "id": "oTN_e0uLhYK0"
      },
      "id": "oTN_e0uLhYK0",
      "execution_count": null,
      "outputs": []
    },
    {
      "cell_type": "code",
      "source": [
        "a=23\n",
        "s=4\n",
        "if a>=20 and s<=30:\n",
        "  print(\"You are not eligible\")"
      ],
      "metadata": {
        "id": "5DurXx0jhYH-",
        "colab": {
          "base_uri": "https://localhost:8080/"
        },
        "outputId": "0afcf977-b4d1-44a4-ae81-ae2b3c0533ed"
      },
      "id": "5DurXx0jhYH-",
      "execution_count": null,
      "outputs": [
        {
          "output_type": "stream",
          "name": "stdout",
          "text": [
            "You are not eligible\n"
          ]
        }
      ]
    },
    {
      "cell_type": "code",
      "source": [
        "a=24\n",
        "b=32\n",
        "if a!=b:\n",
        "  print(\"a is less than b\")"
      ],
      "metadata": {
        "id": "X46n5MuPuERo",
        "colab": {
          "base_uri": "https://localhost:8080/"
        },
        "outputId": "6744dbc6-588b-4499-d648-b650c49f34bd"
      },
      "id": "X46n5MuPuERo",
      "execution_count": null,
      "outputs": [
        {
          "output_type": "stream",
          "name": "stdout",
          "text": [
            "a is less than b\n"
          ]
        }
      ]
    },
    {
      "cell_type": "code",
      "source": [
        "a=24\n",
        "b=32\n",
        "if a>=b:\n",
        "  print(\"asdshij\")"
      ],
      "metadata": {
        "id": "VMnN3PaSt5E2"
      },
      "id": "VMnN3PaSt5E2",
      "execution_count": null,
      "outputs": []
    },
    {
      "cell_type": "code",
      "source": [
        "a=2\n",
        "if a>=20:\n",
        "   print(\"You are not eligible\")\n",
        "elif a>=23:\n",
        "   print(\"You are eligible\")\n",
        "else :\n",
        "  print(\"your welcome baby\")"
      ],
      "metadata": {
        "id": "7dkBBDoDO5Ka",
        "colab": {
          "base_uri": "https://localhost:8080/"
        },
        "outputId": "9606376c-7dfc-4497-a6e0-0336ef3d0207"
      },
      "id": "7dkBBDoDO5Ka",
      "execution_count": null,
      "outputs": [
        {
          "output_type": "stream",
          "name": "stdout",
          "text": [
            "your welcome baby\n"
          ]
        }
      ]
    },
    {
      "cell_type": "code",
      "source": [
        "x=122\n",
        "if x%2==0:\n",
        "  print(\"it's even\")\n",
        "else:\n",
        "  print(\"its odd\")"
      ],
      "metadata": {
        "id": "ZDTWHpQdO5H8",
        "colab": {
          "base_uri": "https://localhost:8080/"
        },
        "outputId": "26f5127b-46b7-4984-8181-b6b2a3047d23"
      },
      "id": "ZDTWHpQdO5H8",
      "execution_count": null,
      "outputs": [
        {
          "output_type": "stream",
          "name": "stdout",
          "text": [
            "it's even\n"
          ]
        }
      ]
    },
    {
      "cell_type": "code",
      "source": [
        "x=123\n",
        "if x%2==0:\n",
        "  print(\"it's even\")\n",
        "else:\n",
        "  print(\"its odd\")"
      ],
      "metadata": {
        "id": "ZM66SqVIO5Fn",
        "colab": {
          "base_uri": "https://localhost:8080/"
        },
        "outputId": "ca1afc37-45b3-4819-fad3-785f4504cc7c"
      },
      "id": "ZM66SqVIO5Fn",
      "execution_count": null,
      "outputs": [
        {
          "output_type": "stream",
          "name": "stdout",
          "text": [
            "its odd\n"
          ]
        }
      ]
    },
    {
      "cell_type": "code",
      "source": [
        "x=1\n",
        "if x%2==0:\n",
        "  print(\"it's even\")\n",
        "else:\n",
        "  print(\"its odd\")"
      ],
      "metadata": {
        "id": "pgtdCP7SO5C2",
        "colab": {
          "base_uri": "https://localhost:8080/"
        },
        "outputId": "637411ab-136d-439e-d817-905b806881d2"
      },
      "id": "pgtdCP7SO5C2",
      "execution_count": null,
      "outputs": [
        {
          "output_type": "stream",
          "name": "stdout",
          "text": [
            "its odd\n"
          ]
        }
      ]
    },
    {
      "cell_type": "code",
      "source": [
        "x=12.09\n",
        "if x%2==0:\n",
        "  print(\"it's even\")\n",
        "else:\n",
        "  print(\"its odd\")"
      ],
      "metadata": {
        "id": "DNl2-GWrO5AW",
        "colab": {
          "base_uri": "https://localhost:8080/"
        },
        "outputId": "5a818102-9500-4d07-9a34-e9b8af4c6726"
      },
      "id": "DNl2-GWrO5AW",
      "execution_count": null,
      "outputs": [
        {
          "output_type": "stream",
          "name": "stdout",
          "text": [
            "its odd\n"
          ]
        }
      ]
    },
    {
      "cell_type": "code",
      "source": [
        "x=9\n",
        "if x%2==0:\n",
        "  print(\"Ya even hai \")\n",
        "else:\n",
        "  print(\"Ya odd hai\")"
      ],
      "metadata": {
        "id": "NXRwPcJxO49w",
        "colab": {
          "base_uri": "https://localhost:8080/"
        },
        "outputId": "53b26c00-9a7d-44bc-d935-f9ca06bf7a86"
      },
      "id": "NXRwPcJxO49w",
      "execution_count": null,
      "outputs": [
        {
          "output_type": "stream",
          "name": "stdout",
          "text": [
            "Ya odd hai\n"
          ]
        }
      ]
    },
    {
      "cell_type": "code",
      "source": [
        "x= 50\n",
        "if x>40:\n",
        "  print(\"a\")\n",
        "elif x>30:\n",
        "  print(\"B\")\n",
        "elif x>20:\n",
        "  print(\"C\")\n",
        "else:\n",
        "  print(\"Fail\")"
      ],
      "metadata": {
        "id": "6CbItOs9O46_",
        "colab": {
          "base_uri": "https://localhost:8080/"
        },
        "outputId": "0de633fb-8c05-4229-899f-693ecee23e73"
      },
      "id": "6CbItOs9O46_",
      "execution_count": null,
      "outputs": [
        {
          "output_type": "stream",
          "name": "stdout",
          "text": [
            "a\n"
          ]
        }
      ]
    },
    {
      "cell_type": "code",
      "source": [
        "x= 19\n",
        "if x>40:\n",
        "  print(\"Good bache\")\n",
        "elif x>30:\n",
        "  print(\"Badiya\")\n",
        "elif x==(20.5 or 21):\n",
        "  print(\"baal baal bacha\")\n",
        "elif x>20:\n",
        "  print(\"Chl bach gya\")\n",
        "else:\n",
        "  print(\"Fail hai tu\")"
      ],
      "metadata": {
        "id": "Bxkk-LpfO44Q",
        "colab": {
          "base_uri": "https://localhost:8080/"
        },
        "outputId": "0f33af12-490e-43be-b38b-9483cfb611e3"
      },
      "id": "Bxkk-LpfO44Q",
      "execution_count": null,
      "outputs": [
        {
          "output_type": "stream",
          "name": "stdout",
          "text": [
            "Fail hai tu\n"
          ]
        }
      ]
    },
    {
      "cell_type": "code",
      "source": [
        "\n",
        "\n",
        "x=125\n",
        "if x%2==0:\n",
        "  print(\"it's even\")\n",
        "else:\n",
        "  print(\"its odd\")\n"
      ],
      "metadata": {
        "id": "KhCN0C5bO4w8",
        "colab": {
          "base_uri": "https://localhost:8080/"
        },
        "outputId": "1807cd0a-40d1-4db0-8805-c888e9fc6da5"
      },
      "id": "KhCN0C5bO4w8",
      "execution_count": null,
      "outputs": [
        {
          "output_type": "stream",
          "name": "stdout",
          "text": [
            "its odd\n"
          ]
        }
      ]
    },
    {
      "cell_type": "code",
      "source": [
        "x=123.345\n",
        "if x%2==0:\n",
        "  print(\"it's even\")\n",
        "else:\n",
        "  print(\"its odd\")"
      ],
      "metadata": {
        "id": "l6d40Y4CO4uT",
        "colab": {
          "base_uri": "https://localhost:8080/"
        },
        "outputId": "a1ba1e50-8076-48e5-fd39-2016fc86815f"
      },
      "id": "l6d40Y4CO4uT",
      "execution_count": null,
      "outputs": [
        {
          "output_type": "stream",
          "name": "stdout",
          "text": [
            "its odd\n"
          ]
        }
      ]
    },
    {
      "cell_type": "code",
      "source": [
        "a=2\n",
        "b=57\n",
        "if a>=1:\n",
        "   print(\"You are not eligible\")\n",
        "elif b>=23:\n",
        "   print(\"You are eligible\")\n",
        "else :\n",
        "  print(\"your welcome baby\")"
      ],
      "metadata": {
        "id": "i51PSuf7O4r5",
        "colab": {
          "base_uri": "https://localhost:8080/"
        },
        "outputId": "5d2146d2-80c0-41b9-8be8-e949223f83cd"
      },
      "id": "i51PSuf7O4r5",
      "execution_count": null,
      "outputs": [
        {
          "output_type": "stream",
          "name": "stdout",
          "text": [
            "You are not eligible\n"
          ]
        }
      ]
    },
    {
      "cell_type": "code",
      "source": [
        "x=2019\n",
        "if x%4==0:\n",
        "  print(\"it's leap\")\n",
        "else:\n",
        "  print(\"its normal\")"
      ],
      "metadata": {
        "id": "1vXeIhBOO4pq",
        "colab": {
          "base_uri": "https://localhost:8080/"
        },
        "outputId": "8a370227-51b6-4baa-8e6c-b859fcd2ea5b"
      },
      "id": "1vXeIhBOO4pq",
      "execution_count": null,
      "outputs": [
        {
          "output_type": "stream",
          "name": "stdout",
          "text": [
            "its normal\n"
          ]
        }
      ]
    },
    {
      "cell_type": "code",
      "source": [
        "x=300\n",
        "if (x%4==0 and x%100!=0) or( x%400!=0 ):\n",
        "  print(\"it's leap\")\n",
        "else:\n",
        "  print(\"its normal\")"
      ],
      "metadata": {
        "id": "zfcFITq796f1",
        "colab": {
          "base_uri": "https://localhost:8080/"
        },
        "outputId": "4a8a072c-e075-47ea-9c66-2ac0ee419484"
      },
      "id": "zfcFITq796f1",
      "execution_count": null,
      "outputs": [
        {
          "output_type": "stream",
          "name": "stdout",
          "text": [
            "it's leap\n"
          ]
        }
      ]
    },
    {
      "cell_type": "code",
      "source": [
        "x=input(\"Enter your name\")\n",
        "print(\"hello\",x)"
      ],
      "metadata": {
        "id": "2g6ejrU9O4m5",
        "colab": {
          "base_uri": "https://localhost:8080/"
        },
        "outputId": "7dbfe5c1-68ee-4870-d9a6-618aec1c79f9"
      },
      "id": "2g6ejrU9O4m5",
      "execution_count": null,
      "outputs": [
        {
          "output_type": "stream",
          "name": "stdout",
          "text": [
            "Enter your name5\n",
            "hello 5\n"
          ]
        }
      ]
    },
    {
      "cell_type": "code",
      "source": [
        "x=int(input(\"Enter year \"))\n",
        "if (x%4==0 and x%100!=0) or( x%400==0 ):\n",
        "  print(\"it's leap\")\n",
        "else:\n",
        "  print(\"its normal\")\n"
      ],
      "metadata": {
        "id": "bHeDbVDsO4kt",
        "colab": {
          "base_uri": "https://localhost:8080/"
        },
        "outputId": "218a920b-cb45-43d4-e068-1f0321365d94"
      },
      "id": "bHeDbVDsO4kt",
      "execution_count": null,
      "outputs": [
        {
          "output_type": "stream",
          "name": "stdout",
          "text": [
            "Enter year 7\n",
            "its normal\n"
          ]
        }
      ]
    },
    {
      "cell_type": "markdown",
      "source": [
        "# Loops"
      ],
      "metadata": {
        "id": "3lT7obusz0A7"
      },
      "id": "3lT7obusz0A7"
    },
    {
      "cell_type": "markdown",
      "source": [
        "# **For loop**"
      ],
      "metadata": {
        "id": "cAp6arqHEXpb"
      },
      "id": "cAp6arqHEXpb"
    },
    {
      "cell_type": "code",
      "source": [
        "# For loop\n",
        "# It is used to iterate over a sequence (like a list, tuple, or string ) or other iterable objects. Iterating over a sequence means going through each element one by one"
      ],
      "metadata": {
        "id": "saq8G7Lgz6KU"
      },
      "id": "saq8G7Lgz6KU",
      "execution_count": null,
      "outputs": []
    },
    {
      "cell_type": "code",
      "source": [
        "toman={\"micky\":\"leader\",\"ken-chin\":\"president\",\"baji\":\"1st-devvision\",\"age\":[15,19,18,17]}\n",
        "for toman in toman:\n",
        "  print(toman)"
      ],
      "metadata": {
        "id": "5u1xCFZbO4iL",
        "colab": {
          "base_uri": "https://localhost:8080/"
        },
        "outputId": "4b23daeb-21f5-4361-8478-da2928f4a4bf"
      },
      "id": "5u1xCFZbO4iL",
      "execution_count": null,
      "outputs": [
        {
          "output_type": "stream",
          "name": "stdout",
          "text": [
            "micky\n",
            "ken-chin\n",
            "baji\n",
            "age\n"
          ]
        }
      ]
    },
    {
      "cell_type": "code",
      "source": [
        "toman={\"micky\":\"leader\",\"ken-chin\":\"president\",\"baji\":\"1st-devvision\",\"takemitchy\":\"vice-leader\"}\n",
        "for toman in toman:\n",
        "  print(toman)"
      ],
      "metadata": {
        "id": "9DxYg6VvO4fY",
        "colab": {
          "base_uri": "https://localhost:8080/"
        },
        "outputId": "a802e6fa-e6f5-4e07-a940-4873f906c770"
      },
      "id": "9DxYg6VvO4fY",
      "execution_count": null,
      "outputs": [
        {
          "output_type": "stream",
          "name": "stdout",
          "text": [
            "micky\n",
            "ken-chin\n",
            "baji\n",
            "takemitchy\n"
          ]
        }
      ]
    },
    {
      "cell_type": "code",
      "source": [
        "toman=(\"micky\",\"ken-chin\",\"baji\",\"takemitchy\")\n",
        "for toman in toman:\n",
        "  print(toman)"
      ],
      "metadata": {
        "id": "pNq8xazsO4cx",
        "colab": {
          "base_uri": "https://localhost:8080/"
        },
        "outputId": "adf1d4fc-454f-43df-ac36-93bb2de6adfb"
      },
      "id": "pNq8xazsO4cx",
      "execution_count": null,
      "outputs": [
        {
          "output_type": "stream",
          "name": "stdout",
          "text": [
            "micky\n",
            "ken-chin\n",
            "baji\n",
            "takemitchy\n"
          ]
        }
      ]
    },
    {
      "cell_type": "markdown",
      "source": [
        "Range function returns the sequence of numbers we input on it. Range function helps in loop so we don't have to write the no we want to iterate or any iterating condition we just give range\n",
        "and it will automaticaly iterate on that input sequence"
      ],
      "metadata": {
        "id": "O9stH92wTryy"
      },
      "id": "O9stH92wTryy"
    },
    {
      "cell_type": "code",
      "source": [
        "for x in range(20):\n",
        "  print(x)"
      ],
      "metadata": {
        "id": "mKZ8wMieO4ay",
        "colab": {
          "base_uri": "https://localhost:8080/"
        },
        "outputId": "9abd7560-1aad-4b6f-ee08-c631c760de34"
      },
      "id": "mKZ8wMieO4ay",
      "execution_count": null,
      "outputs": [
        {
          "output_type": "stream",
          "name": "stdout",
          "text": [
            "0\n",
            "1\n",
            "2\n",
            "3\n",
            "4\n",
            "5\n",
            "6\n",
            "7\n",
            "8\n",
            "9\n",
            "10\n",
            "11\n",
            "12\n",
            "13\n",
            "14\n",
            "15\n",
            "16\n",
            "17\n",
            "18\n",
            "19\n"
          ]
        }
      ]
    },
    {
      "cell_type": "code",
      "source": [
        "for Characters in \"Toman\":\n",
        "  print(Characters)"
      ],
      "metadata": {
        "id": "wI1qqy1zO4YR",
        "colab": {
          "base_uri": "https://localhost:8080/"
        },
        "outputId": "88fe5063-03ce-4407-bc9e-aa6c993c828d"
      },
      "id": "wI1qqy1zO4YR",
      "execution_count": null,
      "outputs": [
        {
          "output_type": "stream",
          "name": "stdout",
          "text": [
            "T\n",
            "o\n",
            "m\n",
            "a\n",
            "n\n"
          ]
        }
      ]
    },
    {
      "cell_type": "code",
      "source": [
        "#print square of all numbers in a list\n",
        "x=[1,2,3,4,5]\n",
        "y=0\n",
        "for x in x:\n",
        "  y+=x\n",
        "print(\"Sum of  no's square is\",y**2)"
      ],
      "metadata": {
        "id": "Dctl8csYgDGU",
        "colab": {
          "base_uri": "https://localhost:8080/"
        },
        "outputId": "e7af19e6-efb4-45c4-98cb-38992f1f4eca"
      },
      "id": "Dctl8csYgDGU",
      "execution_count": null,
      "outputs": [
        {
          "output_type": "stream",
          "name": "stdout",
          "text": [
            "Sum of  no's square is 225\n"
          ]
        }
      ]
    },
    {
      "cell_type": "code",
      "source": [
        "x=[21,33,32,2332,2332,3223]\n",
        "for i in x:\n",
        "  print(\"the square is \",i, \"is\" , i**2)"
      ],
      "metadata": {
        "colab": {
          "base_uri": "https://localhost:8080/"
        },
        "id": "Hf27sk2AL1f_",
        "outputId": "4ef4db6b-6f39-4789-de46-c27f99d18b96"
      },
      "id": "Hf27sk2AL1f_",
      "execution_count": null,
      "outputs": [
        {
          "output_type": "stream",
          "name": "stdout",
          "text": [
            "the square is  21 is 441\n",
            "the square is  33 is 1089\n",
            "the square is  32 is 1024\n",
            "the square is  2332 is 5438224\n",
            "the square is  2332 is 5438224\n",
            "the square is  3223 is 10387729\n"
          ]
        }
      ]
    },
    {
      "cell_type": "code",
      "source": [
        "\n",
        "# Print square of numbers in the list\n",
        "x=[11,22,33,44,55]\n",
        "for x in x:\n",
        "    print(\"Square of no \",x,\" is\", x**2)"
      ],
      "metadata": {
        "id": "S8pt4eycgDBX",
        "colab": {
          "base_uri": "https://localhost:8080/"
        },
        "outputId": "bb78a49a-861c-4ec9-b7e1-4dd714050411"
      },
      "id": "S8pt4eycgDBX",
      "execution_count": null,
      "outputs": [
        {
          "output_type": "stream",
          "name": "stdout",
          "text": [
            "Square of no  11  is 121\n",
            "Square of no  22  is 484\n",
            "Square of no  33  is 1089\n",
            "Square of no  44  is 1936\n",
            "Square of no  55  is 3025\n"
          ]
        }
      ]
    },
    {
      "cell_type": "markdown",
      "source": [
        "For loop with if,elif and else.\n"
      ],
      "metadata": {
        "id": "POHrOWe5WLs5"
      },
      "id": "POHrOWe5WLs5"
    },
    {
      "cell_type": "code",
      "source": [
        "x=20\n",
        "for x in range(0,20):\n",
        "  if x%2==0:\n",
        "    print(\"Awesome buddy\",x+5)\n",
        "  elif x%3==0:\n",
        "    print(\"Good luck\",x+2)\n",
        "  else:\n",
        "    print(\"Nothing\",x+5,)"
      ],
      "metadata": {
        "id": "l8vtOJeggC6U",
        "colab": {
          "base_uri": "https://localhost:8080/"
        },
        "outputId": "4842eda1-81ff-4df5-9345-cd3c24de9e91"
      },
      "id": "l8vtOJeggC6U",
      "execution_count": null,
      "outputs": [
        {
          "output_type": "stream",
          "name": "stdout",
          "text": [
            "Awesome buddy 5\n",
            "Nothing 6\n",
            "Awesome buddy 7\n",
            "Good luck 5\n",
            "Awesome buddy 9\n",
            "Nothing 10\n",
            "Awesome buddy 11\n",
            "Nothing 12\n",
            "Awesome buddy 13\n",
            "Good luck 11\n",
            "Awesome buddy 15\n",
            "Nothing 16\n",
            "Awesome buddy 17\n",
            "Nothing 18\n",
            "Awesome buddy 19\n",
            "Good luck 17\n",
            "Awesome buddy 21\n",
            "Nothing 22\n",
            "Awesome buddy 23\n",
            "Nothing 24\n"
          ]
        }
      ]
    },
    {
      "cell_type": "code",
      "source": [
        "#To find smallest no"
      ],
      "metadata": {
        "id": "M7hIayBRrbOg"
      },
      "id": "M7hIayBRrbOg",
      "execution_count": null,
      "outputs": []
    },
    {
      "cell_type": "code",
      "source": [
        "x=[1,2,4535,67,43534]\n",
        "y=0\n",
        "z=''\n",
        "for z in x:\n",
        "  y=x.sort( reverse= True)\n",
        "  y=z\n",
        "  if y<z:\n",
        "    pass\n",
        "print(\"the no is \" ,y)"
      ],
      "metadata": {
        "id": "2yT3jLoVgCyw",
        "colab": {
          "base_uri": "https://localhost:8080/"
        },
        "outputId": "064e4c0e-0cf2-46b7-ac08-cffe6fe0b137"
      },
      "id": "2yT3jLoVgCyw",
      "execution_count": null,
      "outputs": [
        {
          "output_type": "stream",
          "name": "stdout",
          "text": [
            "the no is  1\n"
          ]
        }
      ]
    },
    {
      "cell_type": "code",
      "source": [
        "x=[11,287,63,84,4,5]\n",
        "y=0\n",
        "for i in x:\n",
        "  y=x.sort(reverse=True)\n",
        "  y=i\n",
        "  if y<i:\n",
        "     pass\n",
        "print(y)"
      ],
      "metadata": {
        "colab": {
          "base_uri": "https://localhost:8080/"
        },
        "id": "kTLhvVyGNC3-",
        "outputId": "abce8687-cbc3-4335-fd16-4177c7f7ab99"
      },
      "id": "kTLhvVyGNC3-",
      "execution_count": null,
      "outputs": [
        {
          "output_type": "stream",
          "name": "stdout",
          "text": [
            "4\n"
          ]
        }
      ]
    },
    {
      "cell_type": "code",
      "source": [
        "x=[4,234,23,433,324]\n",
        "y=0\n",
        "z=''\n",
        "for i in x:\n",
        "  y=x.sort(reverse=True)\n",
        "  y=i\n",
        "  if y<i:\n",
        "    pass\n",
        "print(y)"
      ],
      "metadata": {
        "colab": {
          "base_uri": "https://localhost:8080/"
        },
        "id": "PaVnFZ92Gfsj",
        "outputId": "ef2e5daf-79ee-454c-eafb-0e80a86ee252"
      },
      "id": "PaVnFZ92Gfsj",
      "execution_count": null,
      "outputs": [
        {
          "output_type": "stream",
          "name": "stdout",
          "text": [
            "4\n"
          ]
        }
      ]
    },
    {
      "cell_type": "code",
      "source": [
        "x=[4,234,23,433,324]\n",
        "y=0\n",
        "for i in x:\n",
        "  y=x.sort()\n",
        "  y=i\n",
        "  if y<i:\n",
        "    pass\n",
        "print(y)"
      ],
      "metadata": {
        "colab": {
          "base_uri": "https://localhost:8080/"
        },
        "id": "hcVuobe_KmeD",
        "outputId": "1c1d15c8-606c-4959-9c0b-f83b56a8c6cc"
      },
      "id": "hcVuobe_KmeD",
      "execution_count": null,
      "outputs": [
        {
          "output_type": "stream",
          "name": "stdout",
          "text": [
            "433\n"
          ]
        }
      ]
    },
    {
      "cell_type": "code",
      "source": [
        "X=[1,2,3,12,4,5,6,7,20,8,9,10]\n",
        "max=X[0]\n",
        "for x in X:\n",
        "  if x>max:\n",
        "    max=x\n",
        "print(max)"
      ],
      "metadata": {
        "colab": {
          "base_uri": "https://localhost:8080/"
        },
        "id": "H__kKzbVHjFD",
        "outputId": "e06713fb-bc53-4df9-9d07-e91b6b49934e"
      },
      "id": "H__kKzbVHjFD",
      "execution_count": null,
      "outputs": [
        {
          "output_type": "stream",
          "name": "stdout",
          "text": [
            "20\n"
          ]
        }
      ]
    },
    {
      "cell_type": "code",
      "source": [
        "x=[233,334,32,23432,3423,3,4,3432]\n",
        "c=x[0]\n",
        "for i in x:\n",
        "  if i>c:\n",
        "    c=i\n",
        "print(c)"
      ],
      "metadata": {
        "colab": {
          "base_uri": "https://localhost:8080/"
        },
        "id": "YhhNYFteTUur",
        "outputId": "fdefed2d-f4bc-4931-aaa9-3dfe349d382c"
      },
      "id": "YhhNYFteTUur",
      "execution_count": null,
      "outputs": [
        {
          "output_type": "stream",
          "name": "stdout",
          "text": [
            "23432\n"
          ]
        }
      ]
    },
    {
      "cell_type": "code",
      "source": [
        "#Position of the number\n",
        "x=[1,323,4534,234,453,5546,46,43,6,3,4,123,]\n",
        "z=5546\n",
        "m=0\n",
        "for y in x:\n",
        " if (y==z):\n",
        "   print(\"Jo number hai na vo hai\", m,\"position mai\")\n",
        " m+=1"
      ],
      "metadata": {
        "id": "keQIWJ54gCv_",
        "colab": {
          "base_uri": "https://localhost:8080/"
        },
        "outputId": "cb2b48d7-9161-45a2-eb07-28310fe95db7"
      },
      "id": "keQIWJ54gCv_",
      "execution_count": null,
      "outputs": [
        {
          "output_type": "stream",
          "name": "stdout",
          "text": [
            "Jo number hai na vo hai 5 position mai\n"
          ]
        }
      ]
    },
    {
      "cell_type": "code",
      "source": [
        "x=[1,323,4534,234,453,5546,46,43,6,3,4,123,]\n",
        "z=5546\n",
        "m=0\n",
        "for m in x:\n",
        " if (m==z):\n",
        "   print(\"Jo number hai na vo hai\", m,\"position mai\")\n",
        " m+=1                                                       # hm dusra no isliye lete hai taki hme jo no mmile vo index no ho na ki vhi no jisse hm dhund rhe hai"
      ],
      "metadata": {
        "id": "IOqMCuNJgCtK",
        "colab": {
          "base_uri": "https://localhost:8080/"
        },
        "outputId": "db9483ee-5883-4ac3-d6a3-98817057ce9e"
      },
      "id": "IOqMCuNJgCtK",
      "execution_count": null,
      "outputs": [
        {
          "output_type": "stream",
          "name": "stdout",
          "text": [
            "Jo number hai na vo hai 5546 position mai\n"
          ]
        }
      ]
    },
    {
      "cell_type": "code",
      "source": [
        "# print program to sum of all the numbers from 1 to any number"
      ],
      "metadata": {
        "id": "HIco46jwgCoK"
      },
      "id": "HIco46jwgCoK",
      "execution_count": null,
      "outputs": []
    },
    {
      "cell_type": "code",
      "source": [
        "n= int(input(\"enter a number\"))\n",
        "x=0\n",
        "for i in range(1,n+1):\n",
        "  x+=i\n",
        "print(x)\n"
      ],
      "metadata": {
        "id": "ATTLfqdfqPHB",
        "colab": {
          "base_uri": "https://localhost:8080/"
        },
        "outputId": "dcb7936b-c8dd-4808-d925-4cf87926bc8c"
      },
      "id": "ATTLfqdfqPHB",
      "execution_count": null,
      "outputs": [
        {
          "output_type": "stream",
          "name": "stdout",
          "text": [
            "enter a number5\n",
            "15\n"
          ]
        }
      ]
    },
    {
      "cell_type": "code",
      "source": [
        "# Print sum of all numbers between range 10"
      ],
      "metadata": {
        "id": "SLaUdoLSqO9n"
      },
      "id": "SLaUdoLSqO9n",
      "execution_count": null,
      "outputs": []
    },
    {
      "cell_type": "code",
      "source": [
        "x=0\n",
        "for i in range(1,10,2):\n",
        "  x+=i\n",
        "print(x)"
      ],
      "metadata": {
        "id": "1ulPR7ctqO2d",
        "colab": {
          "base_uri": "https://localhost:8080/"
        },
        "outputId": "2c5c56c1-4d51-4df4-a910-9f8fde79925c"
      },
      "id": "1ulPR7ctqO2d",
      "execution_count": null,
      "outputs": [
        {
          "output_type": "stream",
          "name": "stdout",
          "text": [
            "25\n"
          ]
        }
      ]
    },
    {
      "cell_type": "code",
      "source": [
        "x=0\n",
        "for i in range(20):\n",
        "  if i%2!=0:\n",
        "    x+=i\n",
        "print(x)                         #for odd numbers sum with for loop and if"
      ],
      "metadata": {
        "id": "GoHw0iJsvcvw",
        "colab": {
          "base_uri": "https://localhost:8080/"
        },
        "outputId": "eb543b1e-e142-40dd-810c-55c44f5092f4"
      },
      "id": "GoHw0iJsvcvw",
      "execution_count": null,
      "outputs": [
        {
          "output_type": "stream",
          "name": "stdout",
          "text": [
            "100\n"
          ]
        }
      ]
    },
    {
      "cell_type": "code",
      "source": [
        "#Print multiplication table of any number"
      ],
      "metadata": {
        "id": "HAg37o6Tvcm-"
      },
      "id": "HAg37o6Tvcm-",
      "execution_count": null,
      "outputs": []
    },
    {
      "cell_type": "code",
      "source": [
        "n= int(input(\"enter a number \"))\n",
        "for x in range (1,11):\n",
        "  print(n*x)\n",
        "  x+=1"
      ],
      "metadata": {
        "id": "xYOx9Pcbvcek",
        "colab": {
          "base_uri": "https://localhost:8080/"
        },
        "outputId": "b4563010-0442-40f6-9f9e-98f3978f9ff5"
      },
      "id": "xYOx9Pcbvcek",
      "execution_count": null,
      "outputs": [
        {
          "output_type": "stream",
          "name": "stdout",
          "text": [
            "enter a number 6\n",
            "6\n",
            "12\n",
            "18\n",
            "24\n",
            "30\n",
            "36\n",
            "42\n",
            "48\n",
            "54\n",
            "60\n"
          ]
        }
      ]
    },
    {
      "cell_type": "code",
      "source": [
        "n= int(input(\"enter a number \"))\n",
        "for x in range(1,11):\n",
        "  print(\"table of \", n, \"is \", n,\"x\",x,\"=\",n*x)\n",
        "  x+=1"
      ],
      "metadata": {
        "colab": {
          "base_uri": "https://localhost:8080/"
        },
        "id": "_yOAp31_G2-D",
        "outputId": "e5831ef3-709f-482e-c107-eec4181f0592"
      },
      "id": "_yOAp31_G2-D",
      "execution_count": null,
      "outputs": [
        {
          "output_type": "stream",
          "name": "stdout",
          "text": [
            "enter a number 6\n",
            "table of  6 is  6 x 1 = 6\n",
            "table of  6 is  6 x 2 = 12\n",
            "table of  6 is  6 x 3 = 18\n",
            "table of  6 is  6 x 4 = 24\n",
            "table of  6 is  6 x 5 = 30\n",
            "table of  6 is  6 x 6 = 36\n",
            "table of  6 is  6 x 7 = 42\n",
            "table of  6 is  6 x 8 = 48\n",
            "table of  6 is  6 x 9 = 54\n",
            "table of  6 is  6 x 10 = 60\n"
          ]
        }
      ]
    },
    {
      "cell_type": "code",
      "source": [
        "for i in range(11):\n",
        "  print(\"5\",\"x\",i,\"=\",5*i)        #to show in a format of real table instead of just no's"
      ],
      "metadata": {
        "id": "ej-AmFqfvcX3",
        "colab": {
          "base_uri": "https://localhost:8080/"
        },
        "outputId": "b0d02049-acbc-4d92-b196-e39e5aab9dd4"
      },
      "id": "ej-AmFqfvcX3",
      "execution_count": null,
      "outputs": [
        {
          "output_type": "stream",
          "name": "stdout",
          "text": [
            "5 x 0 = 0\n",
            "5 x 1 = 5\n",
            "5 x 2 = 10\n",
            "5 x 3 = 15\n",
            "5 x 4 = 20\n",
            "5 x 5 = 25\n",
            "5 x 6 = 30\n",
            "5 x 7 = 35\n",
            "5 x 8 = 40\n",
            "5 x 9 = 45\n",
            "5 x 10 = 50\n"
          ]
        }
      ]
    },
    {
      "cell_type": "code",
      "source": [
        "#Display no's of list"
      ],
      "metadata": {
        "id": "_tJddIlfvcVK"
      },
      "id": "_tJddIlfvcVK",
      "execution_count": null,
      "outputs": []
    },
    {
      "cell_type": "code",
      "source": [
        "x=[23,123,24,34,34,23,4,3,4]\n",
        "for x in x:\n",
        "  print(x)"
      ],
      "metadata": {
        "id": "MjAxdimCyfA5",
        "colab": {
          "base_uri": "https://localhost:8080/"
        },
        "outputId": "71714b2a-e943-42ad-939c-63fd110b94a5"
      },
      "id": "MjAxdimCyfA5",
      "execution_count": null,
      "outputs": [
        {
          "output_type": "stream",
          "name": "stdout",
          "text": [
            "23\n",
            "123\n",
            "24\n",
            "34\n",
            "34\n",
            "23\n",
            "4\n",
            "3\n",
            "4\n"
          ]
        }
      ]
    },
    {
      "cell_type": "code",
      "source": [
        "#Count no of digits in a number"
      ],
      "metadata": {
        "id": "34XFxSR2ye--"
      },
      "id": "34XFxSR2ye--",
      "execution_count": null,
      "outputs": []
    },
    {
      "cell_type": "code",
      "source": [
        "x=324324324\n",
        "x= str(x)\n",
        "count=0\n",
        "for i in x:\n",
        "  count+=1\n",
        "print(count)                               #we cannot iterate over an iteger means we cannot perform any for loop function on that  we convert that integer to string for count it's digit"
      ],
      "metadata": {
        "id": "jtqw7NNEye8S",
        "colab": {
          "base_uri": "https://localhost:8080/"
        },
        "outputId": "e2c729d9-3db9-447f-b8b3-76877c4988bd"
      },
      "id": "jtqw7NNEye8S",
      "execution_count": null,
      "outputs": [
        {
          "output_type": "stream",
          "name": "stdout",
          "text": [
            "9\n"
          ]
        }
      ]
    },
    {
      "cell_type": "code",
      "source": [
        "x = '113311'\n",
        "z = ''\n",
        "for i in x:\n",
        "  z = i + z\n",
        "if(x == z ):\n",
        "     print(\"yhi hai \",x,\" palindrome\")\n",
        "else:\n",
        "     print(\"ye nhi hai \",x,\" palindrome\")"
      ],
      "metadata": {
        "id": "Cw_QVKc6ye3q",
        "colab": {
          "base_uri": "https://localhost:8080/"
        },
        "outputId": "f7752b25-a123-441e-96e4-408284b520be"
      },
      "id": "Cw_QVKc6ye3q",
      "execution_count": null,
      "outputs": [
        {
          "output_type": "stream",
          "name": "stdout",
          "text": [
            "yhi hai  113311  palindrome\n"
          ]
        }
      ]
    },
    {
      "cell_type": "code",
      "source": [
        "x = \"121\"\n",
        "z = ''\n",
        "for i in x:\n",
        "    z = i + z\n",
        "if(x == z):\n",
        "   print(\"yh hai bhai\",x,\" palindrome\")\n",
        "else:\n",
        "   print(\"ye nhi hai bhai \",x,\"palindrome\")"
      ],
      "metadata": {
        "id": "4XkIiqH6ye0v",
        "colab": {
          "base_uri": "https://localhost:8080/"
        },
        "outputId": "c5e3afd4-b3c6-4b53-9a73-cf4c5f3c1dfb"
      },
      "id": "4XkIiqH6ye0v",
      "execution_count": null,
      "outputs": [
        {
          "output_type": "stream",
          "name": "stdout",
          "text": [
            "yh hai bhai 121  palindrome\n"
          ]
        }
      ]
    },
    {
      "cell_type": "code",
      "source": [
        "#Reverse the no"
      ],
      "metadata": {
        "id": "oNUpmxo3yeyc"
      },
      "id": "oNUpmxo3yeyc",
      "execution_count": null,
      "outputs": []
    },
    {
      "cell_type": "code",
      "source": [
        "x='232323'\n",
        "z=''\n",
        "for i in x:\n",
        "  z=i+z\n",
        "print(z)"
      ],
      "metadata": {
        "id": "OvTxLm7Lyet8",
        "colab": {
          "base_uri": "https://localhost:8080/"
        },
        "outputId": "4285c723-efd3-42b4-dedc-8475d45ef3a0"
      },
      "id": "OvTxLm7Lyet8",
      "execution_count": null,
      "outputs": [
        {
          "output_type": "stream",
          "name": "stdout",
          "text": [
            "323232\n"
          ]
        }
      ]
    },
    {
      "cell_type": "code",
      "source": [
        "#reverse the string"
      ],
      "metadata": {
        "id": "KLA661XdHRvc"
      },
      "id": "KLA661XdHRvc",
      "execution_count": null,
      "outputs": []
    },
    {
      "cell_type": "code",
      "source": [
        "shi = int(input(\"enter a number\"))\n",
        "shi = str(shi)\n",
        "string_length = len(shi)\n",
        "x = 0\n",
        "for i in shi:\n",
        "    x += int(i)**string_length\n",
        "if x == int(shi):\n",
        "    print(\"ha hai\",shi,\" ek amstrong number.\")\n",
        "else:\n",
        "    print(\"nhi \",shi,\" nhi hai  Amstrong number.\")"
      ],
      "metadata": {
        "id": "hkG8EauAyerW",
        "colab": {
          "base_uri": "https://localhost:8080/"
        },
        "outputId": "9ea0e860-0647-4a87-ae53-e9d46d2653cd"
      },
      "id": "hkG8EauAyerW",
      "execution_count": null,
      "outputs": [
        {
          "output_type": "stream",
          "name": "stdout",
          "text": [
            "enter a number153\n",
            "ha hai 153  ek amstrong number.\n"
          ]
        }
      ]
    },
    {
      "cell_type": "code",
      "source": [
        "user_input = input()\n",
        "\n",
        "digits = 0\n",
        "letters = 0\n",
        "for i in user_input:\n",
        "    if i.isdigit():\n",
        "        digits=digits+1\n",
        "    elif i.isalpha():\n",
        "        letters=letters+1\n",
        "\n",
        "print(\" The input string\",user_input, \"has\", letters, \"letters and\", digits,\"digits.\")"
      ],
      "metadata": {
        "id": "kTL2CFyP6QfW",
        "colab": {
          "base_uri": "https://localhost:8080/"
        },
        "outputId": "35b29891-5f98-4009-d947-217731a4992c"
      },
      "id": "kTL2CFyP6QfW",
      "execution_count": null,
      "outputs": [
        {
          "output_type": "stream",
          "name": "stdout",
          "text": [
            "\"anil3\",\"aman567\"\n",
            " The input string \"anil3\",\"aman567\" has 8 letters and 4 digits.\n"
          ]
        }
      ]
    },
    {
      "cell_type": "code",
      "source": [
        "x = input()\n",
        "\n",
        "y = 0\n",
        "z = 0\n",
        "for i in x:\n",
        "    if i.isdigit():\n",
        "        y=y+1\n",
        "    elif i.isalpha():\n",
        "        z=z+1\n",
        "\n",
        "print(\" The input string\",x, \"has\", z, \"letters and\", y,\"digits.\")"
      ],
      "metadata": {
        "colab": {
          "base_uri": "https://localhost:8080/"
        },
        "id": "449k5XZgmn9x",
        "outputId": "006032ba-8187-4ba3-ef0d-eb2018b6370f"
      },
      "id": "449k5XZgmn9x",
      "execution_count": null,
      "outputs": [
        {
          "output_type": "stream",
          "name": "stdout",
          "text": [
            "\"anil3\",\"aman567\"\n",
            " The input string \"anil3\",\"aman567\" has 8 letters and 4 digits.\n"
          ]
        }
      ]
    },
    {
      "cell_type": "code",
      "source": [
        "x= 5\n",
        "c = 1\n",
        "for i in range(1, x + 1):\n",
        "    c = c * i\n",
        "print(\"The factorial of \", x, \" is \", c)"
      ],
      "metadata": {
        "id": "Xzd-Dter6QZn",
        "colab": {
          "base_uri": "https://localhost:8080/"
        },
        "outputId": "10ed3126-e45a-49ad-d007-6aecd0f28b2d"
      },
      "id": "Xzd-Dter6QZn",
      "execution_count": null,
      "outputs": [
        {
          "output_type": "stream",
          "name": "stdout",
          "text": [
            "The factorial of  5  is  120\n"
          ]
        }
      ]
    },
    {
      "cell_type": "code",
      "source": [
        "i= int(input(\"enter a number \"))\n",
        "for x in range(2,i):\n",
        "  if i % x == 0:\n",
        "    print(\"This is not prime\")\n",
        "    break\n",
        "else:\n",
        "    print(\"This is prime\")"
      ],
      "metadata": {
        "id": "RyIhIxrjErTu",
        "colab": {
          "base_uri": "https://localhost:8080/"
        },
        "outputId": "7327cfc1-0fc6-421e-a4ab-c9332dbd18ec"
      },
      "id": "RyIhIxrjErTu",
      "execution_count": null,
      "outputs": [
        {
          "output_type": "stream",
          "name": "stdout",
          "text": [
            "enter a number 888257\n",
            "This is prime\n"
          ]
        }
      ]
    },
    {
      "cell_type": "code",
      "source": [],
      "metadata": {
        "id": "XRu-ZZqd7TDs"
      },
      "id": "XRu-ZZqd7TDs",
      "execution_count": null,
      "outputs": []
    },
    {
      "cell_type": "code",
      "source": [],
      "metadata": {
        "id": "RxulQXvcCjz-"
      },
      "id": "RxulQXvcCjz-",
      "execution_count": null,
      "outputs": []
    },
    {
      "cell_type": "code",
      "source": [],
      "metadata": {
        "id": "YadI2hddCjw5"
      },
      "id": "YadI2hddCjw5",
      "execution_count": null,
      "outputs": []
    },
    {
      "cell_type": "code",
      "source": [],
      "metadata": {
        "id": "0SdldNTMCjsw"
      },
      "id": "0SdldNTMCjsw",
      "execution_count": null,
      "outputs": []
    },
    {
      "cell_type": "markdown",
      "source": [
        "# **While loop**"
      ],
      "metadata": {
        "id": "Kizf3v7WEenN"
      },
      "id": "Kizf3v7WEenN"
    },
    {
      "cell_type": "code",
      "source": [
        "# While loop is a conftional loop that will repeat the instructions within itself as long as a condtiotional remains true,when condition got false it stops"
      ],
      "metadata": {
        "id": "3aNPPGNirKro"
      },
      "id": "3aNPPGNirKro",
      "execution_count": null,
      "outputs": []
    },
    {
      "cell_type": "code",
      "source": [
        "# General formula of while loop  while <logical expression>\n",
        "#                                loop-body"
      ],
      "metadata": {
        "id": "uYy1aIrlrOuk"
      },
      "id": "uYy1aIrlrOuk",
      "execution_count": null,
      "outputs": []
    },
    {
      "cell_type": "code",
      "source": [
        "name= input(\"enter a name\")\n",
        "while name==\"\":\n",
        "  print(\"You din't enter a name\")\n",
        "  name= input(\"enter a name : \")\n",
        "  print(f'Hello  { name}')"
      ],
      "metadata": {
        "id": "m1S-WY8MrdGr",
        "colab": {
          "base_uri": "https://localhost:8080/"
        },
        "outputId": "6d027d17-f65c-4f21-efb0-00a4acaa76a0"
      },
      "id": "m1S-WY8MrdGr",
      "execution_count": null,
      "outputs": [
        {
          "output_type": "stream",
          "name": "stdout",
          "text": [
            "enter a name\n",
            "You din't enter a name\n",
            "enter a name : \n",
            "Hello  \n",
            "You din't enter a name\n",
            "enter a name : \n",
            "Hello  \n",
            "You din't enter a name\n",
            "enter a name : \n",
            "Hello  \n",
            "You din't enter a name\n",
            "enter a name : Suman\n",
            "Hello  Suman\n"
          ]
        }
      ]
    },
    {
      "cell_type": "code",
      "source": [
        "# iteration refers to repetation of a set of statement for a sequence of a values or as long as a condition is true"
      ],
      "metadata": {
        "id": "yRkXcOqWrgc_"
      },
      "id": "yRkXcOqWrgc_",
      "execution_count": null,
      "outputs": []
    },
    {
      "cell_type": "code",
      "source": [
        "z=0\n",
        "while z<15:\n",
        "    z+=2\n",
        "    print(z)"
      ],
      "metadata": {
        "id": "N5b-pxCCO4TT"
      },
      "id": "N5b-pxCCO4TT",
      "execution_count": null,
      "outputs": []
    },
    {
      "cell_type": "code",
      "source": [
        "z=0\n",
        "while z<15:\n",
        "    print(z)\n",
        "    z+=2\n"
      ],
      "metadata": {
        "id": "ZP_pvT6vO4RV",
        "colab": {
          "base_uri": "https://localhost:8080/"
        },
        "outputId": "168709e8-ac39-4c98-fde6-e6a9cbb654ce"
      },
      "id": "ZP_pvT6vO4RV",
      "execution_count": null,
      "outputs": [
        {
          "output_type": "stream",
          "name": "stdout",
          "text": [
            "0\n",
            "2\n",
            "4\n",
            "6\n",
            "8\n",
            "10\n",
            "12\n",
            "14\n"
          ]
        }
      ]
    },
    {
      "cell_type": "code",
      "source": [
        "  y=0\n",
        "  while y<=10:\n",
        "    print(y)\n",
        "    y+=2"
      ],
      "metadata": {
        "id": "6S5Aif9kO4K5",
        "colab": {
          "base_uri": "https://localhost:8080/"
        },
        "outputId": "a1144e9c-6d76-4029-d7b6-f9cbc3b9e37d"
      },
      "id": "6S5Aif9kO4K5",
      "execution_count": null,
      "outputs": [
        {
          "metadata": {
            "tags": null
          },
          "name": "stdout",
          "output_type": "stream",
          "text": [
            "0\n",
            "2\n",
            "4\n",
            "6\n",
            "8\n",
            "10\n"
          ]
        }
      ]
    },
    {
      "cell_type": "code",
      "source": [
        "  y=1\n",
        "  while y<=10:\n",
        "    print(y)\n",
        "    y+=2"
      ],
      "metadata": {
        "id": "AZ0y-ky8O3_H",
        "colab": {
          "base_uri": "https://localhost:8080/"
        },
        "outputId": "74725084-6427-4d0f-f919-75366b55531d"
      },
      "id": "AZ0y-ky8O3_H",
      "execution_count": null,
      "outputs": [
        {
          "output_type": "stream",
          "name": "stdout",
          "text": [
            "1\n",
            "3\n",
            "5\n",
            "7\n",
            "9\n"
          ]
        }
      ]
    },
    {
      "cell_type": "code",
      "source": [
        "x=1\n",
        "y=0\n",
        "while (x<=10):\n",
        "  y=y+x\n",
        "  x=x+1\n",
        "print(y)"
      ],
      "metadata": {
        "id": "XgY8iDhGO35Q",
        "colab": {
          "base_uri": "https://localhost:8080/"
        },
        "outputId": "230b1dca-6d3b-4d99-c4ea-e302de47a315"
      },
      "id": "XgY8iDhGO35Q",
      "execution_count": null,
      "outputs": [
        {
          "output_type": "stream",
          "name": "stdout",
          "text": [
            "55\n"
          ]
        }
      ]
    },
    {
      "cell_type": "code",
      "source": [
        "n=int(input(\"enter a number \"))\n",
        "y=1\n",
        "x=0\n",
        "while (y<=n):\n",
        "  y=y+x\n",
        "  x=x+1\n",
        "print(y)"
      ],
      "metadata": {
        "id": "8CgA5I-kO310",
        "colab": {
          "base_uri": "https://localhost:8080/"
        },
        "outputId": "1b98d453-291b-4424-e478-5aff04e0363d"
      },
      "id": "8CgA5I-kO310",
      "execution_count": null,
      "outputs": [
        {
          "output_type": "stream",
          "name": "stdout",
          "text": [
            "enter a number 3\n",
            "4\n"
          ]
        }
      ]
    },
    {
      "cell_type": "code",
      "source": [
        "x=1\n",
        "while x<10:\n",
        "  print(x)\n",
        "  if x>5:\n",
        "    break\n",
        "  x+=1"
      ],
      "metadata": {
        "id": "Jw04jsHTO3y9",
        "colab": {
          "base_uri": "https://localhost:8080/"
        },
        "outputId": "ba0ff214-a92e-4041-ca6a-eabe614c48a0"
      },
      "id": "Jw04jsHTO3y9",
      "execution_count": null,
      "outputs": [
        {
          "output_type": "stream",
          "name": "stdout",
          "text": [
            "1\n",
            "2\n",
            "3\n",
            "4\n",
            "5\n",
            "6\n"
          ]
        }
      ]
    },
    {
      "cell_type": "code",
      "source": [
        "x=1\n",
        "while x<10:\n",
        "  x+=1\n",
        "  if x==5:\n",
        "   continue\n",
        "  elif x==8:\n",
        "    continue\n",
        "  print(x)"
      ],
      "metadata": {
        "id": "QGpeew1ZO3wP"
      },
      "id": "QGpeew1ZO3wP",
      "execution_count": null,
      "outputs": []
    },
    {
      "cell_type": "code",
      "source": [
        "n=int(input(\"Enter a number\"))\n",
        "x= 1\n",
        "for i in range(1, n+1):\n",
        " x=x * i\n",
        "print(x)"
      ],
      "metadata": {
        "id": "40KZZvmEBszw",
        "colab": {
          "base_uri": "https://localhost:8080/"
        },
        "outputId": "d566ed69-2bc9-48da-d033-8dd44a677d6c"
      },
      "id": "40KZZvmEBszw",
      "execution_count": null,
      "outputs": [
        {
          "output_type": "stream",
          "name": "stdout",
          "text": [
            "Enter a number4\n",
            "24\n"
          ]
        }
      ]
    },
    {
      "cell_type": "code",
      "source": [
        "i= int(input(\"enter a number \"))\n",
        "for x in range(2,i):\n",
        "  if i % x == 0:\n",
        "    print(\"This is not prime\")\n",
        "    break\n",
        "else:\n",
        "    print(\"This is prime\")"
      ],
      "metadata": {
        "id": "_x9BIFYRDmYk",
        "colab": {
          "base_uri": "https://localhost:8080/"
        },
        "outputId": "c871374a-cd75-4b35-e3c7-bf5897c94e81"
      },
      "id": "_x9BIFYRDmYk",
      "execution_count": null,
      "outputs": [
        {
          "output_type": "stream",
          "name": "stdout",
          "text": [
            "enter a number 8\n",
            "This is not prime\n"
          ]
        }
      ]
    },
    {
      "cell_type": "code",
      "source": [
        "num=int(input(\"enter a number\"))\n",
        "rev=0                             #rev 0 isliye le rhe hai taki vo no hi aaye agr 0 ke alawa kuch lenge to vo bhi add ho jayega\n",
        "while(num>0):                    #while loop taki jb tk true hai tb tk code run kre uske baad end ho jaye\n",
        "  rev= (rev*10)+num%10\n",
        "  num=num//10\n",
        "  print(\"reverse no is \", rev)"
      ],
      "metadata": {
        "id": "CtdNPAGjCUYV",
        "outputId": "a4aaf553-2ff7-4162-9dcd-e7425f1b9a18",
        "colab": {
          "base_uri": "https://localhost:8080/"
        }
      },
      "id": "CtdNPAGjCUYV",
      "execution_count": null,
      "outputs": [
        {
          "output_type": "stream",
          "name": "stdout",
          "text": [
            "enter a number234\n",
            "reverse no is  4\n",
            "reverse no is  43\n",
            "reverse no is  432\n"
          ]
        }
      ]
    },
    {
      "cell_type": "code",
      "source": [
        "n= int(input(\"enter a number\"))\n",
        "x=n\n",
        "sum=0\n",
        "while(n>0):\n",
        "  sum=sum+(n%10)*(n%10)*(n%10)\n",
        "  n=n//10\n",
        "if x==sum:\n",
        "   print(\"yes\")\n",
        "else:\n",
        "   print(\"no\")"
      ],
      "metadata": {
        "colab": {
          "base_uri": "https://localhost:8080/"
        },
        "id": "cxw9-HmnEDsy",
        "outputId": "d285924c-20e5-4ee5-c61e-979a4bc5f7ff"
      },
      "id": "cxw9-HmnEDsy",
      "execution_count": null,
      "outputs": [
        {
          "output_type": "stream",
          "name": "stdout",
          "text": [
            "enter a number153\n",
            "yes\n"
          ]
        }
      ]
    },
    {
      "cell_type": "code",
      "source": [
        "n=int(input(\"enter a number\"))\n",
        "for i in range(1,n+1):\n",
        "  for j in range(1,i+1):\n",
        "    print(\"*\",end=\" \")\n",
        "  print()"
      ],
      "metadata": {
        "colab": {
          "base_uri": "https://localhost:8080/"
        },
        "id": "Lefre1F1HeZO",
        "outputId": "4e36ea5d-4d88-44c6-b446-d4dea91cfa33"
      },
      "id": "Lefre1F1HeZO",
      "execution_count": null,
      "outputs": [
        {
          "output_type": "stream",
          "name": "stdout",
          "text": [
            "enter a number5\n",
            "* \n",
            "* * \n",
            "* * * \n",
            "* * * * \n",
            "* * * * * \n"
          ]
        }
      ]
    },
    {
      "cell_type": "code",
      "source": [],
      "metadata": {
        "id": "wPGd01uzHdWH"
      },
      "id": "wPGd01uzHdWH",
      "execution_count": null,
      "outputs": []
    },
    {
      "cell_type": "code",
      "source": [],
      "metadata": {
        "id": "qIPVkfL0HdRh"
      },
      "id": "qIPVkfL0HdRh",
      "execution_count": null,
      "outputs": []
    },
    {
      "cell_type": "markdown",
      "source": [
        "#**Nested loop**"
      ],
      "metadata": {
        "id": "E2lW1Fe5tngJ"
      },
      "id": "E2lW1Fe5tngJ"
    },
    {
      "cell_type": "code",
      "source": [
        "a = [1,2,3]\n",
        "b = [\"Google\", \"Meta\", \"Fujitsu\"]\n",
        "for x in a:\n",
        " for y in b:\n",
        "  print(x, y)"
      ],
      "metadata": {
        "id": "W5Urw8jV70fm",
        "colab": {
          "base_uri": "https://localhost:8080/"
        },
        "outputId": "a42f595c-c639-4cad-f545-188663344dfa"
      },
      "id": "W5Urw8jV70fm",
      "execution_count": null,
      "outputs": [
        {
          "output_type": "stream",
          "name": "stdout",
          "text": [
            "1 Google\n",
            "1 Meta\n",
            "1 Fujitsu\n",
            "2 Google\n",
            "2 Meta\n",
            "2 Fujitsu\n",
            "3 Google\n",
            "3 Meta\n",
            "3 Fujitsu\n"
          ]
        }
      ]
    },
    {
      "cell_type": "markdown",
      "source": [
        "# Def function"
      ],
      "metadata": {
        "id": "idaypTULzwjo"
      },
      "id": "idaypTULzwjo"
    },
    {
      "cell_type": "code",
      "source": [],
      "metadata": {
        "id": "lX1JkTjqu9Wm"
      },
      "id": "lX1JkTjqu9Wm",
      "execution_count": null,
      "outputs": []
    }
  ],
  "metadata": {
    "kernelspec": {
      "display_name": "Python 3 (ipykernel)",
      "language": "python",
      "name": "python3"
    },
    "language_info": {
      "codemirror_mode": {
        "name": "ipython",
        "version": 3
      },
      "file_extension": ".py",
      "mimetype": "text/x-python",
      "name": "python",
      "nbconvert_exporter": "python",
      "pygments_lexer": "ipython3",
      "version": "3.12.4"
    },
    "colab": {
      "provenance": []
    }
  },
  "nbformat": 4,
  "nbformat_minor": 5
}