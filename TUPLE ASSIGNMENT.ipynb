{
 "cells": [
  {
   "cell_type": "code",
   "execution_count": 1,
   "id": "3671c578-4eb7-4e5d-8ba5-ced9d1bd6a09",
   "metadata": {},
   "outputs": [
    {
     "name": "stdout",
     "output_type": "stream",
     "text": [
      "Size of the tuple: 5\n"
     ]
    }
   ],
   "source": [
    "# 1.Python program to Find the size of a Tuple\n",
    "\n",
    "t1 = (1, 2, 3, 4, 5)\n",
    "\n",
    "size_of_tuple = len(t1)\n",
    "\n",
    "print(\"Size of the tuple:\", size_of_tuple)\n"
   ]
  },
  {
   "cell_type": "code",
   "execution_count": 1,
   "id": "97661b5d-53d6-45e0-aeae-3700e240d068",
   "metadata": {},
   "outputs": [
    {
     "name": "stdout",
     "output_type": "stream",
     "text": [
      "Maximum K elements: [99, 45]\n",
      "Minimum K elements: [4, 10]\n"
     ]
    }
   ],
   "source": [
    "# 2.Python – Maximum and Minimum K elements in Tuple\n",
    "\n",
    "t1 = (10, 20, 4, 45, 99)\n",
    "\n",
    "K = 2\n",
    "\n",
    "max_k_elements = sorted(t1, reverse=True)[:K]\n",
    "min_k_elements = sorted(t1)[:K]\n",
    "\n",
    "print(\"Maximum K elements:\", max_k_elements)\n",
    "print(\"Minimum K elements:\", min_k_elements)\n"
   ]
  },
  {
   "cell_type": "code",
   "execution_count": 3,
   "id": "75af1940-8037-45d9-b712-8fd9191f598d",
   "metadata": {},
   "outputs": [
    {
     "name": "stdout",
     "output_type": "stream",
     "text": [
      "List of tuples with number and its cube: [(1, 1), (2, 8), (3, 27), (4, 64), (5, 125)]\n"
     ]
    }
   ],
   "source": [
    "# 3.Create a list of tuples from given list having number and its cube in each tuple\n",
    "\n",
    "numbers = [1, 2, 3, 4, 5]\n",
    "\n",
    "tuple_list = [(num, num ** 3) for num in numbers]\n",
    "\n",
    "print(\"List of tuples with number and its cube:\", tuple_list)\n"
   ]
  },
  {
   "cell_type": "code",
   "execution_count": 5,
   "id": "db72f5b1-f80c-4d72-8e39-716a224f10a1",
   "metadata": {},
   "outputs": [
    {
     "name": "stdout",
     "output_type": "stream",
     "text": [
      "List after adding tuple: [1, 2, 3, 4]\n",
      "New tuple after adding element: (1, 2, 3, 4)\n"
     ]
    }
   ],
   "source": [
    "# 4.Python – Adding Tuple to List and vice – versa\t\n",
    "\n",
    "t1_tuple = (1, 2, 3)\n",
    "\n",
    "t1_list = list(t1_tuple)\n",
    "\n",
    "t1_list.append(4)\n",
    "new_tuple = tuple(t1_list)\n",
    "\n",
    "print(\"List after adding tuple:\", t1_list)\n",
    "print(\"New tuple after adding element:\", new_tuple)\n"
   ]
  },
  {
   "cell_type": "code",
   "execution_count": 7,
   "id": "e5985387-7bf3-4630-964b-9f6a67d1e2e6",
   "metadata": {},
   "outputs": [
    {
     "name": "stdout",
     "output_type": "stream",
     "text": [
      "Sum of tuple elements: 15\n"
     ]
    }
   ],
   "source": [
    "# 5.Python – Sum of tuple elements\n",
    "\n",
    "t1 = (1, 2, 3, 4, 5)\n",
    "\n",
    "sum_of_elements = sum(t1)\n",
    "\n",
    "print(\"Sum of tuple elements:\", sum_of_elements)\n"
   ]
  },
  {
   "cell_type": "code",
   "execution_count": 9,
   "id": "825739e7-8275-4285-b2af-59af29b8e375",
   "metadata": {},
   "outputs": [
    {
     "name": "stdout",
     "output_type": "stream",
     "text": [
      "Modulo of tuple elements: (1, 2, 0, 1, 2)\n"
     ]
    }
   ],
   "source": [
    "# 6.Python – Modulo of tuple elements\n",
    "\n",
    "t1 = (10, 20, 30, 40, 50)\n",
    "\n",
    "modulo_result = tuple(x % 3 for x in t1)\n",
    "\n",
    "print(\"Modulo of tuple elements:\", modulo_result)\n"
   ]
  },
  {
   "cell_type": "code",
   "execution_count": 7,
   "id": "a555a552-1ca9-4f2b-be85-fab07ff55113",
   "metadata": {},
   "outputs": [
    {
     "name": "stdout",
     "output_type": "stream",
     "text": [
      "Row-wise element addition: (6, 15, 24)\n"
     ]
    }
   ],
   "source": [
    "# 7.Python – Row-wise element Addition in Tuple Matrix\n",
    "\n",
    "tuple_matrix = ((1, 2, 3), (4, 5, 6), (7, 8, 9))\n",
    "\n",
    "row_sums = tuple(sum(row) for row in tuple_matrix)\n",
    "\n",
    "print(\"Row-wise element addition:\", row_sums)\n",
    "                               "
   ]
  },
  {
   "cell_type": "code",
   "execution_count": 8,
   "id": "fa42d91f-7ae7-4dd7-a1ee-a0daf077a71d",
   "metadata": {},
   "outputs": [
    {
     "name": "stdout",
     "output_type": "stream",
     "text": [
      "Updated tuple list: [(2, 3), (4, 5), (6, 7)]\n"
     ]
    }
   ],
   "source": [
    "# 8.Python – Update each element in tuple list\n",
    "\n",
    "tuple_list = [(1, 2), (3, 4), (5, 6)]\n",
    "\n",
    "updated_list = [tuple(x + 1 for x in tpl) for tpl in tuple_list]\n",
    "\n",
    "print(\"Updated tuple list:\", updated_list)\n"
   ]
  },
  {
   "cell_type": "code",
   "execution_count": 13,
   "id": "ff37ccf4-b6ef-4701-92c4-c953d446dfaa",
   "metadata": {},
   "outputs": [
    {
     "name": "stdout",
     "output_type": "stream",
     "text": [
      "Product of adjacent elements: (2, 6, 12)\n"
     ]
    }
   ],
   "source": [
    "# 9.Python – Multiply Adjacent elements\n",
    "\n",
    "t1 = (1, 2, 3, 4)\n",
    "\n",
    "multiplied_list = tuple(t1[i] * t1[i + 1] for i in range(len(t1) - 1))\n",
    "\n",
    "print(\"Product of adjacent elements:\", multiplied_list)\n"
   ]
  },
  {
   "cell_type": "code",
   "execution_count": 10,
   "id": "dd2248aa-7a3a-4db2-bd2f-b64bc0bf1363",
   "metadata": {},
   "outputs": [
    {
     "name": "stdout",
     "output_type": "stream",
     "text": [
      "Joined tuples with similar initial element: ((1, 2, 3), (2, 4), (3, 5))\n"
     ]
    }
   ],
   "source": [
    "# 10.Python – Join Tuples if similar initial element\n",
    "\n",
    "tuple_list = [(1, 2), (1, 3), (2, 4), (3, 5)]\n",
    "\n",
    "joined_dict = {}\n",
    "for tpl in tuple_list:\n",
    "    joined_dict.setdefault(tpl[0], []).append(tpl[1])\n",
    "\n",
    "joined_tuples = tuple((k, *v) for k, v in joined_dict.items())\n",
    "\n",
    "print(\"Joined tuples with similar initial element:\", joined_tuples)\n"
   ]
  },
  {
   "cell_type": "code",
   "execution_count": 11,
   "id": "21014913-4993-423b-afd4-2eb5e2e06b20",
   "metadata": {},
   "outputs": [
    {
     "name": "stdout",
     "output_type": "stream",
     "text": [
      "All pair combinations of the tuples: ((1, 3), (1, 4), (2, 3), (2, 4))\n"
     ]
    }
   ],
   "source": [
    "# 11.Python – All pair combinations of 2 tuples\n",
    "\n",
    "from itertools import product\n",
    "\n",
    "tuple1 = (1, 2)\n",
    "tuple2 = (3, 4)\n",
    "\n",
    "combinations = tuple(product(tuple1, tuple2))\n",
    "\n",
    "print(\"All pair combinations of the tuples:\", combinations)\n"
   ]
  },
  {
   "cell_type": "code",
   "execution_count": 12,
   "id": "85282b0d-ac45-40ac-9448-1a41d4739e92",
   "metadata": {},
   "outputs": [
    {
     "name": "stdout",
     "output_type": "stream",
     "text": [
      "Tuples after removing those of length K: [(3, 4, 5), (6,), (7, 8, 9, 10)]\n"
     ]
    }
   ],
   "source": [
    "# 12.Python – Remove Tuples of Length K\n",
    "\n",
    "tuple_list = [(1, 2), (3, 4, 5), (6,), (7, 8, 9, 10)]\n",
    "\n",
    "K = 2\n",
    "\n",
    "\n",
    "filtered_tuples = [tpl for tpl in tuple_list if len(tpl) != K]\n",
    "\n",
    "print(\"Tuples after removing those of length K:\", filtered_tuples)\n"
   ]
  },
  {
   "cell_type": "code",
   "execution_count": 13,
   "id": "f3ec6ef0-ab69-444e-b615-c922dd19f9dc",
   "metadata": {},
   "outputs": [
    {
     "name": "stdout",
     "output_type": "stream",
     "text": [
      "Tuples after removing those with all elements as None: [(1, 2), (None, 3)]\n"
     ]
    }
   ],
   "source": [
    "# 13.Python – Remove Tuples from the List having every element as None\n",
    "\n",
    "tuple_list = [(None, None), (1, 2), (None, 3), (None, None, None)]\n",
    "\n",
    "filtered_tuples = [tpl for tpl in tuple_list if any(x is not None for x in tpl)]\n",
    "\n",
    "print(\"Tuples after removing those with all elements as None:\", filtered_tuples)\n"
   ]
  },
  {
   "cell_type": "code",
   "execution_count": 14,
   "id": "e542c453-6432-4775-a259-278d30200cb8",
   "metadata": {},
   "outputs": [
    {
     "name": "stdout",
     "output_type": "stream",
     "text": [
      "Sorted tuples by second item: [(2, 'a'), (1, 'b'), (3, 'c')]\n"
     ]
    }
   ],
   "source": [
    "# 14.Sort a list of tuples by second Item\n",
    "\n",
    "tuple_list = [(1, 'b'), (2, 'a'), (3, 'c')]\n",
    "\n",
    "sorted_tuples = sorted(tuple_list, key=lambda x: x[1])\n",
    "\n",
    "print(\"Sorted tuples by second item:\", sorted_tuples)\n"
   ]
  },
  {
   "cell_type": "code",
   "execution_count": 15,
   "id": "bfe947c1-188f-4f3c-9da5-bb7a18bb0b3e",
   "metadata": {},
   "outputs": [
    {
     "name": "stdout",
     "output_type": "stream",
     "text": [
      "Sorted tuples by total digits: [(12, 4), (23, 9), (5, 678)]\n"
     ]
    }
   ],
   "source": [
    "# 15.Python – Sort Tuples by Total digits\n",
    "\n",
    "tuple_list = [(12, 4), (5, 678), (23, 9)]\n",
    "\n",
    "sorted_tuples = sorted(tuple_list, key=lambda x: sum(len(str(i)) for i in x))\n",
    "\n",
    "print(\"Sorted tuples by total digits:\", sorted_tuples)\n"
   ]
  },
  {
   "cell_type": "code",
   "execution_count": 15,
   "id": "9441f242-a2d9-40e6-a6bf-cb0d601f2f82",
   "metadata": {},
   "outputs": [
    {
     "name": "stdout",
     "output_type": "stream",
     "text": [
      "Frequency of elements in the tuple: Counter({3: 3, 2: 2, 1: 1})\n"
     ]
    }
   ],
   "source": [
    "# 16.Python – Elements frequency in Tuple\n",
    "\n",
    "from collections import Counter\n",
    "\n",
    "t1 = (1, 2, 2, 3, 3, 3)\n",
    "\n",
    "element_count = Counter(t1)\n",
    "\n",
    "print(\"Frequency of elements in the tuple:\", element_count)\n"
   ]
  },
  {
   "cell_type": "code",
   "execution_count": 17,
   "id": "55463742-d579-4f79-b78b-6d3131c5e297",
   "metadata": {},
   "outputs": [
    {
     "name": "stdout",
     "output_type": "stream",
     "text": [
      "Filtered tuples within the range: [(1, 2), (3, 4, 5)]\n"
     ]
    }
   ],
   "source": [
    "# 17.Python – Filter Range Length Tuples\n",
    "\n",
    "tuple_list = [(1, 2), (3, 4, 5), (6,), (7, 8, 9, 10)]\n",
    "\n",
    "min_length = 2\n",
    "max_length = 3\n",
    "\n",
    "filtered_tuples = [tpl for tpl in tuple_list if min_length <= len(tpl) <= max_length]\n",
    "\n",
    "print(\"Filtered tuples within the range:\", filtered_tuples)\n"
   ]
  },
  {
   "cell_type": "code",
   "execution_count": 18,
   "id": "e1fbaa98-e3f7-4dff-805a-330bb00a506d",
   "metadata": {},
   "outputs": [
    {
     "name": "stdout",
     "output_type": "stream",
     "text": [
      "Tuples with their frequency: [((1, 2), 2), ((2, 3), 1), ((4, 5), 1)]\n"
     ]
    }
   ],
   "source": [
    "# 18.Python – Assign Frequency to Tuples\n",
    "\n",
    "from collections import Counter\n",
    "\n",
    "tuple_list = [(1, 2), (1, 2), (2, 3), (4, 5)]\n",
    "\n",
    "tuple_count = Counter(tuple_list)\n",
    "\n",
    "tuple_with_frequency = [(tpl, count) for tpl, count in tuple_count.items()]\n",
    "\n",
    "print(\"Tuples with their frequency:\", tuple_with_frequency)\n"
   ]
  },
  {
   "cell_type": "code",
   "execution_count": 19,
   "id": "ffd70f18-ee9c-4ec8-a2e1-8486eac4d345",
   "metadata": {},
   "outputs": [
    {
     "name": "stdout",
     "output_type": "stream",
     "text": [
      "Records with value at K index: [(4, 5, 6)]\n"
     ]
    }
   ],
   "source": [
    "# 19.Python – Records with Value at K index\n",
    "\n",
    "tuple_list = [(1, 2, 3), (4, 5, 6), (7, 8, 9)]\n",
    "\n",
    "value = 5\n",
    "K = 1\n",
    "\n",
    "records = [tpl for tpl in tuple_list if tpl[K] == value]\n",
    "\n",
    "print(\"Records with value at K index:\", records)\n"
   ]
  },
  {
   "cell_type": "code",
   "execution_count": 17,
   "id": "19a2fd8e-77e9-4b4d-9329-b0d6c05ee82e",
   "metadata": {},
   "outputs": [
    {
     "name": "stdout",
     "output_type": "stream",
     "text": [
      "Is the tuple distinct? True\n"
     ]
    }
   ],
   "source": [
    "# 20.Python – Test if tuple is distinct\n",
    "\n",
    "t1 = (1, 2, 3, 4)\n",
    "\n",
    "is_distinct = len(t1) == len(set(t1))\n",
    "\n",
    "print(\"Is the tuple distinct?\", is_distinct)\n"
   ]
  },
  {
   "cell_type": "code",
   "execution_count": 21,
   "id": "58a2aebd-563b-4865-a7e5-69fac4b70897",
   "metadata": {},
   "outputs": [
    {
     "name": "stdout",
     "output_type": "stream",
     "text": [
      "Tuples with all elements divisible by K: [(2, 4), (6, 12)]\n"
     ]
    }
   ],
   "source": [
    "# 21.Python program to find tuples which have all elements divisible by K from a list of tuples\n",
    "\n",
    "tuple_list = [(2, 4), (3, 5), (6, 12), (7, 8)]\n",
    "\n",
    "K = 2\n",
    "\n",
    "divisible_tuples = [tpl for tpl in tuple_list if all(x % K == 0 for x in tpl)]\n",
    "\n",
    "print(\"Tuples with all elements divisible by K:\", divisible_tuples)\n"
   ]
  },
  {
   "cell_type": "code",
   "execution_count": 21,
   "id": "073b4899-1b7e-4a0e-ab0a-54d097119751",
   "metadata": {},
   "outputs": [
    {
     "name": "stdout",
     "output_type": "stream",
     "text": [
      "Tuples with positive elements: [(1, 2, 3), (4, 5, 6), (7, 8, 9)]\n"
     ]
    }
   ],
   "source": [
    "# 22.Python program to find Tuples with positive elements in List of tuples\n",
    "\n",
    "def find_positive_tuples(list_of_tuples):\n",
    "    \n",
    "    positive_tuples = []\n",
    "\n",
    "    for tup in list_of_tuples:\n",
    "        \n",
    "        if all(x > 0 for x in tup):\n",
    "            positive_tuples.append(tup)\n",
    "\n",
    "    return positive_tuples\n",
    "\n",
    "# Example usage\n",
    "list_of_tuples = [(1, 2, 3), (-1, 2, 3), (4, 5, 6), (0, 2, 3), (7, 8, 9)]\n",
    "\n",
    "\n",
    "result = find_positive_tuples(list_of_tuples)\n",
    "\n",
    "\n",
    "print(\"Tuples with positive elements:\", result)"
   ]
  },
  {
   "cell_type": "code",
   "execution_count": 23,
   "id": "c7b287b3-b1ad-447f-a82e-b7cbf8110a63",
   "metadata": {},
   "outputs": [
    {
     "name": "stdout",
     "output_type": "stream",
     "text": [
      "Count of tuples in the list: Counter({(1, 2): 2, (2, 3): 1, (4, 5): 1})\n"
     ]
    }
   ],
   "source": [
    "# 23.Python – Count tuples occurrence in list of tuples\n",
    "\n",
    "from collections import Counter\n",
    "\n",
    "tuple_list = [(1, 2), (1, 2), (2, 3), (4, 5)]\n",
    "\n",
    "tuple_count = Counter(tuple_list)\n",
    "\n",
    "print(\"Count of tuples in the list:\", tuple_count)\n",
    "\n"
   ]
  },
  {
   "cell_type": "code",
   "execution_count": 23,
   "id": "6a58b4e8-026a-49ea-9ec7-0e356e6986f7",
   "metadata": {},
   "outputs": [
    {
     "name": "stdout",
     "output_type": "stream",
     "text": [
      "Tuple after removing duplicates: (1, 2, 3, 4)\n"
     ]
    }
   ],
   "source": [
    "# 24.Python – Removing duplicates from tuple\n",
    "\n",
    "t1 = (1, 2, 2, 3, 4, 4)\n",
    "\n",
    "unique_tuple = tuple(set(t1))\n",
    "\n",
    "print(\"Tuple after removing duplicates:\", unique_tuple)\n"
   ]
  },
  {
   "cell_type": "code",
   "execution_count": 25,
   "id": "484d2b71-6698-4005-b716-71299e507a73",
   "metadata": {},
   "outputs": [
    {
     "name": "stdout",
     "output_type": "stream",
     "text": [
      "List of tuples after removing duplicates (preserving order): [(1, 2), (2, 3), (3, 4)]\n"
     ]
    }
   ],
   "source": [
    "# 25.Python – Remove duplicate lists in tuples (Preserving Order)\n",
    "\n",
    "tuple_list = [(1, 2), (2, 3), (1, 2), (3, 4)]\n",
    "\n",
    "unique_list = []\n",
    "for tpl in tuple_list:\n",
    "    if tpl not in unique_list:\n",
    "        unique_list.append(tpl)\n",
    "\n",
    "print(\"List of tuples after removing duplicates (preserving order):\", unique_list)\n"
   ]
  },
  {
   "cell_type": "code",
   "execution_count": 26,
   "id": "0952a549-83f3-420d-9ae1-fe62d6aabef7",
   "metadata": {},
   "outputs": [
    {
     "name": "stdout",
     "output_type": "stream",
     "text": [
      "Extracted digits from tuple list: [1, 2, 3, 4, 5, 6]\n"
     ]
    }
   ],
   "source": [
    "# 26.Python – Extract digits from Tuple list\n",
    "\n",
    "tuple_list = [(1, 2), (3, 4), (5, 6)]\n",
    "\n",
    "digits = [num for tpl in tuple_list for num in tpl]\n",
    "\n",
    "print(\"Extracted digits from tuple list:\", digits)\n",
    "        "
   ]
  },
  {
   "cell_type": "code",
   "execution_count": 27,
   "id": "9f1c6215-f232-4e75-a63b-98391b25a11e",
   "metadata": {},
   "outputs": [
    {
     "name": "stdout",
     "output_type": "stream",
     "text": [
      "Cross pairing of tuples: [(1, 3), (1, 4), (2, 3), (2, 4)]\n"
     ]
    }
   ],
   "source": [
    "# 27.Python – Cross Pairing in Tuple List\n",
    "\n",
    "from itertools import product\n",
    "\n",
    "tuple_list = [(1, 2), (3, 4)]\n",
    "\n",
    "cross_pairing = list(product(*tuple_list))\n",
    "\n",
    "print(\"Cross pairing of tuples:\", cross_pairing)\n"
   ]
  },
  {
   "cell_type": "code",
   "execution_count": 28,
   "id": "c56caba9-4e39-4fdb-9e21-972fac5ecfb6",
   "metadata": {},
   "outputs": [
    {
     "name": "stdout",
     "output_type": "stream",
     "text": [
      "Consecutive Kth column differences: [3, 3]\n"
     ]
    }
   ],
   "source": [
    "# 28.Python – Consecutive Kth column Difference in Tuple List\n",
    "\n",
    "tuple_list = [(1, 2, 3), (4, 5, 6), (7, 8, 9)]\n",
    "\n",
    "K = 1\n",
    "\n",
    "differences = [tpl[K] - tuple_list[i - 1][K] for i, tpl in enumerate(tuple_list) if i > 0]\n",
    "\n",
    "print(\"Consecutive Kth column differences:\", differences)\n"
   ]
  },
  {
   "cell_type": "code",
   "execution_count": 29,
   "id": "7e2b2699-7692-4804-9530-f028d53cd1ad",
   "metadata": {},
   "outputs": [
    {
     "name": "stdout",
     "output_type": "stream",
     "text": [
      "Product of Kth column: 80\n"
     ]
    }
   ],
   "source": [
    "# 29.Python – Kth Column Product in Tuple List\n",
    "\n",
    "tuple_list = [(1, 2, 3), (4, 5, 6), (7, 8, 9)]\n",
    "\n",
    "K = 1\n",
    "\n",
    "product_kth = 1\n",
    "for tpl in tuple_list:\n",
    "    product_kth *= tpl[K]\n",
    "\n",
    "print(\"Product of Kth column:\", product_kth)\n"
   ]
  },
  {
   "cell_type": "code",
   "execution_count": 30,
   "id": "91d7ec06-e777-44a6-bd24-229a7e39cb47",
   "metadata": {},
   "outputs": [
    {
     "name": "stdout",
     "output_type": "stream",
     "text": [
      "Flattened tuple: (1, 2, 3, 4, 5, 6)\n"
     ]
    }
   ],
   "source": [
    "# 30.Python – Flatten tuple of List to tuple\n",
    "\n",
    "tuple_list = [(1, 2), (3, 4), (5, 6)]\n",
    "\n",
    "flattened_tuple = tuple(item for tpl in tuple_list for item in tpl)\n",
    "\n",
    "print(\"Flattened tuple:\", flattened_tuple)\n"
   ]
  },
  {
   "cell_type": "code",
   "execution_count": 31,
   "id": "bfab890c-19cc-4983-a3fc-e9c0a1a40286",
   "metadata": {},
   "outputs": [
    {
     "name": "stdout",
     "output_type": "stream",
     "text": [
      "Flattened string from tuples: abcd\n"
     ]
    }
   ],
   "source": [
    "# 31.Python – Flatten Tuples List to String\n",
    "\n",
    "tuple_list = [('a', 'b'), ('c', 'd')]\n",
    "\n",
    "flattened_string = ''.join(item for tpl in tuple_list for item in tpl)\n",
    "\n",
    "print(\"Flattened string from tuples:\", flattened_string)\n"
   ]
  },
  {
   "cell_type": "code",
   "execution_count": 32,
   "id": "9e36cbd3-c343-43f7-a87e-91347a8a8ed2",
   "metadata": {},
   "outputs": [
    {
     "name": "stdout",
     "output_type": "stream",
     "text": [
      "Sorted list of tuples alphabetically: [('apple', 2), ('banana', 1), ('orange', 3)]\n"
     ]
    }
   ],
   "source": [
    "# 32.Python – Flatten Tuples List to String\n",
    "\n",
    "tuple_list = [('banana', 1), ('apple', 2), ('orange', 3)]\n",
    "\n",
    "sorted_tuples = sorted(tuple_list, key=lambda x: x[0])\n",
    "\n",
    "print(\"Sorted list of tuples alphabetically:\", sorted_tuples)\n"
   ]
  },
  {
   "cell_type": "code",
   "execution_count": 33,
   "id": "74438e1f-d22d-41ea-ab14-a784fbf4c914",
   "metadata": {},
   "outputs": [
    {
     "name": "stdout",
     "output_type": "stream",
     "text": [
      "Combinations of sum with tuples: [3, 7]\n"
     ]
    }
   ],
   "source": [
    "# 33.Python – Combinations of sum with tuples in tuple list\n",
    "\n",
    "tuple_list = [(1, 2), (3, 4)]\n",
    "\n",
    "\n",
    "combinations_sum = [sum(tpl) for tpl in tuple_list]\n",
    "\n",
    "print(\"Combinations of sum with tuples:\", combinations_sum)\n"
   ]
  },
  {
   "cell_type": "code",
   "execution_count": 34,
   "id": "88e5d242-cb17-4d59-bef1-fcf6def15de6",
   "metadata": {},
   "outputs": [
    {
     "name": "stdout",
     "output_type": "stream",
     "text": [
      "Custom sorted tuples: [(2, 'a'), (1, 'b'), (3, 'c')]\n"
     ]
    }
   ],
   "source": [
    "# 34.Python – Custom sorting in list of tuples\n",
    "\n",
    "tuple_list = [(1, 'b'), (2, 'a'), (3, 'c')]\n",
    "\n",
    "sorted_tuples = sorted(tuple_list, key=lambda x: (x[1], x[0]))\n",
    "\n",
    "print(\"Custom sorted tuples:\", sorted_tuples)\n"
   ]
  }
 ],
 "metadata": {
  "kernelspec": {
   "display_name": "Python 3 (ipykernel)",
   "language": "python",
   "name": "python3"
  },
  "language_info": {
   "codemirror_mode": {
    "name": "ipython",
    "version": 3
   },
   "file_extension": ".py",
   "mimetype": "text/x-python",
   "name": "python",
   "nbconvert_exporter": "python",
   "pygments_lexer": "ipython3",
   "version": "3.12.4"
  }
 },
 "nbformat": 4,
 "nbformat_minor": 5
}
